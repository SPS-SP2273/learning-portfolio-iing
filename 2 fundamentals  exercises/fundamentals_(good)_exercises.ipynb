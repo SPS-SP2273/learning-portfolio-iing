{
 "cells": [
  {
   "attachments": {},
   "cell_type": "markdown",
   "id": "123456",
   "metadata": {},
   "source": [
    "<div style=\"text-align:left;font-size:2em\"><span style=\"font-weight:bolder;font-size:1.25em\">SP2273 | Learning Portfolio</span><br><br><span style=\"font-weight:bold;color:darkred\">Fundamentals (Good) Exercises</span></div>"
   ]
  },
  {
   "cell_type": "markdown",
   "id": "8c67e0eb-19a6-4703-b199-7332104ec64e",
   "metadata": {},
   "source": [
    "##### Step 1"
   ]
  },
  {
   "cell_type": "code",
   "execution_count": null,
   "id": "5aa0260a-9429-47a8-95ba-c761eb0b5291",
   "metadata": {},
   "outputs": [],
   "source": [
    "user_input = input('Give me a number?')\n",
    "print('You entered', user_input)"
   ]
  },
  {
   "cell_type": "markdown",
   "id": "ecf87fbd-747c-4504-9c19-c68acf163c93",
   "metadata": {},
   "source": [
    "##### Task"
   ]
  },
  {
   "cell_type": "code",
   "execution_count": 1,
   "id": "30318709-cc13-435d-b382-48cf5399c153",
   "metadata": {},
   "outputs": [
    {
     "name": "stdin",
     "output_type": "stream",
     "text": [
      "Enter the student's score: 44\n"
     ]
    },
    {
     "name": "stdout",
     "output_type": "stream",
     "text": [
      "The student's letter grade: C\n"
     ]
    }
   ],
   "source": [
    "score = int(input('Enter the student\\'s score:'))\n",
    "\n",
    "if score >= 70 :\n",
    "    print('The student\\'s letter grade:', 'A')\n",
    "elif score >=50 and score <70:\n",
    "    print('The student\\'s letter grade:', 'B')\n",
    "elif score >= 35 and score <50:\n",
    "    print('The student\\'s letter grade:', 'C')\n",
    "else:\n",
    "    print('The student\\'s letter grade:', 'Fail')"
   ]
  },
  {
   "cell_type": "code",
   "execution_count": null,
   "id": "413831d6-51c7-49bd-b836-bfeeba7822cd",
   "metadata": {},
   "outputs": [],
   "source": []
  }
 ],
 "metadata": {
  "kernelspec": {
   "display_name": "Python 3 (ipykernel)",
   "language": "python",
   "name": "python3"
  },
  "language_info": {
   "codemirror_mode": {
    "name": "ipython",
    "version": 3
   },
   "file_extension": ".py",
   "mimetype": "text/x-python",
   "name": "python",
   "nbconvert_exporter": "python",
   "pygments_lexer": "ipython3",
   "version": "3.11.7"
  },
  "toc": {
   "base_numbering": 1,
   "nav_menu": {},
   "number_sections": true,
   "sideBar": true,
   "skip_h1_title": false,
   "title_cell": "Table of Contents",
   "title_sidebar": "Contents",
   "toc_cell": false,
   "toc_position": {},
   "toc_section_display": true,
   "toc_window_display": false
  },
  "vscode": {
   "interpreter": {
    "hash": "31f2aee4e71d21fbe5cf8b01ff0e069b9275f58929596ceb00d14d90e3e16cd6"
   }
  }
 },
 "nbformat": 4,
 "nbformat_minor": 5
}
