{
 "cells": [
  {
   "attachments": {},
   "cell_type": "markdown",
   "id": "123456",
   "metadata": {},
   "source": [
    "<div style=\"text-align:left;font-size:2em\"><span style=\"font-weight:bolder;font-size:1.25em\">SP2273 | Learning Portfolio</span><br><br><span style=\"font-weight:bold;color:darkred\">Fundamentals (Need) Exercises</span></div>"
   ]
  },
  {
   "cell_type": "markdown",
   "id": "19e45be5-628f-4fc4-9ba2-45b3d1000052",
   "metadata": {},
   "source": [
    "#### Exercise 1"
   ]
  },
  {
   "cell_type": "markdown",
   "id": "1e6b7706-ba78-4c5a-8685-3f6fa1ba0d04",
   "metadata": {},
   "source": [
    "print()\n",
    "\n",
    "name = 'me'\n",
    "\n",
    "name == 'me'\n",
    "\n",
    "if name == 'me':\n",
    "    print(asleep)\n",
    "else:\n",
    "    print(alive)\n",
    "\n",
    "##### *Age can be a variable and \"age\" is English*\n",
    "*age=42*\n",
    "*print(age)*\n",
    "*print('age')*\n",
    "\n",
    "##### Brackets\n",
    "##### *Used in functions*\n",
    "##### For math\n",
    "(4+5)*1408\n",
    "##### For list\n",
    "list = [1, 2, 3, 4, 5]\n",
    "##### For dictionary\n",
    "personal_info = {\n",
    "'age'= \n",
    "'blood_type' = ''\n",
    "}\n",
    "print(dictionary['age'])\n",
    "\n",
    "import math\n",
    "math.sqrt\n",
    "import numpy as np\n",
    "np.sqrt\n",
    "*np.sqrt([4, 9, 16])*\n",
    "*array([2., 3., 4.])*\n",
    "\n",
    "'as' is for alias\n",
    "\n",
    "\"I am me\".split()"
   ]
  },
  {
   "cell_type": "markdown",
   "id": "628afdd3-4513-4eb6-9f28-a2304b718c21",
   "metadata": {},
   "source": [
    "#### Exercise 2"
   ]
  },
  {
   "cell_type": "code",
   "execution_count": 31,
   "id": "4862e01b-2df8-43b6-a82f-73a5dfd0f095",
   "metadata": {},
   "outputs": [
    {
     "name": "stdout",
     "output_type": "stream",
     "text": [
      "3 4 5\n"
     ]
    }
   ],
   "source": [
    "x, y = [3, 4]\n",
    "import math\n",
    "z = math.sqrt(x**2 + y**2)\n",
    "print(x, y, int(z))"
   ]
  },
  {
   "cell_type": "markdown",
   "id": "8e22e6d2-1b28-48c2-ac12-37ed1bb6d37d",
   "metadata": {},
   "source": [
    "#### Exercise 3"
   ]
  },
  {
   "cell_type": "markdown",
   "id": "ae32227e-7218-4823-ad9b-2e762d112850",
   "metadata": {},
   "source": [
    "|#|TERM|Description|\n",
    "|:--:|:--|:--|\n",
    "|1|Function|\"something\" that performs a specific task|\n",
    "|2|Arguments|input needed for a function to work|\n",
    "|3|Comments|text that provides explanation, and will not be interpreted|\n",
    "|4|Indentations|used to indicate the start and end of a code|\n",
    "|5|Packages|used to organise related modules into a single directory|\n",
    "|6|.|indicates ownership|\n",
    "|7|:|indicates start of an indented block|\n",
    "|8|[]|used to define a list|\n",
    "|9|[[[]]]|indicates subsets of a list|\n",
    "|10|{}|used to define a dictionary|"
   ]
  },
  {
   "cell_type": "code",
   "execution_count": 1,
   "id": "2b4d3f58-9c23-48a1-838a-3830ca123689",
   "metadata": {},
   "outputs": [
    {
     "name": "stdout",
     "output_type": "stream",
     "text": [
      "2.0\n",
      "None\n",
      "2.0\n",
      "hahaha\n",
      "None\n"
     ]
    }
   ],
   "source": [
    "#additional inquired things (please ignore)\n",
    "#what is an output\n",
    "import math\n",
    "print(math.sqrt(4))\n",
    "print([2,1,3].sort())\n",
    "x=math.sqrt(4)\n",
    "print(x)\n",
    "output = print('hahaha')\n",
    "print(output)"
   ]
  },
  {
   "cell_type": "markdown",
   "id": "0a50d248-1a2d-453f-995e-16d8326b2eeb",
   "metadata": {},
   "source": [
    "#### Exercise 4"
   ]
  },
  {
   "cell_type": "code",
   "execution_count": 27,
   "id": "12c279c7-84e4-40ef-8bc5-0bfc27bdec78",
   "metadata": {},
   "outputs": [
    {
     "data": {
      "text/plain": [
       "2.5"
      ]
     },
     "execution_count": 27,
     "metadata": {},
     "output_type": "execute_result"
    }
   ],
   "source": [
    "#division\n",
    "5/2 "
   ]
  },
  {
   "cell_type": "code",
   "execution_count": 28,
   "id": "84a32542-b617-444d-aa0f-9612c726f9a5",
   "metadata": {},
   "outputs": [
    {
     "data": {
      "text/plain": [
       "2"
      ]
     },
     "execution_count": 28,
     "metadata": {},
     "output_type": "execute_result"
    }
   ],
   "source": [
    "#floor division\n",
    "5//2"
   ]
  },
  {
   "cell_type": "code",
   "execution_count": 29,
   "id": "527644fd-5d6c-45ce-b9ad-759c3e369a15",
   "metadata": {},
   "outputs": [
    {
     "data": {
      "text/plain": [
       "1"
      ]
     },
     "execution_count": 29,
     "metadata": {},
     "output_type": "execute_result"
    }
   ],
   "source": [
    "#remainder\n",
    "5%2"
   ]
  }
 ],
 "metadata": {
  "kernelspec": {
   "display_name": "Python 3 (ipykernel)",
   "language": "python",
   "name": "python3"
  },
  "language_info": {
   "codemirror_mode": {
    "name": "ipython",
    "version": 3
   },
   "file_extension": ".py",
   "mimetype": "text/x-python",
   "name": "python",
   "nbconvert_exporter": "python",
   "pygments_lexer": "ipython3",
   "version": "3.11.7"
  },
  "toc": {
   "base_numbering": 1,
   "nav_menu": {},
   "number_sections": true,
   "sideBar": true,
   "skip_h1_title": false,
   "title_cell": "Table of Contents",
   "title_sidebar": "Contents",
   "toc_cell": false,
   "toc_position": {},
   "toc_section_display": true,
   "toc_window_display": false
  },
  "vscode": {
   "interpreter": {
    "hash": "31f2aee4e71d21fbe5cf8b01ff0e069b9275f58929596ceb00d14d90e3e16cd6"
   }
  }
 },
 "nbformat": 4,
 "nbformat_minor": 5
}
