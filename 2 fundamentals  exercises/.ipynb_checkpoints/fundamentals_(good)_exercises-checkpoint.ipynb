{
 "cells": [
  {
   "attachments": {},
   "cell_type": "markdown",
   "id": "123456",
   "metadata": {},
   "source": [
    "<div style=\"text-align:left;font-size:2em\"><span style=\"font-weight:bolder;font-size:1.25em\">SP2273 | Learning Portfolio</span><br><br><span style=\"font-weight:bold;color:darkred\">Fundamentals (Good) Exercises</span></div>"
   ]
  },
  {
   "cell_type": "markdown",
   "id": "8c67e0eb-19a6-4703-b199-7332104ec64e",
   "metadata": {},
   "source": [
    "##### Step 1"
   ]
  },
  {
   "cell_type": "code",
   "execution_count": null,
   "id": "5aa0260a-9429-47a8-95ba-c761eb0b5291",
   "metadata": {},
   "outputs": [],
   "source": [
    "user_input = input('Give me a number?')\n",
    "print('You entered', user_input)"
   ]
  },
  {
   "cell_type": "markdown",
   "id": "ecf87fbd-747c-4504-9c19-c68acf163c93",
   "metadata": {},
   "source": [
    "##### Task"
   ]
  },
  {
   "cell_type": "code",
   "execution_count": null,
   "id": "30318709-cc13-435d-b382-48cf5399c153",
   "metadata": {},
   "outputs": [],
   "source": [
    "score = input('Enter the student\\'s score:')\n",
    "x = score.isnumeric()\n",
    "\n",
    "if x is False:\n",
    "    print('Error')\n",
    "elif 70 <= score <= 100 :\n",
    "    print('The student\\'s letter grade:', 'A')\n",
    "elif 50 <= score <70:\n",
    "    print('The student\\'s letter grade:', 'B')\n",
    "elif 35 <= score <50:\n",
    "    print('The student\\'s letter grade:', 'C')\n",
    "elif 0 <= score <35:\n",
    "    print('The student\\'s letter grade:', 'Fail')\n",
    "else:\n",
    "    print('Error')"
   ]
  },
  {
   "cell_type": "code",
   "execution_count": null,
   "id": "20ed1b4d-f52d-4c76-8a4c-8fe020e2ed4d",
   "metadata": {},
   "outputs": [],
   "source": [
    "###### STUFF"
   ]
  },
  {
   "cell_type": "code",
   "execution_count": 3,
   "id": "413831d6-51c7-49bd-b836-bfeeba7822cd",
   "metadata": {},
   "outputs": [],
   "source": [
    "txt = \"twenty\"\n",
    "\n",
    "x = txt.isnumeric()\n",
    "\n",
    "print(x)"
   ]
  },
  {
   "cell_type": "code",
   "execution_count": 8,
   "id": "d759fd94-9dc9-4c22-a90b-97a9188541cb",
   "metadata": {},
   "outputs": [
    {
     "ename": "ValueError",
     "evalue": "invalid literal for int() with base 10: 'twenty'",
     "output_type": "error",
     "traceback": [
      "\u001b[0;31m---------------------------------------------------------------------------\u001b[0m",
      "\u001b[0;31mValueError\u001b[0m                                Traceback (most recent call last)",
      "Cell \u001b[0;32mIn[8], line 1\u001b[0m\n\u001b[0;32m----> 1\u001b[0m \u001b[38;5;28;43mint\u001b[39;49m\u001b[43m(\u001b[49m\u001b[38;5;124;43m'\u001b[39;49m\u001b[38;5;124;43mtwenty\u001b[39;49m\u001b[38;5;124;43m'\u001b[39;49m\u001b[43m)\u001b[49m\n",
      "\u001b[0;31mValueError\u001b[0m: invalid literal for int() with base 10: 'twenty'"
     ]
    }
   ],
   "source": [
    "int('twenty')"
   ]
  },
  {
   "cell_type": "code",
   "execution_count": 5,
   "id": "9c8d9377-2cdc-4db5-96f9-f8fdcab5791b",
   "metadata": {},
   "outputs": [],
   "source": [
    "boolean = False   # I'm assigning the boolean False to the variable named boolean"
   ]
  },
  {
   "cell_type": "code",
   "execution_count": 6,
   "id": "e08f4334-bf87-4e53-91b7-3d610187509d",
   "metadata": {},
   "outputs": [],
   "source": [
    "string = 'False'  # I'm assigning the string 'False' to the variable named string"
   ]
  },
  {
   "cell_type": "code",
   "execution_count": 7,
   "id": "dc6d83c2-35c3-45f1-a296-615f0dbd620d",
   "metadata": {},
   "outputs": [
    {
     "data": {
      "text/plain": [
       "False"
      ]
     },
     "execution_count": 7,
     "metadata": {},
     "output_type": "execute_result"
    }
   ],
   "source": [
    "boolean == string # I'm comparing the boolean False with the string 'False"
   ]
  }
 ],
 "metadata": {
  "kernelspec": {
   "display_name": "Python 3 (ipykernel)",
   "language": "python",
   "name": "python3"
  },
  "language_info": {
   "codemirror_mode": {
    "name": "ipython",
    "version": 3
   },
   "file_extension": ".py",
   "mimetype": "text/x-python",
   "name": "python",
   "nbconvert_exporter": "python",
   "pygments_lexer": "ipython3",
   "version": "3.11.7"
  },
  "toc": {
   "base_numbering": 1,
   "nav_menu": {},
   "number_sections": true,
   "sideBar": true,
   "skip_h1_title": false,
   "title_cell": "Table of Contents",
   "title_sidebar": "Contents",
   "toc_cell": false,
   "toc_position": {},
   "toc_section_display": true,
   "toc_window_display": false
  },
  "vscode": {
   "interpreter": {
    "hash": "31f2aee4e71d21fbe5cf8b01ff0e069b9275f58929596ceb00d14d90e3e16cd6"
   }
  }
 },
 "nbformat": 4,
 "nbformat_minor": 5
}
