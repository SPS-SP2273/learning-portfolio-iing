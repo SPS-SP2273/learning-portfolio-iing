{
 "cells": [
  {
   "attachments": {},
   "cell_type": "markdown",
   "id": "123456",
   "metadata": {},
   "source": [
    "<div style=\"text-align:left;font-size:2em\"><span style=\"font-weight:bolder;font-size:1.25em\">SP2273 | Learning Portfolio</span><br><br><span style=\"font-weight:bold;color:darkred\">Functions (Need)</span></div>"
   ]
  },
  {
   "attachments": {},
   "cell_type": "markdown",
   "id": "c130693b",
   "metadata": {},
   "source": [
    "# 1 User-defined functions"
   ]
  },
  {
   "attachments": {},
   "cell_type": "markdown",
   "id": "27f81725",
   "metadata": {},
   "source": [
    "## 1.1 Named Functions"
   ]
  },
  {
   "attachments": {},
   "cell_type": "markdown",
   "id": "19455293",
   "metadata": {},
   "source": [
    "### Named functions that return"
   ]
  },
  {
   "cell_type": "code",
   "execution_count": 152,
   "id": "26915420",
   "metadata": {},
   "outputs": [],
   "source": [
    "def greeting(name):\n",
    "    if name == 'Decade':\n",
    "        return 'Onore DIKEIDO!!!'\n",
    "    else:\n",
    "        return f'Who are you, {name}?'"
   ]
  },
  {
   "cell_type": "code",
   "execution_count": 153,
   "id": "ea37c890-2215-4593-aa43-0789b5b9d3fb",
   "metadata": {},
   "outputs": [
    {
     "name": "stdout",
     "output_type": "stream",
     "text": [
      "Who are you, Tsukasa?\n"
     ]
    }
   ],
   "source": [
    "output_A = greeting('Tsukasa') #no output for return as a function\n",
    "print(output_A)"
   ]
  },
  {
   "cell_type": "code",
   "execution_count": 154,
   "id": "1e2fb4ef-4c15-4172-94b7-ed628dc6d07c",
   "metadata": {},
   "outputs": [],
   "source": [
    "def greeting_again(name):\n",
    "    if name == 'Decade':\n",
    "        print('Onore DIKEIDO!!!')\n",
    "    else:\n",
    "        print(f'Who are you, {name}?')\n",
    "    return 'Henshin'"
   ]
  },
  {
   "cell_type": "code",
   "execution_count": 155,
   "id": "efbe6f82-ed90-45b1-af56-3e8f341eb9c7",
   "metadata": {},
   "outputs": [
    {
     "name": "stdout",
     "output_type": "stream",
     "text": [
      "Who are you, Tsukasa?\n",
      "Henshin\n"
     ]
    }
   ],
   "source": [
    "output_B = greeting_again('Tsukasa')\n",
    "print(output_B)"
   ]
  },
  {
   "cell_type": "code",
   "execution_count": 156,
   "id": "f2411a1d-fcd8-4a6f-9932-369a5ed68326",
   "metadata": {},
   "outputs": [
    {
     "name": "stdout",
     "output_type": "stream",
     "text": [
      "Who are you, Tsukasa? Henshin\n"
     ]
    }
   ],
   "source": [
    "print(output_A, output_B)"
   ]
  },
  {
   "cell_type": "code",
   "execution_count": 157,
   "id": "aa5acc55-9c11-4f1d-ac0e-7f1353e5b902",
   "metadata": {},
   "outputs": [],
   "source": [
    "###Multiple values\n",
    "import numpy as np\n",
    "##able to import own defined functions"
   ]
  },
  {
   "cell_type": "code",
   "execution_count": 158,
   "id": "28a8a9b5-d9a1-4038-a6f6-d46403bc0f86",
   "metadata": {},
   "outputs": [],
   "source": [
    "def basic_stats(numbers):\n",
    "    np_numbers = np.array(numbers)\n",
    "    my_min = np_numbers.min()\n",
    "    my_max = np_numbers.max()\n",
    "    my_mean = np_numbers.mean()\n",
    "    my_sum = np_numbers.sum()\n",
    "    return my_min, my_max, my_sum"
   ]
  },
  {
   "cell_type": "code",
   "execution_count": 159,
   "id": "767b0308-d3c9-4c8c-bb81-7fc79d48e5c6",
   "metadata": {},
   "outputs": [
    {
     "data": {
      "text/plain": [
       "(1, 8128, 8659)"
      ]
     },
     "execution_count": 159,
     "metadata": {},
     "output_type": "execute_result"
    }
   ],
   "source": [
    "basic_stats([1, 6, 28, 496, 8128])"
   ]
  },
  {
   "cell_type": "code",
   "execution_count": 161,
   "id": "5e157bcc-e0d1-4e5c-bd76-59b174d991cb",
   "metadata": {},
   "outputs": [],
   "source": [
    "list_min, list_max, list_sum = basic_stats([1, 6, 28, 496, 8128])"
   ]
  },
  {
   "cell_type": "code",
   "execution_count": 162,
   "id": "851dd421-c0a0-42aa-97ca-c2caac9961c6",
   "metadata": {},
   "outputs": [
    {
     "name": "stdout",
     "output_type": "stream",
     "text": [
      "list_min=1, list_max=8128, list_sum=8659\n"
     ]
    }
   ],
   "source": [
    "print(f'{list_min=}, {list_max=}, {list_sum=}') #unpacking"
   ]
  },
  {
   "attachments": {},
   "cell_type": "markdown",
   "id": "3f9ce9b0",
   "metadata": {},
   "source": [
    "## 1.2 Anonymous functions"
   ]
  },
  {
   "cell_type": "markdown",
   "id": "f8fafade-657b-4786-8def-4eab478c06cb",
   "metadata": {},
   "source": [
    "##### Example 1"
   ]
  },
  {
   "cell_type": "code",
   "execution_count": 163,
   "id": "04552aa3-c83b-4f66-8489-0a7ed94e8ece",
   "metadata": {},
   "outputs": [],
   "source": [
    "rider_names = lambda name: f'Kamen Rider {name}' #lambda function used for anonymous functions"
   ]
  },
  {
   "cell_type": "code",
   "execution_count": 164,
   "id": "e7c87044-fdff-4715-bc01-10f32d974d4b",
   "metadata": {},
   "outputs": [
    {
     "data": {
      "text/plain": [
       "'Kamen Rider Kabuto'"
      ]
     },
     "execution_count": 164,
     "metadata": {},
     "output_type": "execute_result"
    }
   ],
   "source": [
    "rider_names ('Kabuto')"
   ]
  },
  {
   "cell_type": "markdown",
   "id": "1a29b1fd-0718-41c0-b15a-05ff46ac1355",
   "metadata": {},
   "source": [
    "##### Example 2"
   ]
  },
  {
   "cell_type": "code",
   "execution_count": 165,
   "id": "deec44e6-975c-4887-b0e8-a2f1d9500e37",
   "metadata": {},
   "outputs": [],
   "source": [
    "numbers=[[9, 0, -10],\n",
    "         [8, 1, -11],\n",
    "         [7, 2, -12],\n",
    "         [6, 3, -13],\n",
    "         [5, 4, -14],\n",
    "         [4, 5, -15],\n",
    "         [3, 6, -16],\n",
    "         [2, 7, -17],\n",
    "         [1, 8, -18],\n",
    "         [0, 9, -19]]"
   ]
  },
  {
   "cell_type": "code",
   "execution_count": 166,
   "id": "652a3bb1-73b2-42fb-a2bf-9e0d5c1f9a84",
   "metadata": {},
   "outputs": [
    {
     "data": {
      "text/plain": [
       "[[0, 9, -19],\n",
       " [1, 8, -18],\n",
       " [2, 7, -17],\n",
       " [3, 6, -16],\n",
       " [4, 5, -15],\n",
       " [5, 4, -14],\n",
       " [6, 3, -13],\n",
       " [7, 2, -12],\n",
       " [8, 1, -11],\n",
       " [9, 0, -10]]"
      ]
     },
     "execution_count": 166,
     "metadata": {},
     "output_type": "execute_result"
    }
   ],
   "source": [
    "sorted(numbers)  #sort using first column"
   ]
  },
  {
   "cell_type": "code",
   "execution_count": 167,
   "id": "edb472ec-0245-4dc9-8a49-237beb7d73ea",
   "metadata": {},
   "outputs": [
    {
     "data": {
      "text/plain": [
       "[[9, 0, -10],\n",
       " [8, 1, -11],\n",
       " [7, 2, -12],\n",
       " [6, 3, -13],\n",
       " [5, 4, -14],\n",
       " [4, 5, -15],\n",
       " [3, 6, -16],\n",
       " [2, 7, -17],\n",
       " [1, 8, -18],\n",
       " [0, 9, -19]]"
      ]
     },
     "execution_count": 167,
     "metadata": {},
     "output_type": "execute_result"
    }
   ],
   "source": [
    "#using a function to sort according to a number that is not the first\n",
    "sorted(numbers, key = lambda x:x[1])"
   ]
  },
  {
   "cell_type": "code",
   "execution_count": 168,
   "id": "10fae15e-74e5-4e41-8fb6-55ae09d2b5d7",
   "metadata": {},
   "outputs": [
    {
     "data": {
      "text/plain": [
       "[[1, 8, -18, 1],\n",
       " [7, 2, -12, 12],\n",
       " [6, 3, -13, 17],\n",
       " [9, 0, -10, 24],\n",
       " [8, 1, -11, 31],\n",
       " [3, 6, -16, 55],\n",
       " [5, 4, -14, 64],\n",
       " [2, 7, -17, 67],\n",
       " [0, 9, -19, 75],\n",
       " [4, 5, -15, 89]]"
      ]
     },
     "execution_count": 168,
     "metadata": {},
     "output_type": "execute_result"
    }
   ],
   "source": [
    "numbers=[[9, 0, -10, 24],\n",
    "         [8, 1, -11, 31],\n",
    "         [7, 2, -12, 12],\n",
    "         [6, 3, -13, 17],\n",
    "         [5, 4, -14, 64],\n",
    "         [4, 5, -15, 89],\n",
    "         [3, 6, -16, 55],\n",
    "         [2, 7, -17, 67],\n",
    "         [1, 8, -18, 1],\n",
    "         [0, 9, -19, 75]]\n",
    "sorted(numbers, key = lambda x:x[3])"
   ]
  },
  {
   "cell_type": "code",
   "execution_count": 169,
   "id": "4515ae5a-e8bb-4c77-8a43-43b249590f57",
   "metadata": {},
   "outputs": [
    {
     "data": {
      "text/plain": [
       "[[1, 8, -18, 1],\n",
       " [7, 2, -12, 12],\n",
       " [6, 3, -13, 17],\n",
       " [9, 0, -10, 24],\n",
       " [8, 1, -11, 31],\n",
       " [3, 6, -16, 55],\n",
       " [5, 4, -14, 64],\n",
       " [2, 7, -17, 67],\n",
       " [0, 9, -19, 75],\n",
       " [4, 5, -15, 89]]"
      ]
     },
     "execution_count": 169,
     "metadata": {},
     "output_type": "execute_result"
    }
   ],
   "source": [
    "sorted(numbers, key = lambda x:sum(x))"
   ]
  },
  {
   "cell_type": "code",
   "execution_count": 170,
   "id": "4d6b5325-438f-4188-847e-53dd10550f7c",
   "metadata": {},
   "outputs": [
    {
     "data": {
      "text/plain": [
       "[[9, 0, -10, 24],\n",
       " [8, 1, -11, 31],\n",
       " [7, 2, -12, 12],\n",
       " [6, 3, -13, 17],\n",
       " [5, 4, -14, 64],\n",
       " [4, 5, -15, 89],\n",
       " [3, 6, -16, 55],\n",
       " [2, 7, -17, 67],\n",
       " [1, 8, -18, 1],\n",
       " [0, 9, -19, 75]]"
      ]
     },
     "execution_count": 170,
     "metadata": {},
     "output_type": "execute_result"
    }
   ],
   "source": [
    "#Extra: a function in a function\n",
    "def my_sort(numbers):\n",
    "    def my_func(x):\n",
    "        return x[2]**2\n",
    "    return sorted (numbers, key = my_func)\n",
    "my_sort(numbers)"
   ]
  },
  {
   "attachments": {},
   "cell_type": "markdown",
   "id": "a36409b1",
   "metadata": {},
   "source": [
    "## 1.3 Optional arguments"
   ]
  },
  {
   "cell_type": "code",
   "execution_count": 171,
   "id": "0f3690ed-a8a3-44d3-9919-b8682f35b747",
   "metadata": {},
   "outputs": [],
   "source": [
    "##value needs to be given such that no error\n",
    "\n",
    "def greeting(name='Tsukasa'):\n",
    "    if name == 'Decade':\n",
    "        return 'Onore DIKEIDO!!!'\n",
    "    else:\n",
    "        return f'Who are you, {name}?'"
   ]
  },
  {
   "cell_type": "code",
   "execution_count": 172,
   "id": "f82f4677-d08b-4220-b328-3c565f29ed7f",
   "metadata": {},
   "outputs": [
    {
     "data": {
      "text/plain": [
       "'Who are you, Tsukasa?'"
      ]
     },
     "execution_count": 172,
     "metadata": {},
     "output_type": "execute_result"
    }
   ],
   "source": [
    "greeting() ##predefined value, can just call the function without an argument"
   ]
  },
  {
   "cell_type": "code",
   "execution_count": 173,
   "id": "da5a162c-686f-4522-a69a-e383af9ded2b",
   "metadata": {},
   "outputs": [
    {
     "ename": "TypeError",
     "evalue": "greeting() missing 1 required positional argument: 'name'",
     "output_type": "error",
     "traceback": [
      "\u001b[0;31m---------------------------------------------------------------------------\u001b[0m",
      "\u001b[0;31mTypeError\u001b[0m                                 Traceback (most recent call last)",
      "Cell \u001b[0;32mIn[173], line 9\u001b[0m\n\u001b[1;32m      6\u001b[0m     \u001b[38;5;28;01melse\u001b[39;00m:\n\u001b[1;32m      7\u001b[0m         \u001b[38;5;28;01mreturn\u001b[39;00m \u001b[38;5;124mf\u001b[39m\u001b[38;5;124m'\u001b[39m\u001b[38;5;124mWho are you, \u001b[39m\u001b[38;5;132;01m{\u001b[39;00mname\u001b[38;5;132;01m}\u001b[39;00m\u001b[38;5;124m?\u001b[39m\u001b[38;5;124m'\u001b[39m\u001b[38;5;66;03m##value needs to be given such that no error\u001b[39;00m\n\u001b[0;32m----> 9\u001b[0m \u001b[43mgreeting\u001b[49m\u001b[43m(\u001b[49m\u001b[43m)\u001b[49m\n",
      "\u001b[0;31mTypeError\u001b[0m: greeting() missing 1 required positional argument: 'name'"
     ]
    }
   ],
   "source": [
    "##value needs to be given such that no error\n",
    "\n",
    "def greeting(name):\n",
    "    if name == 'Decade':\n",
    "        return 'Onore DIKEIDO!!!'\n",
    "    else:\n",
    "        return f'Who are you, {name}?'##value needs to be given such that no error\n",
    "\n",
    "greeting()"
   ]
  },
  {
   "cell_type": "code",
   "execution_count": 174,
   "id": "e0ce17ce-677a-43fa-8662-197bdf379697",
   "metadata": {},
   "outputs": [
    {
     "data": {
      "text/plain": [
       "'Who are you, Tsukasa?'"
      ]
     },
     "execution_count": 174,
     "metadata": {},
     "output_type": "execute_result"
    }
   ],
   "source": [
    "greeting('Tsukasa')"
   ]
  },
  {
   "cell_type": "code",
   "execution_count": 175,
   "id": "ab46d36e-097d-4c18-801e-e070b6395eca",
   "metadata": {},
   "outputs": [
    {
     "data": {
      "text/plain": [
       "\u001b[0;31mSignature:\u001b[0m \u001b[0mprint\u001b[0m\u001b[0;34m(\u001b[0m\u001b[0;34m*\u001b[0m\u001b[0margs\u001b[0m\u001b[0;34m,\u001b[0m \u001b[0msep\u001b[0m\u001b[0;34m=\u001b[0m\u001b[0;34m' '\u001b[0m\u001b[0;34m,\u001b[0m \u001b[0mend\u001b[0m\u001b[0;34m=\u001b[0m\u001b[0;34m'\\n'\u001b[0m\u001b[0;34m,\u001b[0m \u001b[0mfile\u001b[0m\u001b[0;34m=\u001b[0m\u001b[0;32mNone\u001b[0m\u001b[0;34m,\u001b[0m \u001b[0mflush\u001b[0m\u001b[0;34m=\u001b[0m\u001b[0;32mFalse\u001b[0m\u001b[0;34m)\u001b[0m\u001b[0;34m\u001b[0m\u001b[0;34m\u001b[0m\u001b[0m\n",
       "\u001b[0;31mDocstring:\u001b[0m\n",
       "Prints the values to a stream, or to sys.stdout by default.\n",
       "\n",
       "sep\n",
       "  string inserted between values, default a space.\n",
       "end\n",
       "  string appended after the last value, default a newline.\n",
       "file\n",
       "  a file-like object (stream); defaults to the current sys.stdout.\n",
       "flush\n",
       "  whether to forcibly flush the stream.\n",
       "\u001b[0;31mType:\u001b[0m      builtin_function_or_method"
      ]
     },
     "metadata": {},
     "output_type": "display_data"
    }
   ],
   "source": [
    "?print"
   ]
  },
  {
   "cell_type": "code",
   "execution_count": 176,
   "id": "0052192b-27c3-424e-8883-0fd54c4e6c07",
   "metadata": {},
   "outputs": [
    {
     "name": "stdout",
     "output_type": "stream",
     "text": [
      "Onore. DEKEIDO...!!!!"
     ]
    }
   ],
   "source": [
    " #shows types of optional arguments (sth like default options which no need to type if you want the default, but can change when wanted)\n",
    "\n",
    "#Eg.\n",
    "\n",
    "print('Onore', 'DEKEIDO', sep='. ', end='...!!!!')"
   ]
  },
  {
   "attachments": {},
   "cell_type": "markdown",
   "id": "0c8fd01d",
   "metadata": {},
   "source": [
    "## 1.4 The importance of functions?"
   ]
  },
  {
   "cell_type": "markdown",
   "id": "9d10d324-cd73-4e3c-97bd-56aa4a81dbec",
   "metadata": {},
   "source": [
    "- Abstraction of details\n",
    "- Reusability of code: shorter and compact\n",
    "- Maintainability of code: only need to make changes in 1 location to affect more"
   ]
  }
 ],
 "metadata": {
  "kernelspec": {
   "display_name": "Python 3 (ipykernel)",
   "language": "python",
   "name": "python3"
  },
  "language_info": {
   "codemirror_mode": {
    "name": "ipython",
    "version": 3
   },
   "file_extension": ".py",
   "mimetype": "text/x-python",
   "name": "python",
   "nbconvert_exporter": "python",
   "pygments_lexer": "ipython3",
   "version": "3.11.7"
  },
  "toc": {
   "base_numbering": 1,
   "nav_menu": {},
   "number_sections": true,
   "sideBar": true,
   "skip_h1_title": false,
   "title_cell": "Table of Contents",
   "title_sidebar": "Contents",
   "toc_cell": false,
   "toc_position": {},
   "toc_section_display": true,
   "toc_window_display": false
  },
  "vscode": {
   "interpreter": {
    "hash": "31f2aee4e71d21fbe5cf8b01ff0e069b9275f58929596ceb00d14d90e3e16cd6"
   }
  }
 },
 "nbformat": 4,
 "nbformat_minor": 5
}
