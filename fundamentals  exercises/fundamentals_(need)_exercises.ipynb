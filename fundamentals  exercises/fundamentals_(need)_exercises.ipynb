{
 "cells": [
  {
   "attachments": {},
   "cell_type": "markdown",
   "id": "123456",
   "metadata": {},
   "source": [
    "<div style=\"text-align:left;font-size:2em\"><span style=\"font-weight:bolder;font-size:1.25em\">SP2273 | Learning Portfolio</span><br><br><span style=\"font-weight:bold;color:darkred\">Fundamentals (Need) Exercises</span></div>"
   ]
  },
  {
   "cell_type": "markdown",
   "id": "19e45be5-628f-4fc4-9ba2-45b3d1000052",
   "metadata": {},
   "source": [
    "##### Exercise 1"
   ]
  },
  {
   "cell_type": "markdown",
   "id": "1e6b7706-ba78-4c5a-8685-3f6fa1ba0d04",
   "metadata": {},
   "source": [
    "print()\n",
    "name = 'me'\n",
    "name == 'me'\n",
    "if name == 'me':\n",
    "    print(asleep)\n",
    "else:\n",
    "    print(alive)\n",
    "\n",
    "#Brackets\n",
    "#For math\n",
    "(4+5)*1408\n",
    "#For list\n",
    "list = [1, 2, 3, 4, 5]\n",
    "#For dictionary\n",
    "personal_info = {\n",
    "'age'= \n",
    "'blood_type' = ''\n",
    "}\n",
    "\n",
    "print(dictionary['age'])\n",
    "\n",
    "import math\n",
    "math.sqrt\n",
    "import numpy as np\n",
    "np.sqrt\n",
    "#as is for alias\n",
    "\"I am me\".split()"
   ]
  },
  {
   "cell_type": "markdown",
   "id": "628afdd3-4513-4eb6-9f28-a2304b718c21",
   "metadata": {},
   "source": [
    "##### Exercise 2"
   ]
  },
  {
   "cell_type": "code",
   "execution_count": 2,
   "id": "4862e01b-2df8-43b6-a82f-73a5dfd0f095",
   "metadata": {},
   "outputs": [
    {
     "name": "stdout",
     "output_type": "stream",
     "text": [
      "3 4 4.69041575982343\n"
     ]
    }
   ],
   "source": [
    "x, y = [3, 4]\n",
    "import math\n",
    "z = math.sqrt(x*2 + y**2)\n",
    "print(x, y, z)"
   ]
  },
  {
   "cell_type": "code",
   "execution_count": null,
   "id": "7afeae1f-fad0-425c-a90b-38af2044399b",
   "metadata": {},
   "outputs": [],
   "source": [
    "#####Exercise 3"
   ]
  }
 ],
 "metadata": {
  "kernelspec": {
   "display_name": "Python 3 (ipykernel)",
   "language": "python",
   "name": "python3"
  },
  "language_info": {
   "codemirror_mode": {
    "name": "ipython",
    "version": 3
   },
   "file_extension": ".py",
   "mimetype": "text/x-python",
   "name": "python",
   "nbconvert_exporter": "python",
   "pygments_lexer": "ipython3",
   "version": "3.11.7"
  },
  "toc": {
   "base_numbering": 1,
   "nav_menu": {},
   "number_sections": true,
   "sideBar": true,
   "skip_h1_title": false,
   "title_cell": "Table of Contents",
   "title_sidebar": "Contents",
   "toc_cell": false,
   "toc_position": {},
   "toc_section_display": true,
   "toc_window_display": false
  },
  "vscode": {
   "interpreter": {
    "hash": "31f2aee4e71d21fbe5cf8b01ff0e069b9275f58929596ceb00d14d90e3e16cd6"
   }
  }
 },
 "nbformat": 4,
 "nbformat_minor": 5
}
