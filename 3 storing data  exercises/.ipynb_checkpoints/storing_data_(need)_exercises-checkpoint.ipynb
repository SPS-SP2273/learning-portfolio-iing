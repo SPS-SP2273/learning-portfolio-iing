{
 "cells": [
  {
   "attachments": {},
   "cell_type": "markdown",
   "id": "123456",
   "metadata": {},
   "source": [
    "<div style=\"text-align:left;font-size:2em\"><span style=\"font-weight:bolder;font-size:1.25em\">SP2273 | Learning Portfolio</span><br><br><span style=\"font-weight:bold;color:darkred\">Storing Data (Need) Exercises</span></div>"
   ]
  },
  {
   "cell_type": "markdown",
   "id": "7f8d20c7-932b-4487-8eed-78d760e959a3",
   "metadata": {},
   "source": [
    "##### Exercise 1"
   ]
  },
  {
   "cell_type": "markdown",
   "id": "cbff6307-fdb7-4ebb-888f-a6f24d33e9fe",
   "metadata": {},
   "source": [
    "1. 2 similaries: can know the size of the array or list using len(), able to access data using indices; *zero-based indexing*\n",
    "2. 2 differences:\n",
    "- Operations done to arrays work like in Mathematics, while operations done in lists do not\n",
    "- Lists grow quickly, while arrays do not grow as quick; *arrays are fixed sized*\n",
    "- *lists can contain different data elements, while arrays are homogenous*\n",
    "3. Dictionary: a data structure that allows us to easily write very efficient code"
   ]
  },
  {
   "cell_type": "markdown",
   "id": "67bcf791-f325-49df-9e91-be688d84ebf8",
   "metadata": {},
   "source": [
    "##### Exercise 2"
   ]
  },
  {
   "cell_type": "code",
   "execution_count": 1,
   "id": "2c1ae1bb-4d95-43b6-9bb1-fd3b28ebae35",
   "metadata": {},
   "outputs": [
    {
     "name": "stdout",
     "output_type": "stream",
     "text": [
      "a1\n",
      "c3\n",
      "e5\n",
      "g7\n",
      "i9\n"
     ]
    }
   ],
   "source": [
    "py_list = [\"a1\", \"b2\", \"c3\", \"d4\", \"e5\", \"f6\", \"g7\", \"h8\", \"i9\", \"j10\"]\n",
    "print(py_list[0])   # Prints 'a1'\n",
    "print(py_list[2])   # Prints 'c3'\n",
    "print(py_list[4])   # Prints 'e5'\n",
    "print(py_list[6])   # Prints 'g7'\n",
    "print(py_list[8])   # Prints 'i9'"
   ]
  },
  {
   "cell_type": "markdown",
   "id": "9eb7aec2-825c-4b73-a3ee-21d8ce556504",
   "metadata": {},
   "source": [
    "##### Exercise 3"
   ]
  },
  {
   "cell_type": "code",
   "execution_count": 7,
   "id": "b00d755d-5222-48b7-9965-2df831e5257b",
   "metadata": {},
   "outputs": [],
   "source": [
    "elements = ['Hydrogen',\n",
    "            'Helium', 'Lithium',\n",
    "            'Beryllium', 'Boron', 'Carbon',\n",
    "            'Nitrogen', 'Oxygen',\n",
    "            'Fluorine',\n",
    "            'Neon']"
   ]
  },
  {
   "cell_type": "code",
   "execution_count": 8,
   "id": "d7d6b31e-7829-4f22-99f7-950261747313",
   "metadata": {},
   "outputs": [
    {
     "data": {
      "text/plain": [
       "'Boron'"
      ]
     },
     "execution_count": 8,
     "metadata": {},
     "output_type": "execute_result"
    }
   ],
   "source": [
    "elements[4]"
   ]
  },
  {
   "cell_type": "code",
   "execution_count": 10,
   "id": "41db532b-c582-4603-b93e-b0652d7fcc88",
   "metadata": {},
   "outputs": [
    {
     "data": {
      "text/plain": [
       "'Carbon'"
      ]
     },
     "execution_count": 10,
     "metadata": {},
     "output_type": "execute_result"
    }
   ],
   "source": [
    "elements[-5]"
   ]
  },
  {
   "cell_type": "markdown",
   "id": "6a79698d-81df-4ade-862d-56a9d56fc1a9",
   "metadata": {},
   "source": [
    "##### Exercise 4"
   ]
  },
  {
   "cell_type": "code",
   "execution_count": 11,
   "id": "175d0cf1-5423-4cf8-aa78-d1678a4b016d",
   "metadata": {},
   "outputs": [],
   "source": [
    "numbers=[45, 60, 1, 30, 96, 1, 96, 57, 16, 1,\n",
    "        99, 62, 86, 43, 42, 60, 59, 1, 1, 35,\n",
    "        83, 47, 34, 28, 68, 23, 22, 92, 1, 79,\n",
    "        1, 29, 94, 72, 46, 47, 1, 74, 32, 20,\n",
    "        8, 37, 35, 1, 89, 29, 86, 19, 43, 61]                  "
   ]
  },
  {
   "cell_type": "code",
   "execution_count": 14,
   "id": "6ba61757-b3a3-45cb-a514-fcbf2664be57",
   "metadata": {},
   "outputs": [],
   "source": [
    "import numpy as np\n",
    "numbers_array = np.array(numbers)"
   ]
  },
  {
   "cell_type": "code",
   "execution_count": 15,
   "id": "88562bec-8967-4b50-9ce9-9c8c4f44cfb7",
   "metadata": {},
   "outputs": [
    {
     "data": {
      "text/plain": [
       "9"
      ]
     },
     "execution_count": 15,
     "metadata": {},
     "output_type": "execute_result"
    }
   ],
   "source": [
    "sum(numbers_array == 1)"
   ]
  }
 ],
 "metadata": {
  "kernelspec": {
   "display_name": "Python 3 (ipykernel)",
   "language": "python",
   "name": "python3"
  },
  "language_info": {
   "codemirror_mode": {
    "name": "ipython",
    "version": 3
   },
   "file_extension": ".py",
   "mimetype": "text/x-python",
   "name": "python",
   "nbconvert_exporter": "python",
   "pygments_lexer": "ipython3",
   "version": "3.11.7"
  },
  "toc": {
   "base_numbering": 1,
   "nav_menu": {},
   "number_sections": true,
   "sideBar": true,
   "skip_h1_title": false,
   "title_cell": "Table of Contents",
   "title_sidebar": "Contents",
   "toc_cell": false,
   "toc_position": {},
   "toc_section_display": true,
   "toc_window_display": false
  },
  "vscode": {
   "interpreter": {
    "hash": "31f2aee4e71d21fbe5cf8b01ff0e069b9275f58929596ceb00d14d90e3e16cd6"
   }
  }
 },
 "nbformat": 4,
 "nbformat_minor": 5
}
