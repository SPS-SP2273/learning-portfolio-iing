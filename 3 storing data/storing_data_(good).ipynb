{
 "cells": [
  {
   "attachments": {},
   "cell_type": "markdown",
   "id": "123456",
   "metadata": {},
   "source": [
    "<div style=\"text-align:left;font-size:2em\"><span style=\"font-weight:bolder;font-size:1.25em\">SP2273 | Learning Portfolio</span><br><br><span style=\"font-weight:bold;color:darkred\">Storing Data (Good)</span></div>"
   ]
  },
  {
   "attachments": {},
   "cell_type": "markdown",
   "id": "4d9915b2",
   "metadata": {},
   "source": [
    "# What to expect in this chapter"
   ]
  },
  {
   "attachments": {},
   "cell_type": "markdown",
   "id": "22b29650",
   "metadata": {},
   "source": [
    "# Subsetting: Indexing and Slicing"
   ]
  },
  {
   "cell_type": "code",
   "execution_count": 1,
   "id": "5bcd0a6d-36bf-4525-ac98-8801ef29d87c",
   "metadata": {},
   "outputs": [],
   "source": [
    "import numpy as np"
   ]
  },
  {
   "attachments": {},
   "cell_type": "markdown",
   "id": "2cf56fbf",
   "metadata": {},
   "source": [
    "## 1.1 Lists & Arrays in 1D | Subsetting & Indexing"
   ]
  },
  {
   "cell_type": "code",
   "execution_count": 108,
   "id": "21d95bbd-8bad-4321-b737-cbc11f0ba802",
   "metadata": {},
   "outputs": [],
   "source": [
    "## IGNORE: Note - Keyboard shortcuts under Help\n",
    "#To extract items: a) subsetting, b) indexing, c) slicing\n",
    "\n",
    "x=[\"a1\", \"b2\", \"c3\", \"d4\", \"e5\",\n",
    "         \"f6\", \"g7\", \"h8\", \"i9\", \"j10\"] #Python list"
   ]
  },
  {
   "cell_type": "code",
   "execution_count": 5,
   "id": "9f4bf0c1-2533-48d1-91d6-911affff473e",
   "metadata": {},
   "outputs": [
    {
     "data": {
      "text/plain": [
       "['c3', 'd4', 'e5', 'f6']"
      ]
     },
     "execution_count": 5,
     "metadata": {},
     "output_type": "execute_result"
    }
   ],
   "source": [
    "x[2:6] #starts at index 2 ie. c3, and contains 6-2=4 elements"
   ]
  },
  {
   "cell_type": "code",
   "execution_count": 7,
   "id": "ab97c9a4-e704-4f9d-8f51-b41b95ee7348",
   "metadata": {},
   "outputs": [
    {
     "data": {
      "text/plain": [
       "['c3', 'e5']"
      ]
     },
     "execution_count": 7,
     "metadata": {},
     "output_type": "execute_result"
    }
   ],
   "source": [
    "x[2:6:2] #starts at index 2 ie. c3, and will give the element in steps of 2 within 6-2=4 elements"
   ]
  },
  {
   "cell_type": "code",
   "execution_count": 11,
   "id": "983aa047-8957-4e8d-8de6-2cc92703b9d3",
   "metadata": {},
   "outputs": [
    {
     "data": {
      "text/plain": [
       "['c3', 'd4', 'e5', 'f6']"
      ]
     },
     "execution_count": 11,
     "metadata": {},
     "output_type": "execute_result"
    }
   ],
   "source": [
    "x[2:6:1] #so this gives the same elements as x[2:6]"
   ]
  },
  {
   "cell_type": "code",
   "execution_count": 14,
   "id": "8d732f4f-20c6-4483-a3f3-bc6ada0dada7",
   "metadata": {},
   "outputs": [
    {
     "data": {
      "text/plain": [
       "['d4', 'e5', 'f6', 'g7', 'h8', 'i9', 'j10']"
      ]
     },
     "execution_count": 14,
     "metadata": {},
     "output_type": "execute_result"
    }
   ],
   "source": [
    "x[3:] #will give len(x)-3 elements, starting from d4"
   ]
  },
  {
   "cell_type": "code",
   "execution_count": 16,
   "id": "53f593b9-1c42-471b-b8fa-9634f80559e9",
   "metadata": {},
   "outputs": [
    {
     "data": {
      "text/plain": [
       "['d4', 'c3', 'b2', 'a1']"
      ]
     },
     "execution_count": 16,
     "metadata": {},
     "output_type": "execute_result"
    }
   ],
   "source": [
    "x[3::-1] #opposite of previous cell"
   ]
  },
  {
   "cell_type": "code",
   "execution_count": 109,
   "id": "9697751d-7342-4345-adb9-194cc84d4b8f",
   "metadata": {},
   "outputs": [
    {
     "data": {
      "text/plain": [
       "['a1', 'b2', 'c3', 'd4', 'e5', 'f6']"
      ]
     },
     "execution_count": 109,
     "metadata": {},
     "output_type": "execute_result"
    }
   ],
   "source": [
    "x[:6] #will give 6-0 elements"
   ]
  },
  {
   "cell_type": "code",
   "execution_count": 21,
   "id": "d8e2802e-174d-4b7c-91df-3b5c3aa2f58d",
   "metadata": {},
   "outputs": [
    {
     "data": {
      "text/plain": [
       "['j10', 'i9', 'h8']"
      ]
     },
     "execution_count": 21,
     "metadata": {},
     "output_type": "execute_result"
    }
   ],
   "source": [
    "x[:6:-1]"
   ]
  },
  {
   "cell_type": "code",
   "execution_count": 22,
   "id": "402e5ae3-dcc5-4be3-95c7-6bad62eb30b8",
   "metadata": {},
   "outputs": [
    {
     "data": {
      "text/plain": [
       "['j10', 'h8', 'f6', 'd4', 'b2']"
      ]
     },
     "execution_count": 22,
     "metadata": {},
     "output_type": "execute_result"
    }
   ],
   "source": [
    "x[::-2]"
   ]
  },
  {
   "attachments": {},
   "cell_type": "markdown",
   "id": "832bea8e",
   "metadata": {},
   "source": [
    "## 1.2 Arrays only | Subsetting by masking"
   ]
  },
  {
   "cell_type": "code",
   "execution_count": 23,
   "id": "95f8d8b9-0d59-4a04-81ba-f83124d336c5",
   "metadata": {},
   "outputs": [],
   "source": [
    "np_array = np.array([1, 2, 3, 4, 5, 6, 7, 8, 9, 10])"
   ]
  },
  {
   "cell_type": "code",
   "execution_count": 111,
   "id": "50280e01-7bcb-4a80-9191-33335ef6d0d0",
   "metadata": {},
   "outputs": [
    {
     "data": {
      "text/plain": [
       "array([ True,  True, False, False, False, False, False, False, False,\n",
       "       False])"
      ]
     },
     "execution_count": 111,
     "metadata": {},
     "output_type": "execute_result"
    }
   ],
   "source": [
    "my_mask = np_array < 3\n",
    "my_mask"
   ]
  },
  {
   "cell_type": "code",
   "execution_count": 112,
   "id": "b163d609-9e3e-4978-9e1d-6a1de929a780",
   "metadata": {},
   "outputs": [
    {
     "data": {
      "text/plain": [
       "array([1, 2])"
      ]
     },
     "execution_count": 112,
     "metadata": {},
     "output_type": "execute_result"
    }
   ],
   "source": [
    "#masking -- show me all the true, don't show me the false まさに逆仮面\n",
    "np_array[my_mask]"
   ]
  },
  {
   "cell_type": "code",
   "execution_count": 113,
   "id": "019bdf1c-02d3-4de1-8862-64bdc4f08c75",
   "metadata": {},
   "outputs": [
    {
     "data": {
      "text/plain": [
       "array([3])"
      ]
     },
     "execution_count": 113,
     "metadata": {},
     "output_type": "execute_result"
    }
   ],
   "source": [
    "np_array[np_array == 3]"
   ]
  },
  {
   "cell_type": "markdown",
   "id": "4c80b4f0-530e-408a-bb32-a35497439696",
   "metadata": {},
   "source": [
    "##### Example 1"
   ]
  },
  {
   "cell_type": "code",
   "execution_count": 114,
   "id": "7893e20a-8d9a-44a6-841f-be87dd80a680",
   "metadata": {},
   "outputs": [
    {
     "data": {
      "text/plain": [
       "array([ 1,  2,  4,  5,  6,  7,  8,  9, 10])"
      ]
     },
     "execution_count": 114,
     "metadata": {},
     "output_type": "execute_result"
    }
   ],
   "source": [
    "#inverting a mask using '~'; 'NOT' gate\n",
    "np_array[~(np_array == 3)]"
   ]
  },
  {
   "cell_type": "markdown",
   "id": "97b0a6a1-08e3-4ace-9d98-8e0fcb8c5325",
   "metadata": {},
   "source": [
    "##### Example 2"
   ]
  },
  {
   "cell_type": "code",
   "execution_count": 115,
   "id": "a9fb2e55-56ae-4fd1-9bf9-e153070b5627",
   "metadata": {},
   "outputs": [
    {
     "data": {
      "text/plain": [
       "array([], dtype=int64)"
      ]
     },
     "execution_count": 115,
     "metadata": {},
     "output_type": "execute_result"
    }
   ],
   "source": [
    "#and using '&'; will give what overlaps\n",
    "np_array[(np_array < 3) & (np_array>8)]"
   ]
  },
  {
   "cell_type": "code",
   "execution_count": 116,
   "id": "36675582-db6c-4a60-8b5f-0a76aca8c472",
   "metadata": {},
   "outputs": [
    {
     "data": {
      "text/plain": [
       "array([ 1,  2,  3,  4,  5,  6,  7,  8,  9, 10])"
      ]
     },
     "execution_count": 116,
     "metadata": {},
     "output_type": "execute_result"
    }
   ],
   "source": [
    "np_array[~((np_array < 3) & (np_array>8))]"
   ]
  },
  {
   "cell_type": "markdown",
   "id": "2cf22d7d-ec6d-430e-9977-eab3e3d4c87f",
   "metadata": {},
   "source": [
    "##### Example 3"
   ]
  },
  {
   "cell_type": "code",
   "execution_count": 117,
   "id": "d50d5297-d6dd-4e04-8fe6-eda02f2fd2d2",
   "metadata": {},
   "outputs": [
    {
     "data": {
      "text/plain": [
       "array([ 1,  2,  9, 10])"
      ]
     },
     "execution_count": 117,
     "metadata": {},
     "output_type": "execute_result"
    }
   ],
   "source": [
    "#or using '|'\n",
    "np_array[(np_array < 3) | (np_array > 8)] # '|' means 'OR'"
   ]
  },
  {
   "attachments": {},
   "cell_type": "markdown",
   "id": "5f452bc0",
   "metadata": {},
   "source": [
    "## 1.3 Lists & Arrays in 2D | Indexing & Slicing"
   ]
  },
  {
   "cell_type": "code",
   "execution_count": 118,
   "id": "3cbc37c8-c4bb-4790-8032-b8636c2a7111",
   "metadata": {},
   "outputs": [],
   "source": [
    "py_list_2d = [[1, \"A\"], [2, \"B\"], [3, \"C\"], [4, \"D\"],\n",
    "              [5, \"E\"], [6, \"F\"], [7, \"G\"], [8, \"H\"],\n",
    "              [9, \"I\"], [10, \"J\"]]\n",
    "\n",
    "np_array_2d = np.array(py_list_2d)\n",
    "#diff between arrays and lists, numpy converts all to strings"
   ]
  },
  {
   "cell_type": "markdown",
   "id": "050282e9-d942-4013-8f56-be612db39dcc",
   "metadata": {},
   "source": [
    "##### Example 1"
   ]
  },
  {
   "cell_type": "code",
   "execution_count": 57,
   "id": "d5cab575-6a0f-4a16-98e0-3c34140260ef",
   "metadata": {},
   "outputs": [
    {
     "data": {
      "text/plain": [
       "[10, 'J']"
      ]
     },
     "execution_count": 57,
     "metadata": {},
     "output_type": "execute_result"
    }
   ],
   "source": [
    "py_list_2d[-1]"
   ]
  },
  {
   "cell_type": "code",
   "execution_count": 55,
   "id": "2188cef8-1bfb-4fe7-842d-288723be52b5",
   "metadata": {},
   "outputs": [
    {
     "data": {
      "text/plain": [
       "array(['10', 'J'], dtype='<U21')"
      ]
     },
     "execution_count": 55,
     "metadata": {},
     "output_type": "execute_result"
    }
   ],
   "source": [
    "np_array_2d[-1]"
   ]
  },
  {
   "cell_type": "code",
   "execution_count": 61,
   "id": "82f8d64d-1af3-4865-9844-ff3cd98e6395",
   "metadata": {},
   "outputs": [
    {
     "data": {
      "text/plain": [
       "array([['2', 'B'],\n",
       "       ['3', 'C'],\n",
       "       ['4', 'D'],\n",
       "       ['5', 'E']], dtype='<U21')"
      ]
     },
     "execution_count": 61,
     "metadata": {},
     "output_type": "execute_result"
    }
   ],
   "source": [
    "np_array_2d[1:5]"
   ]
  },
  {
   "cell_type": "code",
   "execution_count": 62,
   "id": "9973ec88-4731-4c8c-83b4-c5e41bbc8133",
   "metadata": {},
   "outputs": [
    {
     "data": {
      "text/plain": [
       "array([], shape=(0, 2), dtype='<U21')"
      ]
     },
     "execution_count": 62,
     "metadata": {},
     "output_type": "execute_result"
    }
   ],
   "source": [
    "np_array_2d[1:5:-1]"
   ]
  },
  {
   "cell_type": "markdown",
   "id": "91a89394-13bb-414c-bdf5-4b2079be1ba1",
   "metadata": {},
   "source": [
    "##### Example 2"
   ]
  },
  {
   "cell_type": "code",
   "execution_count": 63,
   "id": "12dfecc2-b283-4e14-bf33-61eddb818b0c",
   "metadata": {},
   "outputs": [
    {
     "data": {
      "text/plain": [
       "'D'"
      ]
     },
     "execution_count": 63,
     "metadata": {},
     "output_type": "execute_result"
    }
   ],
   "source": [
    "##In the case where more than 1 element is present at 1 index / position\n",
    "py_list_2d[3][1]"
   ]
  },
  {
   "cell_type": "code",
   "execution_count": 64,
   "id": "fc03b4f4-bbe7-4fb4-85a8-17a67a85cc5f",
   "metadata": {},
   "outputs": [
    {
     "data": {
      "text/plain": [
       "'D'"
      ]
     },
     "execution_count": 64,
     "metadata": {},
     "output_type": "execute_result"
    }
   ],
   "source": [
    "np_array_2d[3,1]"
   ]
  },
  {
   "cell_type": "markdown",
   "id": "3724ba13-a840-4682-b954-f174a7bc9cab",
   "metadata": {},
   "source": [
    "##### Example 3"
   ]
  },
  {
   "cell_type": "code",
   "execution_count": 68,
   "id": "a18302d3-7ab0-493b-b247-efe25b679a91",
   "metadata": {},
   "outputs": [
    {
     "data": {
      "text/plain": [
       "[[2, 'B'], [3, 'C'], [4, 'D'], [5, 'E']]"
      ]
     },
     "execution_count": 68,
     "metadata": {},
     "output_type": "execute_result"
    }
   ],
   "source": [
    "py_list_2d[1:5]"
   ]
  },
  {
   "cell_type": "code",
   "execution_count": 67,
   "id": "6c7b2d3c-db78-4eb0-bca8-49f6bca19d35",
   "metadata": {},
   "outputs": [
    {
     "data": {
      "text/plain": [
       "array([['2', 'B'],\n",
       "       ['3', 'C'],\n",
       "       ['4', 'D'],\n",
       "       ['5', 'E']], dtype='<U21')"
      ]
     },
     "execution_count": 67,
     "metadata": {},
     "output_type": "execute_result"
    }
   ],
   "source": [
    "np_array_2d[1:5]"
   ]
  },
  {
   "cell_type": "markdown",
   "id": "87a4bc3f-40fd-4a72-870e-bc736e483c37",
   "metadata": {},
   "source": [
    "##### Example 4 and 5"
   ]
  },
  {
   "cell_type": "code",
   "execution_count": 121,
   "id": "d7577e17-d239-4888-8dae-a2a3724fb3db",
   "metadata": {},
   "outputs": [
    {
     "data": {
      "text/plain": [
       "[2, 'B']"
      ]
     },
     "execution_count": 121,
     "metadata": {},
     "output_type": "execute_result"
    }
   ],
   "source": [
    "py_list_2d[:5][0] #will be the [1, 'A']\n",
    "py_list_2d[1:5][0] #used when you want to know what is in the first position in the list"
   ]
  },
  {
   "cell_type": "code",
   "execution_count": 120,
   "id": "45dde857-6db5-4a87-b2bc-7fcabdbd156e",
   "metadata": {},
   "outputs": [
    {
     "data": {
      "text/plain": [
       "array(['2', '3', '4', '5'], dtype='<U21')"
      ]
     },
     "execution_count": 120,
     "metadata": {},
     "output_type": "execute_result"
    }
   ],
   "source": [
    "np_array_2d[:5, 0] #will include the first\n",
    "np_array_2d[1:5, 0] #used when you want to know what is the first element in each index in the array"
   ]
  },
  {
   "attachments": {},
   "cell_type": "markdown",
   "id": "607680bd",
   "metadata": {},
   "source": [
    "## 1.4 Growing lists"
   ]
  },
  {
   "cell_type": "markdown",
   "id": "50a6cd8b-bf8a-4ba6-81f5-9dbbef55b060",
   "metadata": {},
   "source": [
    "##### Example 1"
   ]
  },
  {
   "cell_type": "code",
   "execution_count": 77,
   "id": "c7d4bf39-8ce1-4287-9306-09ae185ed1f7",
   "metadata": {},
   "outputs": [
    {
     "data": {
      "text/plain": [
       "[3, 2, 5, 6, 3, 2, 5, 6, 3, 2, 5, 6]"
      ]
     },
     "execution_count": 77,
     "metadata": {},
     "output_type": "execute_result"
    }
   ],
   "source": [
    "x=[3,2,5,6]*3\n",
    "x"
   ]
  },
  {
   "cell_type": "markdown",
   "id": "8e6dfc0b-bb4a-4bed-b8e7-c19fd2cfe7ad",
   "metadata": {},
   "source": [
    "##### Example 2"
   ]
  },
  {
   "cell_type": "code",
   "execution_count": 80,
   "id": "966dc645-f216-42ff-9e9a-4282a0d229f0",
   "metadata": {},
   "outputs": [
    {
     "data": {
      "text/plain": [
       "[1, 3, 4, 6, 10, 22, 12, 11]"
      ]
     },
     "execution_count": 80,
     "metadata": {},
     "output_type": "execute_result"
    }
   ],
   "source": [
    "x=[1]\n",
    "x= x + [3,4]\n",
    "x= x + [6,10,22,12]\n",
    "x= x + [11]\n",
    "x"
   ]
  },
  {
   "cell_type": "code",
   "execution_count": 81,
   "id": "61033704-82f1-4ffc-a210-129dc7ff91d1",
   "metadata": {},
   "outputs": [
    {
     "data": {
      "text/plain": [
       "[1, 3, 4, 6, 10, 22, 12, 11]"
      ]
     },
     "execution_count": 81,
     "metadata": {},
     "output_type": "execute_result"
    }
   ],
   "source": [
    "x=[1]\n",
    "x+= [3,4]\n",
    "x+= [6,10,22,12]\n",
    "x+= [11]\n",
    "x"
   ]
  },
  {
   "cell_type": "code",
   "execution_count": 85,
   "id": "01d883ba-b53b-49a3-9645-ce103d01f3c8",
   "metadata": {},
   "outputs": [
    {
     "data": {
      "text/plain": [
       "[1, 2, 3, 43]"
      ]
     },
     "execution_count": 85,
     "metadata": {},
     "output_type": "execute_result"
    }
   ],
   "source": [
    "x=[1]\n",
    "x.append(2)\n",
    "x.append(3)\n",
    "x.append(43)\n",
    "x"
   ]
  },
  {
   "cell_type": "markdown",
   "id": "a459c790-532e-47d4-b38d-c149a81069de",
   "metadata": {},
   "source": [
    "##### Example 3"
   ]
  },
  {
   "cell_type": "code",
   "execution_count": 86,
   "id": "50c5a978-609d-4a84-92bc-91250bec2818",
   "metadata": {},
   "outputs": [
    {
     "data": {
      "text/plain": [
       "[1, 2, 3, 4, 5, 6]"
      ]
     },
     "execution_count": 86,
     "metadata": {},
     "output_type": "execute_result"
    }
   ],
   "source": [
    "x = [1, 2, 3]\n",
    "x += [4, 5, 6]\n",
    "x"
   ]
  },
  {
   "cell_type": "code",
   "execution_count": 87,
   "id": "5ddf882d-e4f0-430e-b418-170d33452b87",
   "metadata": {},
   "outputs": [
    {
     "data": {
      "text/plain": [
       "[1, 2, 3, 4, 5, 6]"
      ]
     },
     "execution_count": 87,
     "metadata": {},
     "output_type": "execute_result"
    }
   ],
   "source": [
    "x=[1, 2, 3]\n",
    "x.extend([4, 5, 6]) #does it how you want\n",
    "x"
   ]
  },
  {
   "cell_type": "code",
   "execution_count": 89,
   "id": "3a11c55b-df2c-49fb-a821-cb1f734ee446",
   "metadata": {},
   "outputs": [
    {
     "data": {
      "text/plain": [
       "[1, 2, 3, [4, 5, 6]]"
      ]
     },
     "execution_count": 89,
     "metadata": {},
     "output_type": "execute_result"
    }
   ],
   "source": [
    "x=[1, 2, 3]\n",
    "x.append([4, 5, 6]) #just puts the list in; use this when you want to add lists to list?; as its name suggest, adding as sth extra\n",
    "x"
   ]
  },
  {
   "attachments": {},
   "cell_type": "markdown",
   "id": "42567539",
   "metadata": {},
   "source": [
    "# Some loose ends"
   ]
  },
  {
   "attachments": {},
   "cell_type": "markdown",
   "id": "8ef5e0e0",
   "metadata": {},
   "source": [
    "## 1.5 Tuples"
   ]
  },
  {
   "cell_type": "code",
   "execution_count": null,
   "id": "737f082d-c2ef-4371-a4aa-1ba81103cd8b",
   "metadata": {},
   "outputs": [],
   "source": [
    "##lists can be modified, but not tuples"
   ]
  },
  {
   "cell_type": "code",
   "execution_count": 90,
   "id": "aff1d3a9-4147-4a60-8090-5d699b56a577",
   "metadata": {},
   "outputs": [],
   "source": [
    "#tuples need to be defined\n",
    "x = (1,4, 9, 16, 25)"
   ]
  },
  {
   "cell_type": "code",
   "execution_count": 94,
   "id": "812015bf-c69a-4633-9ad8-2a557dca704c",
   "metadata": {},
   "outputs": [
    {
     "name": "stdout",
     "output_type": "stream",
     "text": [
      "9\n"
     ]
    }
   ],
   "source": [
    "print(x[2]) #ie. indexing"
   ]
  },
  {
   "cell_type": "code",
   "execution_count": 96,
   "id": "d7327714-0271-46f0-aae9-f0e03e805579",
   "metadata": {},
   "outputs": [
    {
     "ename": "TypeError",
     "evalue": "'tuple' object does not support item assignment",
     "output_type": "error",
     "traceback": [
      "\u001b[0;31m---------------------------------------------------------------------------\u001b[0m",
      "\u001b[0;31mTypeError\u001b[0m                                 Traceback (most recent call last)",
      "Cell \u001b[0;32mIn[96], line 2\u001b[0m\n\u001b[1;32m      1\u001b[0m \u001b[38;5;66;03m# Tuples cannot change\u001b[39;00m\n\u001b[0;32m----> 2\u001b[0m \u001b[43mx\u001b[49m\u001b[43m[\u001b[49m\u001b[38;5;241;43m0\u001b[39;49m\u001b[43m]\u001b[49m\u001b[38;5;241m=\u001b[39m\u001b[38;5;241m-\u001b[39m\u001b[38;5;241m2\u001b[39m\n\u001b[1;32m      3\u001b[0m x[\u001b[38;5;241m0\u001b[39m]\u001b[38;5;241m/\u001b[39m\u001b[38;5;241m=\u001b[39m [\u001b[38;5;241m10\u001b[39m]\n",
      "\u001b[0;31mTypeError\u001b[0m: 'tuple' object does not support item assignment"
     ]
    }
   ],
   "source": [
    "# Tuples cannot change\n",
    "x[0]=-2\n",
    "x[0]/= [10]"
   ]
  },
  {
   "attachments": {},
   "cell_type": "markdown",
   "id": "4e7cbbb1",
   "metadata": {},
   "source": [
    "## 1.6 Be VERY careful when copying"
   ]
  },
  {
   "cell_type": "code",
   "execution_count": 102,
   "id": "f2b09cc5-0e11-4abf-9964-b53c2d5f346a",
   "metadata": {},
   "outputs": [],
   "source": [
    "## To copy lists from x to y and z,\n",
    "x_lists=[1, 2, 3]\n",
    "y=x_lists\n",
    "z=x_lists #would be better to do this instead↓  "
   ]
  },
  {
   "cell_type": "code",
   "execution_count": 104,
   "id": "d2f29614-ea14-452b-9734-90c42ab7a3bc",
   "metadata": {},
   "outputs": [
    {
     "name": "stdout",
     "output_type": "stream",
     "text": [
      "id(x_lists)=4411331712, id(y)=4411331712, id(z)=4411331712\n"
     ]
    }
   ],
   "source": [
    "print(f'{id(x_lists)=}, {id(y)=}, {id(z)=}') #all the ids are the same"
   ]
  },
  {
   "cell_type": "code",
   "execution_count": 105,
   "id": "48680a63-285e-47e3-8805-3562b853a60a",
   "metadata": {},
   "outputs": [
    {
     "data": {
      "text/plain": [
       "[1, 2, 3]"
      ]
     },
     "execution_count": 105,
     "metadata": {},
     "output_type": "execute_result"
    }
   ],
   "source": [
    "x_lists=[1, 2, 3]\n",
    "y=x_lists.copy()\n",
    "z=x_lists.copy()\n",
    "y"
   ]
  },
  {
   "cell_type": "code",
   "execution_count": 107,
   "id": "4abc8189-8e3a-4349-b62f-94e66588aea4",
   "metadata": {},
   "outputs": [
    {
     "name": "stdout",
     "output_type": "stream",
     "text": [
      "id(x_lists)=4577751104, id(y)=4411331904, id(z)=4571775104\n"
     ]
    }
   ],
   "source": [
    "print(f'{id(x_lists)=}, {id(y)=}, {id(z)=}') #all the ids are different, which is supposedly better and impt than having all same ids"
   ]
  }
 ],
 "metadata": {
  "kernelspec": {
   "display_name": "Python 3 (ipykernel)",
   "language": "python",
   "name": "python3"
  },
  "language_info": {
   "codemirror_mode": {
    "name": "ipython",
    "version": 3
   },
   "file_extension": ".py",
   "mimetype": "text/x-python",
   "name": "python",
   "nbconvert_exporter": "python",
   "pygments_lexer": "ipython3",
   "version": "3.11.7"
  },
  "toc": {
   "base_numbering": 1,
   "nav_menu": {},
   "number_sections": true,
   "sideBar": true,
   "skip_h1_title": false,
   "title_cell": "Table of Contents",
   "title_sidebar": "Contents",
   "toc_cell": false,
   "toc_position": {},
   "toc_section_display": true,
   "toc_window_display": false
  },
  "vscode": {
   "interpreter": {
    "hash": "31f2aee4e71d21fbe5cf8b01ff0e069b9275f58929596ceb00d14d90e3e16cd6"
   }
  }
 },
 "nbformat": 4,
 "nbformat_minor": 5
}
