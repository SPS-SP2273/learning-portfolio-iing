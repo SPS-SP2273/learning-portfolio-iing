{
 "cells": [
  {
   "attachments": {},
   "cell_type": "markdown",
   "id": "123456",
   "metadata": {},
   "source": [
    "<div style=\"text-align:left;font-size:2em\"><span style=\"font-weight:bolder;font-size:1.25em\">SP2273 | Learning Portfolio</span><br><br><span style=\"font-weight:bold;color:darkred\">Storing Data (Need)</span></div>"
   ]
  },
  {
   "attachments": {},
   "cell_type": "markdown",
   "id": "4fd720f9",
   "metadata": {},
   "source": [
    "# 1 Lists, Arrays & Dictionaries"
   ]
  },
  {
   "attachments": {},
   "cell_type": "markdown",
   "id": "eed5b8cb",
   "metadata": {},
   "source": [
    "## 1.1 Let’s compare"
   ]
  },
  {
   "cell_type": "code",
   "execution_count": 17,
   "id": "9319217d-38d5-47cb-b91b-6bb527d7eb9b",
   "metadata": {},
   "outputs": [],
   "source": [
    "import numpy as np\n",
    "# Different ways of storing data below↓"
   ]
  },
  {
   "cell_type": "markdown",
   "id": "286d04f2-34a3-46b9-9312-3f1665fd092c",
   "metadata": {},
   "source": [
    "##### **Python lists**"
   ]
  },
  {
   "cell_type": "code",
   "execution_count": 18,
   "id": "43a2feb4-acf4-4732-8cc2-eedece0efb7c",
   "metadata": {},
   "outputs": [],
   "source": [
    "alter_names = ['Gotchard', 'Majade', 'Valvarad']\n",
    "real_names = ['Houtarou', 'Rinne', 'Supana']"
   ]
  },
  {
   "cell_type": "markdown",
   "id": "9a2af581-9ddf-48d3-9994-708bbd4b1fc0",
   "metadata": {},
   "source": [
    "##### **Numpy arrays**"
   ]
  },
  {
   "cell_type": "code",
   "execution_count": 19,
   "id": "995db135-d777-403c-9c14-73a37d377041",
   "metadata": {},
   "outputs": [],
   "source": [
    "alter_names_np = np.array(['Gotchard', 'Majade', 'Valvarad'])\n",
    "real_names_np = np.array(['Houtarou', 'Rinne', 'Supana'])"
   ]
  },
  {
   "cell_type": "markdown",
   "id": "1022cbe4-376a-4b1f-87cc-c85bc71a9b1d",
   "metadata": {},
   "source": [
    "##### **Dictionary**"
   ]
  },
  {
   "cell_type": "code",
   "execution_count": 20,
   "id": "3bdf92d9-c910-4093-904c-49a93a59b2a5",
   "metadata": {},
   "outputs": [],
   "source": [
    "info = {'Gotchard':'Houtarou', 'Majade': 'Rinne', 'Valvarad':'Supana'}"
   ]
  },
  {
   "attachments": {},
   "cell_type": "markdown",
   "id": "78e179ee",
   "metadata": {},
   "source": [
    "## 1.2 Accessing data from a list (or array)"
   ]
  },
  {
   "cell_type": "code",
   "execution_count": 21,
   "id": "2414acc8-c46d-432b-b147-6101721fe2af",
   "metadata": {},
   "outputs": [],
   "source": [
    "#starts from 0th index ie. sth like 1st floor = GF, 2nd floor = level 1 in lifts heh"
   ]
  },
  {
   "cell_type": "code",
   "execution_count": 22,
   "id": "9e3990d0-81ed-47c0-b481-498bfe337a3b",
   "metadata": {},
   "outputs": [],
   "source": [
    "alter_names = ['Gotchard', 'Majade', 'Valvarad']\n",
    "real_names = ['Houtarou', 'Rinne', 'Supana']"
   ]
  },
  {
   "cell_type": "markdown",
   "id": "50d5f142-373a-4d17-9f56-93869f15fdf5",
   "metadata": {},
   "source": [
    "##### Example 1"
   ]
  },
  {
   "cell_type": "code",
   "execution_count": 23,
   "id": "7527e717-da4e-4373-b188-74d5d54499f0",
   "metadata": {},
   "outputs": [
    {
     "data": {
      "text/plain": [
       "'Valvarad'"
      ]
     },
     "execution_count": 23,
     "metadata": {},
     "output_type": "execute_result"
    }
   ],
   "source": [
    "alter_names[2]"
   ]
  },
  {
   "cell_type": "markdown",
   "id": "0603fac2-b102-418d-86d6-449fef8d234d",
   "metadata": {},
   "source": [
    "##### Example 2"
   ]
  },
  {
   "cell_type": "code",
   "execution_count": 28,
   "id": "83f85554-ab98-4e1a-b73c-0d66a5558ec6",
   "metadata": {},
   "outputs": [
    {
     "name": "stdout",
     "output_type": "stream",
     "text": [
      "Rinne will cease to exist in Gotchard 's world.\n"
     ]
    }
   ],
   "source": [
    "print(real_names[1], 'will cease to exist in', alter_names[0], \"'s world.\")"
   ]
  },
  {
   "cell_type": "markdown",
   "id": "e4359e90-2dc0-44ee-9fa9-d174a45da64a",
   "metadata": {},
   "source": [
    "##### Example 3"
   ]
  },
  {
   "cell_type": "code",
   "execution_count": 32,
   "id": "85183252-8884-43e4-8475-38e267fa54f3",
   "metadata": {},
   "outputs": [
    {
     "data": {
      "text/plain": [
       "'Valvarad'"
      ]
     },
     "execution_count": 32,
     "metadata": {},
     "output_type": "execute_result"
    }
   ],
   "source": [
    "#Reverse index ie. start from the back / right, but this time 0th index doesn't apply, makes sense\n",
    "alter_names[-1]\n",
    "#Useful since the length can be unknown"
   ]
  },
  {
   "attachments": {},
   "cell_type": "markdown",
   "id": "99b2c946",
   "metadata": {},
   "source": [
    "## 1.3 Accessing data from a dictionary"
   ]
  },
  {
   "cell_type": "code",
   "execution_count": 33,
   "id": "3f61a983-8b9f-4013-9756-ba624791acde",
   "metadata": {},
   "outputs": [],
   "source": [
    "info = {'Gotchard':'Houtarou', 'Majade': 'Rinne', 'Valvarad':'Supana'} #alter used as a key to unlock real name"
   ]
  },
  {
   "cell_type": "code",
   "execution_count": null,
   "id": "cfa5a955-2ec5-4550-bd2f-b3b057f12ba1",
   "metadata": {},
   "outputs": [],
   "source": []
  },
  {
   "attachments": {},
   "cell_type": "markdown",
   "id": "32227259",
   "metadata": {},
   "source": [
    "## 1.4 Higher dimensional lists"
   ]
  },
  {
   "attachments": {},
   "cell_type": "markdown",
   "id": "2dab913d",
   "metadata": {},
   "source": [
    "# 2 Lists vs. Arrays"
   ]
  },
  {
   "attachments": {},
   "cell_type": "markdown",
   "id": "93b1a61e",
   "metadata": {},
   "source": [
    "## 2.1 Size"
   ]
  },
  {
   "attachments": {},
   "cell_type": "markdown",
   "id": "361dab21",
   "metadata": {},
   "source": [
    "## 2.2 Arrays are fussy about type"
   ]
  },
  {
   "attachments": {},
   "cell_type": "markdown",
   "id": "e952876a",
   "metadata": {},
   "source": [
    "## 2.3 Adding a number"
   ]
  },
  {
   "attachments": {},
   "cell_type": "markdown",
   "id": "d9e88a09",
   "metadata": {},
   "source": [
    "## 2.4 Adding another list"
   ]
  },
  {
   "attachments": {},
   "cell_type": "markdown",
   "id": "11334b49",
   "metadata": {},
   "source": [
    "## 2.5 Multiplying by a Number"
   ]
  },
  {
   "attachments": {},
   "cell_type": "markdown",
   "id": "df193ad4",
   "metadata": {},
   "source": [
    "## 2.6 Squaring"
   ]
  },
  {
   "attachments": {},
   "cell_type": "markdown",
   "id": "d6771005",
   "metadata": {},
   "source": [
    "## 2.7 Asking questions"
   ]
  },
  {
   "attachments": {},
   "cell_type": "markdown",
   "id": "6422a6eb",
   "metadata": {},
   "source": [
    "## 2.8 Mathematics"
   ]
  },
  {
   "attachments": {},
   "cell_type": "markdown",
   "id": "c17943a9",
   "metadata": {},
   "source": [
    "# Exercises & Self-Assessment"
   ]
  },
  {
   "cell_type": "code",
   "execution_count": null,
   "id": "20ee971c",
   "metadata": {},
   "outputs": [],
   "source": [
    "\n",
    "\n",
    "\n",
    "# Your solution here\n",
    "\n",
    "\n"
   ]
  },
  {
   "attachments": {},
   "cell_type": "markdown",
   "id": "9d4b7554",
   "metadata": {},
   "source": [
    "## Footnotes"
   ]
  }
 ],
 "metadata": {
  "kernelspec": {
   "display_name": "Python 3 (ipykernel)",
   "language": "python",
   "name": "python3"
  },
  "language_info": {
   "codemirror_mode": {
    "name": "ipython",
    "version": 3
   },
   "file_extension": ".py",
   "mimetype": "text/x-python",
   "name": "python",
   "nbconvert_exporter": "python",
   "pygments_lexer": "ipython3",
   "version": "3.11.7"
  },
  "toc": {
   "base_numbering": 1,
   "nav_menu": {},
   "number_sections": true,
   "sideBar": true,
   "skip_h1_title": false,
   "title_cell": "Table of Contents",
   "title_sidebar": "Contents",
   "toc_cell": false,
   "toc_position": {},
   "toc_section_display": true,
   "toc_window_display": false
  },
  "vscode": {
   "interpreter": {
    "hash": "31f2aee4e71d21fbe5cf8b01ff0e069b9275f58929596ceb00d14d90e3e16cd6"
   }
  }
 },
 "nbformat": 4,
 "nbformat_minor": 5
}
