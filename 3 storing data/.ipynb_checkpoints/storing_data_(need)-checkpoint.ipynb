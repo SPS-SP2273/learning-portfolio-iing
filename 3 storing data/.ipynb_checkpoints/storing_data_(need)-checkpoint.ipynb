{
 "cells": [
  {
   "attachments": {},
   "cell_type": "markdown",
   "id": "123456",
   "metadata": {},
   "source": [
    "<div style=\"text-align:left;font-size:2em\"><span style=\"font-weight:bolder;font-size:1.25em\">SP2273 | Learning Portfolio</span><br><br><span style=\"font-weight:bold;color:darkred\">Storing Data (Need)</span></div>"
   ]
  },
  {
   "attachments": {},
   "cell_type": "markdown",
   "id": "4fd720f9",
   "metadata": {},
   "source": [
    "# 1 Lists, Arrays & Dictionaries"
   ]
  },
  {
   "attachments": {},
   "cell_type": "markdown",
   "id": "eed5b8cb",
   "metadata": {},
   "source": [
    "## 1.1 Let’s compare"
   ]
  },
  {
   "cell_type": "code",
   "execution_count": 51,
   "id": "9319217d-38d5-47cb-b91b-6bb527d7eb9b",
   "metadata": {},
   "outputs": [],
   "source": [
    "import numpy as np\n",
    "# Different ways of storing data below↓"
   ]
  },
  {
   "cell_type": "markdown",
   "id": "286d04f2-34a3-46b9-9312-3f1665fd092c",
   "metadata": {},
   "source": [
    "##### **Python lists**"
   ]
  },
  {
   "cell_type": "code",
   "execution_count": 52,
   "id": "43a2feb4-acf4-4732-8cc2-eedece0efb7c",
   "metadata": {},
   "outputs": [],
   "source": [
    "alter_names = ['Gotchard', 'Majade', 'Valvarad']\n",
    "real_names = ['Houtarou', 'Rinne', 'Supana']"
   ]
  },
  {
   "cell_type": "markdown",
   "id": "9a2af581-9ddf-48d3-9994-708bbd4b1fc0",
   "metadata": {},
   "source": [
    "##### **Numpy arrays**"
   ]
  },
  {
   "cell_type": "code",
   "execution_count": 53,
   "id": "995db135-d777-403c-9c14-73a37d377041",
   "metadata": {},
   "outputs": [],
   "source": [
    "alter_names_np = np.array(['Gotchard', 'Majade', 'Valvarad'])\n",
    "real_names_np = np.array(['Houtarou', 'Rinne', 'Supana'])"
   ]
  },
  {
   "cell_type": "markdown",
   "id": "1022cbe4-376a-4b1f-87cc-c85bc71a9b1d",
   "metadata": {},
   "source": [
    "##### **Dictionary**"
   ]
  },
  {
   "cell_type": "code",
   "execution_count": 54,
   "id": "3bdf92d9-c910-4093-904c-49a93a59b2a5",
   "metadata": {},
   "outputs": [],
   "source": [
    "info = {'Gotchard':'Houtarou', 'Majade': 'Rinne', 'Valvarad':'Supana'}"
   ]
  },
  {
   "attachments": {},
   "cell_type": "markdown",
   "id": "78e179ee",
   "metadata": {},
   "source": [
    "## 1.2 Accessing data from a list (or array)"
   ]
  },
  {
   "cell_type": "code",
   "execution_count": 55,
   "id": "2414acc8-c46d-432b-b147-6101721fe2af",
   "metadata": {},
   "outputs": [],
   "source": [
    "#starts from 0th index ie. sth like 1st floor = GF, 2nd floor = level 1 in lifts heh"
   ]
  },
  {
   "cell_type": "code",
   "execution_count": 56,
   "id": "9e3990d0-81ed-47c0-b481-498bfe337a3b",
   "metadata": {},
   "outputs": [],
   "source": [
    "alter_names = ['Gotchard', 'Majade', 'Valvarad']\n",
    "real_names = ['Houtarou', 'Rinne', 'Supana']"
   ]
  },
  {
   "cell_type": "markdown",
   "id": "50d5f142-373a-4d17-9f56-93869f15fdf5",
   "metadata": {},
   "source": [
    "##### Example 1"
   ]
  },
  {
   "cell_type": "code",
   "execution_count": 57,
   "id": "7527e717-da4e-4373-b188-74d5d54499f0",
   "metadata": {},
   "outputs": [
    {
     "data": {
      "text/plain": [
       "'Valvarad'"
      ]
     },
     "execution_count": 57,
     "metadata": {},
     "output_type": "execute_result"
    }
   ],
   "source": [
    "alter_names[2]"
   ]
  },
  {
   "cell_type": "markdown",
   "id": "0603fac2-b102-418d-86d6-449fef8d234d",
   "metadata": {},
   "source": [
    "##### Example 2"
   ]
  },
  {
   "cell_type": "code",
   "execution_count": 58,
   "id": "83f85554-ab98-4e1a-b73c-0d66a5558ec6",
   "metadata": {},
   "outputs": [
    {
     "name": "stdout",
     "output_type": "stream",
     "text": [
      "Rinne will cease to exist in Gotchard 's world.\n"
     ]
    }
   ],
   "source": [
    "print(real_names[1], 'will cease to exist in', alter_names[0], \"'s world.\")"
   ]
  },
  {
   "cell_type": "markdown",
   "id": "e4359e90-2dc0-44ee-9fa9-d174a45da64a",
   "metadata": {},
   "source": [
    "##### Example 3"
   ]
  },
  {
   "cell_type": "code",
   "execution_count": 59,
   "id": "85183252-8884-43e4-8475-38e267fa54f3",
   "metadata": {},
   "outputs": [
    {
     "data": {
      "text/plain": [
       "'Valvarad'"
      ]
     },
     "execution_count": 59,
     "metadata": {},
     "output_type": "execute_result"
    }
   ],
   "source": [
    "#Reverse index ie. start from the back / right, but this time 0th index doesn't apply, makes sense\n",
    "alter_names[-1]\n",
    "#Useful since the length can be unknown"
   ]
  },
  {
   "attachments": {},
   "cell_type": "markdown",
   "id": "99b2c946",
   "metadata": {},
   "source": [
    "## 1.3 Accessing data from a dictionary"
   ]
  },
  {
   "cell_type": "code",
   "execution_count": 60,
   "id": "3f61a983-8b9f-4013-9756-ba624791acde",
   "metadata": {},
   "outputs": [
    {
     "data": {
      "text/plain": [
       "'Gotchard'"
      ]
     },
     "execution_count": 60,
     "metadata": {},
     "output_type": "execute_result"
    }
   ],
   "source": [
    "info = {'Gotchard':'Houtarou', 'Majade': 'Rinne', 'Valvarad':'Supana'} \n",
    "#alter used as a key to unlock values\n",
    "#no index for list\n",
    "list(info)[0]"
   ]
  },
  {
   "cell_type": "code",
   "execution_count": 61,
   "id": "cfa5a955-2ec5-4550-bd2f-b3b057f12ba1",
   "metadata": {},
   "outputs": [
    {
     "data": {
      "text/plain": [
       "'Houtarou'"
      ]
     },
     "execution_count": 61,
     "metadata": {},
     "output_type": "execute_result"
    }
   ],
   "source": [
    "info['Gotchard']"
   ]
  },
  {
   "cell_type": "code",
   "execution_count": 62,
   "id": "01eedacb-f2e8-478e-8697-c55e6152a498",
   "metadata": {},
   "outputs": [
    {
     "data": {
      "text/plain": [
       "dict_keys(['Gotchard', 'Majade', 'Valvarad'])"
      ]
     },
     "execution_count": 62,
     "metadata": {},
     "output_type": "execute_result"
    }
   ],
   "source": [
    "info.keys() "
   ]
  },
  {
   "cell_type": "code",
   "execution_count": 63,
   "id": "7230a04f-9452-4ab0-8acd-73135ec68828",
   "metadata": {},
   "outputs": [
    {
     "data": {
      "text/plain": [
       "dict_values(['Houtarou', 'Rinne', 'Supana'])"
      ]
     },
     "execution_count": 63,
     "metadata": {},
     "output_type": "execute_result"
    }
   ],
   "source": [
    "info.values()"
   ]
  },
  {
   "cell_type": "code",
   "execution_count": 64,
   "id": "db0f14e6-1955-49c2-8c2c-1bc8e6cf72d8",
   "metadata": {},
   "outputs": [
    {
     "data": {
      "text/plain": [
       "dict_items([('Gotchard', 'Houtarou'), ('Majade', 'Rinne'), ('Valvarad', 'Supana')])"
      ]
     },
     "execution_count": 64,
     "metadata": {},
     "output_type": "execute_result"
    }
   ],
   "source": [
    "#not in webpage\n",
    "info.items()"
   ]
  },
  {
   "attachments": {},
   "cell_type": "markdown",
   "id": "32227259",
   "metadata": {},
   "source": [
    "## 1.4 Higher dimensional lists"
   ]
  },
  {
   "cell_type": "code",
   "execution_count": 65,
   "id": "fcc9290d-ab6d-446f-bca6-73dbe0ddaaa0",
   "metadata": {},
   "outputs": [],
   "source": [
    "python_listing = [\n",
    "    ['Gotchard', 'Houtarou'], \n",
    "    ['Majade', 'Rinne'], \n",
    "    ['Valvarad', 'Supana']\n",
    "]"
   ]
  },
  {
   "attachments": {},
   "cell_type": "markdown",
   "id": "2dab913d",
   "metadata": {},
   "source": [
    "# 2 Lists vs. Arrays"
   ]
  },
  {
   "cell_type": "code",
   "execution_count": 66,
   "id": "8b6f9bf8-95cc-41e1-8e4b-979a36e0fff8",
   "metadata": {},
   "outputs": [
    {
     "name": "stdout",
     "output_type": "stream",
     "text": [
      "[['1' 'A']\n",
      " ['2' 'B']\n",
      " ['3' 'C']\n",
      " ['4' 'D']\n",
      " ['5' 'E']\n",
      " ['6' 'F']\n",
      " ['7' 'G']\n",
      " ['8' 'H']\n",
      " ['9' 'I']\n",
      " ['10' 'J']]\n"
     ]
    }
   ],
   "source": [
    "py_list_2d = [\n",
    "    [1, \"A\"], \n",
    "    [2, \"B\"], \n",
    "    [3, \"C\"], \n",
    "    [4, \"D\"],\n",
    "    [5, \"E\"], \n",
    "    [6, \"F\"], \n",
    "    [7, \"G\"], \n",
    "    [8, \"H\"],\n",
    "    [9, \"I\"], \n",
    "    [10, \"J\"]\n",
    "]\n",
    "\n",
    "np_array_2d = np.array(py_list_2d) #use phython list to create numpy array\n",
    "print(np_array_2d)"
   ]
  },
  {
   "attachments": {},
   "cell_type": "markdown",
   "id": "93b1a61e",
   "metadata": {},
   "source": [
    "## 2.1 Size"
   ]
  },
  {
   "cell_type": "code",
   "execution_count": 67,
   "id": "7c28819c-d8f9-42ca-abf7-a07dbffaa39b",
   "metadata": {},
   "outputs": [
    {
     "data": {
      "text/plain": [
       "10"
      ]
     },
     "execution_count": 67,
     "metadata": {},
     "output_type": "execute_result"
    }
   ],
   "source": [
    "len(py_list_2d) #length of list"
   ]
  },
  {
   "cell_type": "code",
   "execution_count": 68,
   "id": "bd895462-dd4d-4001-b75d-3b6b200a9816",
   "metadata": {},
   "outputs": [
    {
     "data": {
      "text/plain": [
       "10"
      ]
     },
     "execution_count": 68,
     "metadata": {},
     "output_type": "execute_result"
    }
   ],
   "source": [
    "len(np_array_2d) #length of array"
   ]
  },
  {
   "cell_type": "code",
   "execution_count": 69,
   "id": "23590219-8d11-4da6-a502-c3ca4b445d7a",
   "metadata": {},
   "outputs": [
    {
     "data": {
      "text/plain": [
       "(10, 2)"
      ]
     },
     "execution_count": 69,
     "metadata": {},
     "output_type": "execute_result"
    }
   ],
   "source": [
    "np_array_2d.shape #length & dimension of array"
   ]
  },
  {
   "cell_type": "code",
   "execution_count": 70,
   "id": "48407d5c-bb9f-4e1c-ba97-689a277ecd9b",
   "metadata": {},
   "outputs": [],
   "source": [
    "py_list_3d = [\n",
    "    [1, \"A\",'alpha'], \n",
    "    [2, \"B\",'beta'], \n",
    "    [3, \"C\",'charlie'], \n",
    "    [4, \"D\",'delta'],\n",
    "    [5, \"E\",'echo'] \n",
    "]\n",
    "np_array_3d = np.array(py_list_3d)"
   ]
  },
  {
   "cell_type": "code",
   "execution_count": 71,
   "id": "1024dec6-7c43-477a-8ada-5fa0a98fced8",
   "metadata": {},
   "outputs": [
    {
     "data": {
      "text/plain": [
       "(5, 3)"
      ]
     },
     "execution_count": 71,
     "metadata": {},
     "output_type": "execute_result"
    }
   ],
   "source": [
    "np_array_3d.shape"
   ]
  },
  {
   "attachments": {},
   "cell_type": "markdown",
   "id": "361dab21",
   "metadata": {},
   "source": [
    "## 2.2 Arrays are fussy about type"
   ]
  },
  {
   "cell_type": "code",
   "execution_count": 80,
   "id": "1489da0a-1c0b-491c-9ea6-37cdb27e0cf6",
   "metadata": {},
   "outputs": [],
   "source": [
    "py_list = [1, 1.5, 'A']\n",
    "np_array = np.array(py_list)"
   ]
  },
  {
   "cell_type": "code",
   "execution_count": 81,
   "id": "741bb593-4b3d-447a-b13c-fdf0a08a54d6",
   "metadata": {},
   "outputs": [
    {
     "data": {
      "text/plain": [
       "[1, 1.5, 'A']"
      ]
     },
     "execution_count": 81,
     "metadata": {},
     "output_type": "execute_result"
    }
   ],
   "source": [
    "py_list"
   ]
  },
  {
   "cell_type": "code",
   "execution_count": 82,
   "id": "3ac02888-67fd-41e1-83bc-0ed1618f03d4",
   "metadata": {},
   "outputs": [
    {
     "data": {
      "text/plain": [
       "array(['1', '1.5', 'A'], dtype='<U32')"
      ]
     },
     "execution_count": 82,
     "metadata": {},
     "output_type": "execute_result"
    }
   ],
   "source": [
    "np_array #all converted to strings, integers are not treated as numbers but as strings"
   ]
  },
  {
   "attachments": {},
   "cell_type": "markdown",
   "id": "e952876a",
   "metadata": {},
   "source": [
    "## 2.3 Adding a number"
   ]
  },
  {
   "cell_type": "code",
   "execution_count": 83,
   "id": "d3a06bdf-4007-49b3-9798-59d6be2dfb2b",
   "metadata": {},
   "outputs": [],
   "source": [
    "py_list = [1, 4, 9, 16, 25]\n",
    "np_array = np.array(py_list)"
   ]
  },
  {
   "cell_type": "code",
   "execution_count": 84,
   "id": "0f415518-feac-42da-a204-79b7ccc8415e",
   "metadata": {},
   "outputs": [
    {
     "data": {
      "text/plain": [
       "array([11, 14, 19, 26, 35])"
      ]
     },
     "execution_count": 84,
     "metadata": {},
     "output_type": "execute_result"
    }
   ],
   "source": [
    "np_array + 10"
   ]
  },
  {
   "cell_type": "code",
   "execution_count": 85,
   "id": "76322b43-e058-4b8e-86a4-42e8a6880aac",
   "metadata": {},
   "outputs": [
    {
     "ename": "TypeError",
     "evalue": "can only concatenate list (not \"int\") to list",
     "output_type": "error",
     "traceback": [
      "\u001b[0;31m---------------------------------------------------------------------------\u001b[0m",
      "\u001b[0;31mTypeError\u001b[0m                                 Traceback (most recent call last)",
      "Cell \u001b[0;32mIn[85], line 1\u001b[0m\n\u001b[0;32m----> 1\u001b[0m \u001b[43mpy_list\u001b[49m\u001b[43m \u001b[49m\u001b[38;5;241;43m+\u001b[39;49m\u001b[43m \u001b[49m\u001b[38;5;241;43m10\u001b[39;49m \u001b[38;5;66;03m#error\u001b[39;00m\n",
      "\u001b[0;31mTypeError\u001b[0m: can only concatenate list (not \"int\") to list"
     ]
    }
   ],
   "source": [
    "py_list + 10 #error"
   ]
  },
  {
   "attachments": {},
   "cell_type": "markdown",
   "id": "d9e88a09",
   "metadata": {},
   "source": [
    "## 2.4 Adding another list"
   ]
  },
  {
   "cell_type": "code",
   "execution_count": 86,
   "id": "33f7bff6-cb10-49d5-a63c-fe2927b522dd",
   "metadata": {},
   "outputs": [],
   "source": [
    "py_list_1 = [1, 4, 9, 16, 25]\n",
    "py_list_2 = [1, 8, 27, 64, 125]"
   ]
  },
  {
   "cell_type": "code",
   "execution_count": 87,
   "id": "0c7e0942-cfd3-4da2-b59f-7a921efd12c4",
   "metadata": {},
   "outputs": [],
   "source": [
    "np_array_1 = np.array(py_list_1)\n",
    "np_array_2 = np.array(py_list_2)"
   ]
  },
  {
   "cell_type": "code",
   "execution_count": 88,
   "id": "19b49c0a-aee2-43ee-a93e-48166d55dad0",
   "metadata": {},
   "outputs": [
    {
     "data": {
      "text/plain": [
       "[1, 4, 9, 16, 25, 1, 8, 27, 64, 125]"
      ]
     },
     "execution_count": 88,
     "metadata": {},
     "output_type": "execute_result"
    }
   ],
   "source": [
    "py_list_1 + py_list_2 #1 list is incorporated into another list"
   ]
  },
  {
   "cell_type": "code",
   "execution_count": 89,
   "id": "e0c36694-5b58-4501-872d-2993739b6253",
   "metadata": {},
   "outputs": [
    {
     "ename": "TypeError",
     "evalue": "unsupported operand type(s) for -: 'list' and 'list'",
     "output_type": "error",
     "traceback": [
      "\u001b[0;31m---------------------------------------------------------------------------\u001b[0m",
      "\u001b[0;31mTypeError\u001b[0m                                 Traceback (most recent call last)",
      "Cell \u001b[0;32mIn[89], line 1\u001b[0m\n\u001b[0;32m----> 1\u001b[0m \u001b[43mpy_list_1\u001b[49m\u001b[43m \u001b[49m\u001b[38;5;241;43m-\u001b[39;49m\u001b[43m \u001b[49m\u001b[43mpy_list_2\u001b[49m \u001b[38;5;66;03m#error\u001b[39;00m\n",
      "\u001b[0;31mTypeError\u001b[0m: unsupported operand type(s) for -: 'list' and 'list'"
     ]
    }
   ],
   "source": [
    "py_list_1 - py_list_2 #error"
   ]
  },
  {
   "cell_type": "code",
   "execution_count": 90,
   "id": "9c422762-6c53-4278-9650-9a100104f20c",
   "metadata": {},
   "outputs": [
    {
     "data": {
      "text/plain": [
       "array([   0,   -4,  -18,  -48, -100])"
      ]
     },
     "execution_count": 90,
     "metadata": {},
     "output_type": "execute_result"
    }
   ],
   "source": [
    "np_array_1 - np_array_2"
   ]
  },
  {
   "cell_type": "code",
   "execution_count": 91,
   "id": "e857b95e-24eb-4850-9eb2-99978c72a779",
   "metadata": {},
   "outputs": [
    {
     "data": {
      "text/plain": [
       "array([  2,  12,  36,  80, 150])"
      ]
     },
     "execution_count": 91,
     "metadata": {},
     "output_type": "execute_result"
    }
   ],
   "source": [
    "np_array_1 + np_array_2 #addition of numbers respectively"
   ]
  },
  {
   "attachments": {},
   "cell_type": "markdown",
   "id": "11334b49",
   "metadata": {},
   "source": [
    "## 2.5 Multiplying by a Number"
   ]
  },
  {
   "cell_type": "code",
   "execution_count": 92,
   "id": "690077b9-d971-4b8e-b019-2ce6e2886220",
   "metadata": {},
   "outputs": [],
   "source": [
    "py_list = [1, 4, 9, 16, 25]\n",
    "np_array = np.array(py_list)     "
   ]
  },
  {
   "cell_type": "code",
   "execution_count": 93,
   "id": "d7434f8a-80d8-4d26-b419-bc13949d309c",
   "metadata": {},
   "outputs": [
    {
     "data": {
      "text/plain": [
       "[1, 4, 9, 16, 25, 1, 4, 9, 16, 25]"
      ]
     },
     "execution_count": 93,
     "metadata": {},
     "output_type": "execute_result"
    }
   ],
   "source": [
    "py_list*2 #cause the number of elements in a list to double"
   ]
  },
  {
   "cell_type": "code",
   "execution_count": 94,
   "id": "c911311d-8749-42c1-8f40-8c3e694a0a50",
   "metadata": {},
   "outputs": [
    {
     "data": {
      "text/plain": [
       "array([ 2,  8, 18, 32, 50])"
      ]
     },
     "execution_count": 94,
     "metadata": {},
     "output_type": "execute_result"
    }
   ],
   "source": [
    "np_array*2 #multiplication of numbers"
   ]
  },
  {
   "attachments": {},
   "cell_type": "markdown",
   "id": "df193ad4",
   "metadata": {},
   "source": [
    "## 2.6 Squaring"
   ]
  },
  {
   "cell_type": "code",
   "execution_count": 95,
   "id": "e128a201-7889-4f6a-8364-20e562575404",
   "metadata": {},
   "outputs": [],
   "source": [
    "py_list = [1, 4, 9, 16, 25]\n",
    "np_array = np.array(py_list)"
   ]
  },
  {
   "cell_type": "code",
   "execution_count": 96,
   "id": "4e69d5b7-7802-4507-9dcb-30f4a3b85534",
   "metadata": {},
   "outputs": [
    {
     "data": {
      "text/plain": [
       "array([  1,  16,  81, 256, 625])"
      ]
     },
     "execution_count": 96,
     "metadata": {},
     "output_type": "execute_result"
    }
   ],
   "source": [
    "np_array**2"
   ]
  },
  {
   "cell_type": "code",
   "execution_count": 97,
   "id": "bc69ab85-37cb-449b-a49e-7bc14c4f7d4c",
   "metadata": {},
   "outputs": [
    {
     "ename": "TypeError",
     "evalue": "unsupported operand type(s) for ** or pow(): 'list' and 'int'",
     "output_type": "error",
     "traceback": [
      "\u001b[0;31m---------------------------------------------------------------------------\u001b[0m",
      "\u001b[0;31mTypeError\u001b[0m                                 Traceback (most recent call last)",
      "Cell \u001b[0;32mIn[97], line 1\u001b[0m\n\u001b[0;32m----> 1\u001b[0m \u001b[43mpy_list\u001b[49m\u001b[38;5;241;43m*\u001b[39;49m\u001b[38;5;241;43m*\u001b[39;49m\u001b[38;5;241;43m2\u001b[39;49m\n",
      "\u001b[0;31mTypeError\u001b[0m: unsupported operand type(s) for ** or pow(): 'list' and 'int'"
     ]
    }
   ],
   "source": [
    "py_list**2"
   ]
  },
  {
   "attachments": {},
   "cell_type": "markdown",
   "id": "d6771005",
   "metadata": {},
   "source": [
    "## 2.7 Asking questions"
   ]
  },
  {
   "cell_type": "code",
   "execution_count": 98,
   "id": "a5293c29-0a59-45aa-aade-d6eebf6e1113",
   "metadata": {},
   "outputs": [],
   "source": [
    "py_list = [1, 4, 9, 16, 25]\n",
    "np_array = np.array(py_list)    "
   ]
  },
  {
   "cell_type": "code",
   "execution_count": 99,
   "id": "34bedafe-3943-4b70-a6de-fc2508c13f0b",
   "metadata": {},
   "outputs": [
    {
     "data": {
      "text/plain": [
       "False"
      ]
     },
     "execution_count": 99,
     "metadata": {},
     "output_type": "execute_result"
    }
   ],
   "source": [
    "py_list == 4 ##no answer to the question, arrays are needed to ask a question"
   ]
  },
  {
   "cell_type": "code",
   "execution_count": 100,
   "id": "b6cccafa-2ca3-46c9-9ad4-6cdcdf519102",
   "metadata": {},
   "outputs": [
    {
     "data": {
      "text/plain": [
       "array([ True, False, False, False, False])"
      ]
     },
     "execution_count": 100,
     "metadata": {},
     "output_type": "execute_result"
    }
   ],
   "source": [
    "np_array == 1 #Is this number 3?"
   ]
  },
  {
   "cell_type": "code",
   "execution_count": 101,
   "id": "c18e2c2b-28d4-4a3b-9b3c-e62dddb445f5",
   "metadata": {},
   "outputs": [
    {
     "data": {
      "text/plain": [
       "array([False, False, False, False,  True])"
      ]
     },
     "execution_count": 101,
     "metadata": {},
     "output_type": "execute_result"
    }
   ],
   "source": [
    "np_array > 24   #Is this number greater than 3?"
   ]
  },
  {
   "attachments": {},
   "cell_type": "markdown",
   "id": "6422a6eb",
   "metadata": {},
   "source": [
    "## 2.8 Mathematics"
   ]
  },
  {
   "cell_type": "code",
   "execution_count": 102,
   "id": "59ace274-8817-4ab2-abb1-fb931366e4ea",
   "metadata": {},
   "outputs": [],
   "source": [
    "py_list = [1, 4, 9, 16, 25]\n",
    "np_array = np.array(py_list) "
   ]
  },
  {
   "cell_type": "markdown",
   "id": "9910d30d-acd9-45e8-b6c1-6c1f12fc35dd",
   "metadata": {},
   "source": [
    "##### List"
   ]
  },
  {
   "cell_type": "code",
   "execution_count": 103,
   "id": "9a453355-3638-466d-b7e9-38ca8052b861",
   "metadata": {},
   "outputs": [
    {
     "data": {
      "text/plain": [
       "55"
      ]
     },
     "execution_count": 103,
     "metadata": {},
     "output_type": "execute_result"
    }
   ],
   "source": [
    "sum(py_list) #summation"
   ]
  },
  {
   "cell_type": "code",
   "execution_count": 104,
   "id": "1b20b748-8031-473c-acf5-78a74e1898ab",
   "metadata": {},
   "outputs": [
    {
     "data": {
      "text/plain": [
       "25"
      ]
     },
     "execution_count": 104,
     "metadata": {},
     "output_type": "execute_result"
    }
   ],
   "source": [
    "max(py_list) #maximum"
   ]
  },
  {
   "cell_type": "code",
   "execution_count": 105,
   "id": "bdca538d-3853-49db-840d-c772518032df",
   "metadata": {},
   "outputs": [
    {
     "data": {
      "text/plain": [
       "1"
      ]
     },
     "execution_count": 105,
     "metadata": {},
     "output_type": "execute_result"
    }
   ],
   "source": [
    "min(py_list) #minimum "
   ]
  },
  {
   "cell_type": "markdown",
   "id": "704f14d5-1e85-465b-aafd-8fe6972a8702",
   "metadata": {},
   "source": [
    "##### Arrays"
   ]
  },
  {
   "cell_type": "code",
   "execution_count": 106,
   "id": "de9ba985-8598-4c3b-ae6e-4a116e9697e9",
   "metadata": {},
   "outputs": [
    {
     "data": {
      "text/plain": [
       "55"
      ]
     },
     "execution_count": 106,
     "metadata": {},
     "output_type": "execute_result"
    }
   ],
   "source": [
    "np_array.sum() #way faster than sum(np_array)"
   ]
  },
  {
   "cell_type": "code",
   "execution_count": 107,
   "id": "39a39f7e-8094-415a-bb3b-ac09411e67e8",
   "metadata": {},
   "outputs": [
    {
     "data": {
      "text/plain": [
       "25"
      ]
     },
     "execution_count": 107,
     "metadata": {},
     "output_type": "execute_result"
    }
   ],
   "source": [
    "np_array.max()"
   ]
  },
  {
   "cell_type": "code",
   "execution_count": 108,
   "id": "434ff5ca-6e8b-4d6b-9ba1-53c2b4a73380",
   "metadata": {},
   "outputs": [
    {
     "data": {
      "text/plain": [
       "1"
      ]
     },
     "execution_count": 108,
     "metadata": {},
     "output_type": "execute_result"
    }
   ],
   "source": [
    "np_array.min()"
   ]
  },
  {
   "cell_type": "code",
   "execution_count": 109,
   "id": "44a6f44a-3ace-4e12-9646-0596c2feb420",
   "metadata": {},
   "outputs": [
    {
     "data": {
      "text/plain": [
       "11.0"
      ]
     },
     "execution_count": 109,
     "metadata": {},
     "output_type": "execute_result"
    }
   ],
   "source": [
    "np_array.mean() ###more things can be done with arrays"
   ]
  },
  {
   "cell_type": "code",
   "execution_count": 110,
   "id": "46d9be25-bfe3-4453-8165-6d482366cfd8",
   "metadata": {},
   "outputs": [
    {
     "data": {
      "text/plain": [
       "8.648699324175862"
      ]
     },
     "execution_count": 110,
     "metadata": {},
     "output_type": "execute_result"
    }
   ],
   "source": [
    "np_array.std() ###Standard deviation, not used for lists <- create list, convert to arrays, use for mathematical functions\n",
    "#arrays do not grow as fast as lists"
   ]
  }
 ],
 "metadata": {
  "kernelspec": {
   "display_name": "Python 3 (ipykernel)",
   "language": "python",
   "name": "python3"
  },
  "language_info": {
   "codemirror_mode": {
    "name": "ipython",
    "version": 3
   },
   "file_extension": ".py",
   "mimetype": "text/x-python",
   "name": "python",
   "nbconvert_exporter": "python",
   "pygments_lexer": "ipython3",
   "version": "3.11.7"
  },
  "toc": {
   "base_numbering": 1,
   "nav_menu": {},
   "number_sections": true,
   "sideBar": true,
   "skip_h1_title": false,
   "title_cell": "Table of Contents",
   "title_sidebar": "Contents",
   "toc_cell": false,
   "toc_position": {},
   "toc_section_display": true,
   "toc_window_display": false
  },
  "vscode": {
   "interpreter": {
    "hash": "31f2aee4e71d21fbe5cf8b01ff0e069b9275f58929596ceb00d14d90e3e16cd6"
   }
  }
 },
 "nbformat": 4,
 "nbformat_minor": 5
}
