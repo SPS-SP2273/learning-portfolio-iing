{
 "cells": [
  {
   "attachments": {},
   "cell_type": "markdown",
   "id": "123456",
   "metadata": {},
   "source": [
    "<div style=\"text-align:left;font-size:2em\"><span style=\"font-weight:bolder;font-size:1.25em\">SP2273 | Learning Portfolio</span><br><br><span style=\"font-weight:bold;color:darkred\">Using Jupyter (Good)</span></div>"
   ]
  },
  {
   "attachments": {},
   "cell_type": "markdown",
   "id": "b45012ba",
   "metadata": {},
   "source": [
    "# What to expect in this chapter"
   ]
  },
  {
   "attachments": {},
   "cell_type": "markdown",
   "id": "cfaee3f8",
   "metadata": {},
   "source": [
    "# 1 Some tips and tricks"
   ]
  },
  {
   "attachments": {},
   "cell_type": "markdown",
   "id": "0c35bae9",
   "metadata": {},
   "source": [
    "## 1.1 Keyboard Shortcuts"
   ]
  },
  {
   "cell_type": "markdown",
   "id": "f4ca30ae-510c-492b-a86b-dad31aae4c85",
   "metadata": {},
   "source": [
    "`This is from profs head`"
   ]
  },
  {
   "cell_type": "code",
   "execution_count": 1,
   "id": "95b4ede8-aa25-4b58-a5a8-8480d90a4c3d",
   "metadata": {},
   "outputs": [
    {
     "name": "stdout",
     "output_type": "stream",
     "text": [
      "hahahahahahahahahahahahahahahahahahahaha\n"
     ]
    }
   ],
   "source": [
    "print('haha'*10)"
   ]
  },
  {
   "attachments": {},
   "cell_type": "markdown",
   "id": "bb361d9c",
   "metadata": {},
   "source": [
    "### Things to note"
   ]
  },
  {
   "attachments": {},
   "cell_type": "markdown",
   "id": "bf015aaa",
   "metadata": {},
   "source": [
    "## 1.2 Shell commands"
   ]
  },
  {
   "cell_type": "code",
   "execution_count": 9,
   "id": "b5d1cb35",
   "metadata": {},
   "outputs": [],
   "source": [
    "\n",
    "# Your code here\n",
    "#exclamation mark to indicate that this is the command from terminal\n"
   ]
  },
  {
   "cell_type": "code",
   "execution_count": 6,
   "id": "f8b38c40-c97f-41e8-9882-b670d2f3dc89",
   "metadata": {},
   "outputs": [
    {
     "name": "stdout",
     "output_type": "stream",
     "text": [
      "using_jupyter_(good).ipynb using_jupyter_(need).ipynb\n"
     ]
    }
   ],
   "source": [
    "!ls"
   ]
  },
  {
   "cell_type": "code",
   "execution_count": 7,
   "id": "e5227804-c4d8-4c38-ac27-6242d4d03329",
   "metadata": {},
   "outputs": [
    {
     "name": "stdout",
     "output_type": "stream",
     "text": [
      "# packages in environment at /Users/guestuser/miniconda3:\n",
      "#\n",
      "# Name                    Version                   Build  Channel\n",
      "anyio                     4.2.0              pyhd8ed1ab_0    conda-forge\n",
      "appnope                   0.1.3              pyhd8ed1ab_0    conda-forge\n",
      "archspec                  0.2.1              pyhd3eb1b0_0  \n",
      "argon2-cffi               23.1.0             pyhd8ed1ab_0    conda-forge\n",
      "argon2-cffi-bindings      21.2.0          py311heffc1b2_4    conda-forge\n",
      "arrow                     1.3.0              pyhd8ed1ab_0    conda-forge\n",
      "asttokens                 2.4.1              pyhd8ed1ab_0    conda-forge\n",
      "async-lru                 2.0.4              pyhd8ed1ab_0    conda-forge\n",
      "attrs                     23.2.0             pyh71513ae_0    conda-forge\n",
      "babel                     2.14.0             pyhd8ed1ab_0    conda-forge\n",
      "beautifulsoup4            4.12.3             pyha770c72_0    conda-forge\n",
      "bleach                    6.1.0              pyhd8ed1ab_0    conda-forge\n",
      "boltons                   23.0.0          py311hca03da5_0  \n",
      "brotli-python             1.0.9           py311h313beb8_7  \n",
      "bzip2                     1.0.8                h620ffc9_4  \n",
      "c-ares                    1.19.1               h80987f9_0  \n",
      "ca-certificates           2023.12.12           hca03da5_0  \n",
      "cached-property           1.5.2                hd8ed1ab_1    conda-forge\n",
      "cached_property           1.5.2              pyha770c72_1    conda-forge\n",
      "certifi                   2023.11.17         pyhd8ed1ab_0    conda-forge\n",
      "cffi                      1.16.0          py311h80987f9_0  \n",
      "charset-normalizer        2.0.4              pyhd3eb1b0_0  \n",
      "comm                      0.2.1              pyhd8ed1ab_0    conda-forge\n",
      "conda                     23.11.0         py311h267d04e_1    conda-forge\n",
      "conda-content-trust       0.2.0           py311hca03da5_0  \n",
      "conda-libmamba-solver     23.12.0            pyhd3eb1b0_1  \n",
      "conda-package-handling    2.2.0           py311hca03da5_0  \n",
      "conda-package-streaming   0.9.0           py311hca03da5_0  \n",
      "cryptography              41.0.7          py311hd4332d6_0  \n",
      "debugpy                   1.6.7           py311ha397e9f_0    conda-forge\n",
      "decorator                 5.1.1              pyhd8ed1ab_0    conda-forge\n",
      "defusedxml                0.7.1              pyhd8ed1ab_0    conda-forge\n",
      "distro                    1.8.0           py311hca03da5_0  \n",
      "entrypoints               0.4                pyhd8ed1ab_0    conda-forge\n",
      "exceptiongroup            1.2.0              pyhd8ed1ab_2    conda-forge\n",
      "executing                 2.0.1              pyhd8ed1ab_0    conda-forge\n",
      "fmt                       9.1.0                h48ca7d4_0  \n",
      "fqdn                      1.5.1              pyhd8ed1ab_0    conda-forge\n",
      "icu                       73.1                 h313beb8_0  \n",
      "idna                      3.4             py311hca03da5_0  \n",
      "importlib-metadata        7.0.1              pyha770c72_0    conda-forge\n",
      "importlib_metadata        7.0.1                hd8ed1ab_0    conda-forge\n",
      "importlib_resources       6.1.1              pyhd8ed1ab_0    conda-forge\n",
      "ipykernel                 6.29.0             pyh3cd1d5f_0    conda-forge\n",
      "ipython                   8.20.0             pyh707e725_0    conda-forge\n",
      "ipywidgets                8.1.1              pyhd8ed1ab_0    conda-forge\n",
      "isoduration               20.11.0            pyhd8ed1ab_0    conda-forge\n",
      "jedi                      0.19.1             pyhd8ed1ab_0    conda-forge\n",
      "jinja2                    3.1.3              pyhd8ed1ab_0    conda-forge\n",
      "json5                     0.9.14             pyhd8ed1ab_0    conda-forge\n",
      "jsonpatch                 1.32               pyhd3eb1b0_0  \n",
      "jsonpointer               2.1                pyhd3eb1b0_0  \n",
      "jsonschema                4.21.0             pyhd8ed1ab_0    conda-forge\n",
      "jsonschema-specifications 2023.12.1          pyhd8ed1ab_0    conda-forge\n",
      "jsonschema-with-format-nongpl 4.21.0             pyhd8ed1ab_0    conda-forge\n",
      "jupyter                   1.0.0             pyhd8ed1ab_10    conda-forge\n",
      "jupyter-lsp               2.2.2              pyhd8ed1ab_0    conda-forge\n",
      "jupyter_client            8.6.0              pyhd8ed1ab_0    conda-forge\n",
      "jupyter_console           6.6.3              pyhd8ed1ab_0    conda-forge\n",
      "jupyter_core              5.7.1           py311h267d04e_0    conda-forge\n",
      "jupyter_events            0.9.0              pyhd8ed1ab_0    conda-forge\n",
      "jupyter_server            2.12.5             pyhd8ed1ab_0    conda-forge\n",
      "jupyter_server_terminals  0.5.1              pyhd8ed1ab_0    conda-forge\n",
      "jupyterlab                4.0.10             pyhd8ed1ab_0    conda-forge\n",
      "jupyterlab_pygments       0.3.0              pyhd8ed1ab_0    conda-forge\n",
      "jupyterlab_server         2.25.2             pyhd8ed1ab_0    conda-forge\n",
      "jupyterlab_widgets        3.0.9              pyhd8ed1ab_0    conda-forge\n",
      "krb5                      1.20.1               hf3e1bf2_1  \n",
      "libarchive                3.6.2                h62fee54_2  \n",
      "libblas                   3.9.0           20_osxarm64_openblas    conda-forge\n",
      "libcblas                  3.9.0           20_osxarm64_openblas    conda-forge\n",
      "libcurl                   8.4.0                h3e2b118_1  \n",
      "libcxx                    16.0.6               h4653b0c_0    conda-forge\n",
      "libedit                   3.1.20230828         h80987f9_0  \n",
      "libev                     4.33                 h1a28f6b_1  \n",
      "libexpat                  2.5.0                hb7217d7_1    conda-forge\n",
      "libffi                    3.4.4                hca03da5_0  \n",
      "libgfortran               5.0.0           13_2_0_hd922786_1    conda-forge\n",
      "libgfortran5              13.2.0               hf226fd6_1    conda-forge\n",
      "libiconv                  1.16                 h1a28f6b_2  \n",
      "liblapack                 3.9.0           20_osxarm64_openblas    conda-forge\n",
      "libmamba                  1.5.3                h15e39b3_0  \n",
      "libmambapy                1.5.3           py311h1c5506f_0  \n",
      "libnghttp2                1.57.0               h62f6fdd_0  \n",
      "libopenblas               0.3.25          openmp_h6c19121_0    conda-forge\n",
      "libsodium                 1.0.18               h27ca646_1    conda-forge\n",
      "libsolv                   0.7.24               h514c7bf_0  \n",
      "libsqlite                 3.44.2               h091b4b1_0    conda-forge\n",
      "libssh2                   1.10.0               h02f6b3c_2  \n",
      "libxml2                   2.10.4               h0dcf63f_1  \n",
      "libzlib                   1.2.13               h53f4e23_5    conda-forge\n",
      "llvm-openmp               17.0.6               hcd81f8e_0    conda-forge\n",
      "lz4-c                     1.9.4                h313beb8_0  \n",
      "markupsafe                2.1.3           py311heffc1b2_1    conda-forge\n",
      "matplotlib-inline         0.1.6              pyhd8ed1ab_0    conda-forge\n",
      "menuinst                  2.0.1           py311hca03da5_1  \n",
      "mistune                   3.0.2              pyhd8ed1ab_0    conda-forge\n",
      "nbclient                  0.8.0              pyhd8ed1ab_0    conda-forge\n",
      "nbconvert                 7.14.2             pyhd8ed1ab_0    conda-forge\n",
      "nbconvert-core            7.14.2             pyhd8ed1ab_0    conda-forge\n",
      "nbconvert-pandoc          7.14.2             pyhd8ed1ab_0    conda-forge\n",
      "nbformat                  5.9.2              pyhd8ed1ab_0    conda-forge\n",
      "ncurses                   6.4                  h313beb8_0  \n",
      "nest-asyncio              1.5.9              pyhd8ed1ab_0    conda-forge\n",
      "notebook                  7.0.6              pyhd8ed1ab_0    conda-forge\n",
      "notebook-shim             0.2.3              pyhd8ed1ab_0    conda-forge\n",
      "numpy                     1.26.3          py311h7125741_0    conda-forge\n",
      "openssl                   3.2.0                h0d3ecfb_1    conda-forge\n",
      "overrides                 7.4.0              pyhd8ed1ab_0    conda-forge\n",
      "packaging                 23.1            py311hca03da5_0  \n",
      "pandoc                    3.1.3                hce30654_0    conda-forge\n",
      "pandocfilters             1.5.0              pyhd8ed1ab_0    conda-forge\n",
      "parso                     0.8.3              pyhd8ed1ab_0    conda-forge\n",
      "pcre2                     10.42                hb066dcc_0  \n",
      "pexpect                   4.8.0              pyh1a96a4e_2    conda-forge\n",
      "pickleshare               0.7.5                   py_1003    conda-forge\n",
      "pip                       23.3.1          py311hca03da5_0  \n",
      "pkgutil-resolve-name      1.3.10             pyhd8ed1ab_1    conda-forge\n",
      "platformdirs              3.10.0          py311hca03da5_0  \n",
      "pluggy                    1.0.0           py311hca03da5_1  \n",
      "prometheus_client         0.19.0             pyhd8ed1ab_0    conda-forge\n",
      "prompt-toolkit            3.0.42             pyha770c72_0    conda-forge\n",
      "prompt_toolkit            3.0.42               hd8ed1ab_0    conda-forge\n",
      "psutil                    5.9.7           py311h05b510d_0    conda-forge\n",
      "ptyprocess                0.7.0              pyhd3deb0d_0    conda-forge\n",
      "pure_eval                 0.2.2              pyhd8ed1ab_0    conda-forge\n",
      "pybind11-abi              4                    hd3eb1b0_1  \n",
      "pycosat                   0.6.6           py311h80987f9_0  \n",
      "pycparser                 2.21               pyhd3eb1b0_0  \n",
      "pygments                  2.17.2             pyhd8ed1ab_0    conda-forge\n",
      "pyobjc-core               10.1            py311h665608e_0    conda-forge\n",
      "pyobjc-framework-cocoa    10.1            py311h665608e_0    conda-forge\n",
      "pyopenssl                 23.2.0          py311hca03da5_0  \n",
      "pysocks                   1.7.1           py311hca03da5_0  \n",
      "python                    3.11.7          hdf0ec26_1_cpython    conda-forge\n",
      "python-dateutil           2.8.2              pyhd8ed1ab_0    conda-forge\n",
      "python-fastjsonschema     2.19.1             pyhd8ed1ab_0    conda-forge\n",
      "python-json-logger        2.0.7              pyhd8ed1ab_0    conda-forge\n",
      "python.app                3               py311h80987f9_0  \n",
      "python_abi                3.11                    4_cp311    conda-forge\n",
      "pytz                      2023.3.post1       pyhd8ed1ab_0    conda-forge\n",
      "pyyaml                    6.0.1           py311heffc1b2_1    conda-forge\n",
      "pyzmq                     25.1.1          py311he9c0408_2    conda-forge\n",
      "qtconsole-base            5.5.1              pyha770c72_0    conda-forge\n",
      "qtpy                      2.4.1              pyhd8ed1ab_0    conda-forge\n",
      "readline                  8.2                  h1a28f6b_0  \n",
      "referencing               0.32.1             pyhd8ed1ab_0    conda-forge\n",
      "reproc                    14.2.4               hc377ac9_1  \n",
      "reproc-cpp                14.2.4               hc377ac9_1  \n",
      "requests                  2.31.0          py311hca03da5_0  \n",
      "rfc3339-validator         0.1.4              pyhd8ed1ab_0    conda-forge\n",
      "rfc3986-validator         0.1.1              pyh9f0ad1d_0    conda-forge\n",
      "rpds-py                   0.17.1          py311h94f323b_0    conda-forge\n",
      "ruamel.yaml               0.17.21         py311h80987f9_0  \n",
      "send2trash                1.8.2              pyhd1c38e8_0    conda-forge\n",
      "setuptools                68.2.2          py311hca03da5_0  \n",
      "six                       1.16.0             pyh6c4a22f_0    conda-forge\n",
      "sniffio                   1.3.0              pyhd8ed1ab_0    conda-forge\n",
      "soupsieve                 2.5                pyhd8ed1ab_1    conda-forge\n",
      "sqlite                    3.41.2               h80987f9_0  \n",
      "stack_data                0.6.2              pyhd8ed1ab_0    conda-forge\n",
      "terminado                 0.18.0             pyh31c8845_0    conda-forge\n",
      "tinycss2                  1.2.1              pyhd8ed1ab_0    conda-forge\n",
      "tk                        8.6.13               h5083fa2_1    conda-forge\n",
      "tomli                     2.0.1              pyhd8ed1ab_0    conda-forge\n",
      "tornado                   6.3.3           py311heffc1b2_1    conda-forge\n",
      "tqdm                      4.65.0          py311hb6e6a13_0  \n",
      "traitlets                 5.14.1             pyhd8ed1ab_0    conda-forge\n",
      "truststore                0.8.0           py311hca03da5_0  \n",
      "types-python-dateutil     2.8.19.20240106    pyhd8ed1ab_0    conda-forge\n",
      "typing-extensions         4.9.0                hd8ed1ab_0    conda-forge\n",
      "typing_extensions         4.9.0              pyha770c72_0    conda-forge\n",
      "typing_utils              0.1.0              pyhd8ed1ab_0    conda-forge\n",
      "tzdata                    2023c                h04d1e81_0  \n",
      "uri-template              1.3.0              pyhd8ed1ab_0    conda-forge\n",
      "urllib3                   1.26.18         py311hca03da5_0  \n",
      "wcwidth                   0.2.13             pyhd8ed1ab_0    conda-forge\n",
      "webcolors                 1.13               pyhd8ed1ab_0    conda-forge\n",
      "webencodings              0.5.1              pyhd8ed1ab_2    conda-forge\n",
      "websocket-client          1.7.0              pyhd8ed1ab_0    conda-forge\n",
      "wheel                     0.41.2          py311hca03da5_0  \n",
      "widgetsnbextension        4.0.9              pyhd8ed1ab_0    conda-forge\n",
      "xz                        5.4.5                h80987f9_0  \n",
      "yaml                      0.2.5                h3422bc3_2    conda-forge\n",
      "yaml-cpp                  0.8.0                h313beb8_0  \n",
      "zeromq                    4.3.5                h313beb8_0  \n",
      "zipp                      3.17.0             pyhd8ed1ab_0    conda-forge\n",
      "zlib                      1.2.13               h53f4e23_5    conda-forge\n",
      "zstandard                 0.19.0          py311h80987f9_0  \n",
      "zstd                      1.5.5                hd90d995_0  \n"
     ]
    }
   ],
   "source": [
    "!conda list"
   ]
  },
  {
   "attachments": {},
   "cell_type": "markdown",
   "id": "659ce634",
   "metadata": {},
   "source": [
    "# 2 Jupyter Extensions"
   ]
  },
  {
   "attachments": {},
   "cell_type": "markdown",
   "id": "be066441",
   "metadata": {},
   "source": [
    "## 2.1 Installing the extensions"
   ]
  },
  {
   "attachments": {},
   "cell_type": "markdown",
   "id": "080f6fa4",
   "metadata": {},
   "source": [
    "## 2.2 Enabling the extensions"
   ]
  },
  {
   "attachments": {},
   "cell_type": "markdown",
   "id": "b21c6c98",
   "metadata": {},
   "source": [
    "# 3 Shell Magic"
   ]
  },
  {
   "cell_type": "code",
   "execution_count": 15,
   "id": "4707f5b8-83ec-46f0-866e-bd1103d992f2",
   "metadata": {},
   "outputs": [],
   "source": [
    "#(to measure the time it takes for a command to run)\n",
    "%timeit  \n",
    "\n",
    "x=10"
   ]
  },
  {
   "attachments": {},
   "cell_type": "markdown",
   "id": "a3e914e1",
   "metadata": {},
   "source": [
    "# 4 The Kernel"
   ]
  },
  {
   "cell_type": "code",
   "execution_count": 16,
   "id": "c0fee11c-621a-486a-8339-099a32ea77f7",
   "metadata": {},
   "outputs": [
    {
     "name": "stdout",
     "output_type": "stream",
     "text": [
      "10\n"
     ]
    }
   ],
   "source": [
    "print(x)\n"
   ]
  },
  {
   "attachments": {},
   "cell_type": "markdown",
   "id": "9632543b",
   "metadata": {
    "jp-MarkdownHeadingCollapsed": true
   },
   "source": [
    "# 5 EX"
   ]
  }
 ],
 "metadata": {
  "kernelspec": {
   "display_name": "Python 3 (ipykernel)",
   "language": "python",
   "name": "python3"
  },
  "language_info": {
   "codemirror_mode": {
    "name": "ipython",
    "version": 3
   },
   "file_extension": ".py",
   "mimetype": "text/x-python",
   "name": "python",
   "nbconvert_exporter": "python",
   "pygments_lexer": "ipython3",
   "version": "3.11.7"
  },
  "toc": {
   "base_numbering": 1,
   "nav_menu": {},
   "number_sections": true,
   "sideBar": true,
   "skip_h1_title": false,
   "title_cell": "Table of Contents",
   "title_sidebar": "Contents",
   "toc_cell": false,
   "toc_position": {},
   "toc_section_display": true,
   "toc_window_display": false
  },
  "vscode": {
   "interpreter": {
    "hash": "31f2aee4e71d21fbe5cf8b01ff0e069b9275f58929596ceb00d14d90e3e16cd6"
   }
  }
 },
 "nbformat": 4,
 "nbformat_minor": 5
}
