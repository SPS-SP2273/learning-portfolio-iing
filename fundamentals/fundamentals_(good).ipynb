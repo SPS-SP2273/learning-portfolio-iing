{
 "cells": [
  {
   "attachments": {},
   "cell_type": "markdown",
   "id": "123456",
   "metadata": {},
   "source": [
    "<div style=\"text-align:left;font-size:2em\"><span style=\"font-weight:bolder;font-size:1.25em\">SP2273 | Learning Portfolio</span><br><br><span style=\"font-weight:bold;color:darkred\">Fundamentals (Good)</span></div>"
   ]
  },
  {
   "attachments": {},
   "cell_type": "markdown",
   "id": "aa5a6390",
   "metadata": {},
   "source": [
    "# What to expect in this chapter"
   ]
  },
  {
   "attachments": {},
   "cell_type": "markdown",
   "id": "ce87169c",
   "metadata": {},
   "source": [
    "# 1 There is more to if"
   ]
  },
  {
   "cell_type": "code",
   "execution_count": 2,
   "id": "50c0e7ec-6438-4365-a7d2-324af305fe42",
   "metadata": {},
   "outputs": [
    {
     "name": "stdout",
     "output_type": "stream",
     "text": [
      "Hello Batman!\n"
     ]
    }
   ],
   "source": [
    "name = 'Batman'\n",
    "\n",
    "if name == 'Batman':\n",
    "    print('Hello Batman!')\n",
    "elif name == 'Robin':\n",
    "    print('Hello Sidekick!')\n",
    "else:\n",
    "    print('Hello World!')"
   ]
  },
  {
   "attachments": {},
   "cell_type": "markdown",
   "id": "91c35efd",
   "metadata": {},
   "source": [
    "# 2 Asking questions"
   ]
  },
  {
   "cell_type": "code",
   "execution_count": 7,
   "id": "0f854691-d399-4679-ab6f-802e521880c8",
   "metadata": {},
   "outputs": [
    {
     "data": {
      "text/plain": [
       "True"
      ]
     },
     "execution_count": 7,
     "metadata": {},
     "output_type": "execute_result"
    }
   ],
   "source": [
    "fruits = ['apple', 'banana', 'pineapple', 'jackfruit']\n",
    "vegetables = ['celery', 'potato', 'broccoli', 'kale']\n",
    "\n",
    "'apple' in fruits"
   ]
  },
  {
   "cell_type": "code",
   "execution_count": 9,
   "id": "ecfa505c-656a-4bd6-aa6c-fb45e642e074",
   "metadata": {},
   "outputs": [
    {
     "data": {
      "text/plain": [
       "False"
      ]
     },
     "execution_count": 9,
     "metadata": {},
     "output_type": "execute_result"
    }
   ],
   "source": [
    "'peach' in fruits"
   ]
  },
  {
   "cell_type": "code",
   "execution_count": 10,
   "id": "70cbb26f-fb0d-4f0f-9c74-7103fe2ada2a",
   "metadata": {},
   "outputs": [
    {
     "data": {
      "text/plain": [
       "True"
      ]
     },
     "execution_count": 10,
     "metadata": {},
     "output_type": "execute_result"
    }
   ],
   "source": [
    "'peach' not in fruits"
   ]
  },
  {
   "cell_type": "code",
   "execution_count": 11,
   "id": "fe24e31a-e1a5-49b7-b021-1ea28214fe3f",
   "metadata": {},
   "outputs": [
    {
     "data": {
      "text/plain": [
       "True"
      ]
     },
     "execution_count": 11,
     "metadata": {},
     "output_type": "execute_result"
    }
   ],
   "source": [
    "('apple' in fruits) and ('celery' in vegetables)"
   ]
  },
  {
   "cell_type": "code",
   "execution_count": 12,
   "id": "d57fc76e-be08-404b-9f2b-61a08f06bb1a",
   "metadata": {},
   "outputs": [
    {
     "data": {
      "text/plain": [
       "True"
      ]
     },
     "execution_count": 12,
     "metadata": {},
     "output_type": "execute_result"
    }
   ],
   "source": [
    "('apple' in fruits) or ('celery' in vegetables)"
   ]
  },
  {
   "cell_type": "code",
   "execution_count": 13,
   "id": "4536a4cd-fa1b-4be8-a6f3-f5abba0fd93f",
   "metadata": {},
   "outputs": [
    {
     "data": {
      "text/plain": [
       "True"
      ]
     },
     "execution_count": 13,
     "metadata": {},
     "output_type": "execute_result"
    }
   ],
   "source": [
    "'app' in 'apple'"
   ]
  },
  {
   "attachments": {},
   "cell_type": "markdown",
   "id": "b46c8f1e",
   "metadata": {},
   "source": [
    "#### Remember\n",
    "- not, in, and, or are some Python keywords that are useful in asking questions."
   ]
  },
  {
   "cell_type": "code",
   "execution_count": 14,
   "id": "5c3907e6-51db-4f03-a87d-c59a4ff5ea2c",
   "metadata": {},
   "outputs": [
    {
     "data": {
      "text/plain": [
       "False"
      ]
     },
     "execution_count": 14,
     "metadata": {},
     "output_type": "execute_result"
    }
   ],
   "source": [
    "#able to compare of the same types eg. number and number, string and string\n",
    "'apple' > 'orange'"
   ]
  },
  {
   "attachments": {},
   "cell_type": "markdown",
   "id": "f73b366a",
   "metadata": {},
   "source": [
    "## 2.1 Asking Math questions"
   ]
  },
  {
   "cell_type": "code",
   "execution_count": 15,
   "id": "0a4dfc9c-1d1c-4d09-bc5e-a0a97722f8ec",
   "metadata": {},
   "outputs": [
    {
     "data": {
      "text/plain": [
       "True"
      ]
     },
     "execution_count": 15,
     "metadata": {},
     "output_type": "execute_result"
    }
   ],
   "source": [
    "10>=3"
   ]
  },
  {
   "cell_type": "code",
   "execution_count": 18,
   "id": "f7a5456e-e73f-474c-9d68-8803ef25106a",
   "metadata": {},
   "outputs": [],
   "source": [
    "x=3"
   ]
  },
  {
   "cell_type": "code",
   "execution_count": 21,
   "id": "fcae9fdb-fd79-4ba4-a0b2-be07a7893b0a",
   "metadata": {},
   "outputs": [
    {
     "data": {
      "text/plain": [
       "False"
      ]
     },
     "execution_count": 21,
     "metadata": {},
     "output_type": "execute_result"
    }
   ],
   "source": [
    "x>5 and x<13\n",
    "(x>5) and (x<13) #neater, easier to see"
   ]
  },
  {
   "cell_type": "code",
   "execution_count": 24,
   "id": "e545350b-434e-4b3a-8e79-8abe31563b6a",
   "metadata": {},
   "outputs": [
    {
     "data": {
      "text/plain": [
       "False"
      ]
     },
     "execution_count": 24,
     "metadata": {},
     "output_type": "execute_result"
    }
   ],
   "source": [
    "5<x<15 #only in Python"
   ]
  },
  {
   "attachments": {},
   "cell_type": "markdown",
   "id": "2a042a00",
   "metadata": {},
   "source": [
    "# 3 Python stores information in different formats or types"
   ]
  },
  {
   "cell_type": "code",
   "execution_count": 25,
   "id": "b0112bee-4c9c-4aac-be7b-77256d5beeee",
   "metadata": {},
   "outputs": [
    {
     "name": "stdout",
     "output_type": "stream",
     "text": [
      "1 <class 'int'>\n"
     ]
    }
   ],
   "source": [
    "x = int(1.234)\n",
    "print(x, type(x)) #whole number"
   ]
  },
  {
   "cell_type": "code",
   "execution_count": 26,
   "id": "b56f04a2-b248-403a-bbaa-f9bbcbcb0a2e",
   "metadata": {},
   "outputs": [
    {
     "name": "stdout",
     "output_type": "stream",
     "text": [
      "1.234 <class 'str'>\n"
     ]
    }
   ],
   "source": [
    "x = str(1.234)\n",
    "print(x, type(x)) #looks like a number, but is English"
   ]
  },
  {
   "cell_type": "code",
   "execution_count": 27,
   "id": "f904e1dc-c9f0-4fab-ac6a-99846ddc4e9b",
   "metadata": {},
   "outputs": [
    {
     "name": "stdout",
     "output_type": "stream",
     "text": [
      "1.234 <class 'float'>\n"
     ]
    }
   ],
   "source": [
    "x = float(1.234)\n",
    "print(x, type(x))"
   ]
  },
  {
   "cell_type": "code",
   "execution_count": 28,
   "id": "66edbacc-ef71-4b90-878e-2e8d57a8bb4a",
   "metadata": {},
   "outputs": [
    {
     "name": "stdout",
     "output_type": "stream",
     "text": [
      "(1.234+0j) <class 'complex'>\n"
     ]
    }
   ],
   "source": [
    "x = complex(1.234)\n",
    "print(x, type(x))"
   ]
  },
  {
   "attachments": {},
   "cell_type": "markdown",
   "id": "8fc9ad55",
   "metadata": {},
   "source": [
    "# 4 Never compare floats directly"
   ]
  },
  {
   "attachments": {},
   "cell_type": "markdown",
   "id": "641fbe8c",
   "metadata": {},
   "source": [
    "## 4.1 The Problem"
   ]
  },
  {
   "cell_type": "code",
   "execution_count": 44,
   "id": "4c2c1235-3b23-4dcf-b98b-64be06ac365f",
   "metadata": {},
   "outputs": [
    {
     "data": {
      "text/plain": [
       "False"
      ]
     },
     "execution_count": 44,
     "metadata": {},
     "output_type": "execute_result"
    }
   ],
   "source": [
    "a = 0.1\n",
    "a3 = 0.3\n",
    "a * 3 == a3 #'false' since rounding off occurs"
   ]
  },
  {
   "cell_type": "code",
   "execution_count": 45,
   "id": "55ebd8ce-7606-421a-a0cb-7ae98244d373",
   "metadata": {},
   "outputs": [
    {
     "data": {
      "text/plain": [
       "5.551115123125783e-17"
      ]
     },
     "execution_count": 45,
     "metadata": {},
     "output_type": "execute_result"
    }
   ],
   "source": [
    "#ie.\n",
    "a*3 - a3"
   ]
  },
  {
   "cell_type": "code",
   "execution_count": 46,
   "id": "0eaecbfb-7846-4255-b5ef-1655bdeb1ac1",
   "metadata": {},
   "outputs": [
    {
     "data": {
      "text/plain": [
       "'0.29999999999999999'"
      ]
     },
     "execution_count": 46,
     "metadata": {},
     "output_type": "execute_result"
    }
   ],
   "source": [
    "#ie.\n",
    "f'{0.3:.17f}'"
   ]
  },
  {
   "attachments": {},
   "cell_type": "markdown",
   "id": "7714534d",
   "metadata": {},
   "source": [
    "## 4.2 A solution"
   ]
  },
  {
   "cell_type": "code",
   "execution_count": 47,
   "id": "f69979d4-25b1-41df-b1a2-1e18b7604e59",
   "metadata": {},
   "outputs": [
    {
     "data": {
      "text/plain": [
       "True"
      ]
     },
     "execution_count": 47,
     "metadata": {},
     "output_type": "execute_result"
    }
   ],
   "source": [
    "abs(a*3-a3) < 1E-10"
   ]
  },
  {
   "cell_type": "code",
   "execution_count": 48,
   "id": "067a3328-2d7d-4f10-90d7-70b52f8ad0fe",
   "metadata": {},
   "outputs": [
    {
     "data": {
      "text/plain": [
       "True"
      ]
     },
     "execution_count": 48,
     "metadata": {},
     "output_type": "execute_result"
    }
   ],
   "source": [
    "abs(a3-a*3) < 1E-10 ##account for absolute"
   ]
  },
  {
   "cell_type": "code",
   "execution_count": 49,
   "id": "8d91cc9e-73a9-476a-9c2f-5703ff35c9ed",
   "metadata": {},
   "outputs": [],
   "source": [
    "import numpy as np"
   ]
  },
  {
   "cell_type": "code",
   "execution_count": 50,
   "id": "eb724e31-9edc-4011-954f-4fe20ffb686c",
   "metadata": {},
   "outputs": [
    {
     "data": {
      "text/plain": [
       "True"
      ]
     },
     "execution_count": 50,
     "metadata": {},
     "output_type": "execute_result"
    }
   ],
   "source": [
    "np.isclose(a3,a*3)\n",
    "#https://numpy.org/doc/stable/reference/generated/numpy.isclose.html (for more details)"
   ]
  },
  {
   "attachments": {},
   "cell_type": "markdown",
   "id": "374ea07e",
   "metadata": {},
   "source": [
    "# 5 Combining English and variables"
   ]
  },
  {
   "cell_type": "markdown",
   "id": "38c48780-1da6-413c-9af2-ca845052bef3",
   "metadata": {},
   "source": [
    "##### Example 1"
   ]
  },
  {
   "cell_type": "code",
   "execution_count": 7,
   "id": "f8e9306d-c3d4-4672-b338-0ed45e475c6d",
   "metadata": {},
   "outputs": [
    {
     "name": "stdout",
     "output_type": "stream",
     "text": [
      "kamen rider blade\n"
     ]
    }
   ],
   "source": [
    "name = \"blade\"\n",
    "print(f\"kamen rider {name}\") #f turns things to variables"
   ]
  },
  {
   "cell_type": "markdown",
   "id": "9113f03a-d00e-4ded-b6ed-ab590ce55526",
   "metadata": {},
   "source": [
    "##### Example 2"
   ]
  },
  {
   "cell_type": "code",
   "execution_count": 16,
   "id": "c6d8f947-86b9-46c8-88e8-8092e076b769",
   "metadata": {},
   "outputs": [
    {
     "name": "stdout",
     "output_type": "stream",
     "text": [
      "kamen rider KUUGA\n"
     ]
    }
   ],
   "source": [
    "name = \"kuuga\"\n",
    "print(f\"kamen rider {name.upper()}\")"
   ]
  },
  {
   "cell_type": "markdown",
   "id": "c3d8cef6-636b-49f4-b018-ff0ab4df603d",
   "metadata": {},
   "source": [
    "##### Example 3"
   ]
  },
  {
   "cell_type": "code",
   "execution_count": 14,
   "id": "2dfc2943-8833-436e-830b-8df79c5f8fb0",
   "metadata": {},
   "outputs": [
    {
     "name": "stdout",
     "output_type": "stream",
     "text": [
      "The value of your love for cheese is 10, but the value of my love for cheese is 100000\n"
     ]
    }
   ],
   "source": [
    "x = 10\n",
    "print(f\"The value of your love for cheese is {x}, but the value of my love for cheese is {x**5}\")"
   ]
  },
  {
   "cell_type": "markdown",
   "id": "12275e55-f07c-40f7-bd15-e4705d43952c",
   "metadata": {},
   "source": [
    "##### Example 4"
   ]
  },
  {
   "cell_type": "code",
   "execution_count": 49,
   "id": "5191bc8d-8f67-4902-8341-b994d5fa32de",
   "metadata": {},
   "outputs": [
    {
     "name": "stdout",
     "output_type": "stream",
     "text": [
      "kurogane supanaaaaa\n"
     ]
    }
   ],
   "source": [
    "# Formating texts\n",
    "saying = \"kurogane supanaaaaa\"\n",
    "print(f\"{saying}\")"
   ]
  },
  {
   "cell_type": "code",
   "execution_count": 50,
   "id": "04fea3a0-d1f1-4af6-9cd6-51764d3431a1",
   "metadata": {},
   "outputs": [
    {
     "name": "stdout",
     "output_type": "stream",
     "text": [
      "                                                       kurogane supanaaaaa                                                       \n"
     ]
    }
   ],
   "source": [
    "print(f\"{saying:^129}\")  #add (no.) of character spaces in front"
   ]
  },
  {
   "cell_type": "code",
   "execution_count": 51,
   "id": "4a9e02a0-a0f1-4f71-bf27-7425733ab571",
   "metadata": {},
   "outputs": [
    {
     "name": "stdout",
     "output_type": "stream",
     "text": [
      "--kurogane supanaaaaa---\n",
      "kurogane supanaaaaa👺👺👺👺👺👺👺👺👺👺👺👺👺👺👺👺👺👺👺👺👺👺👺👺👺👺👺👺👺👺👺👺👺👺👺👺👺👺👺👺👺👺👺👺👺👺👺👺👺👺👺👺👺👺👺👺👺👺👺👺👺👺👺👺\n"
     ]
    }
   ],
   "source": [
    "print(f\"{saying:-^24}\") #fills up empty space with dashes\n",
    "print(f\"{saying:👺<83}\")\n",
    "#^: middle alignment, < : right alignment,> : left alignment"
   ]
  },
  {
   "cell_type": "markdown",
   "id": "a54d1de7-a2d2-4020-9502-3e7b63f92251",
   "metadata": {},
   "source": [
    "##### Example 5"
   ]
  },
  {
   "cell_type": "code",
   "execution_count": 55,
   "id": "3fc32f13-f0a0-40e8-b1fd-0ead453f842f",
   "metadata": {},
   "outputs": [
    {
     "name": "stdout",
     "output_type": "stream",
     "text": [
      "the circumference of my stomach is 314159.2654\n",
      "we driving at speed of light ie. 2.99792458e+08m/s\n"
     ]
    }
   ],
   "source": [
    "# Formating numbers\n",
    "import numpy as np\n",
    "\n",
    "print(f\"the circumference of my stomach is {np.pi*100000:.4f}\") #to 4d.p.\n",
    "print(f\"we driving at speed of light ie. {299792458:.8e}m/s\") #scientific notation"
   ]
  },
  {
   "attachments": {},
   "cell_type": "markdown",
   "id": "a50396f4",
   "metadata": {},
   "source": [
    "## 5.1 Structure of f-strings"
   ]
  },
  {
   "cell_type": "markdown",
   "id": "2f6b36fd-8dab-4d1d-94c5-e0960b5cd6da",
   "metadata": {},
   "source": [
    "`Refer to this for `\n",
    "[Commands for f-strings](https://sps.nus.edu.sg/sp2273/docs/python_basics/02_basics/2_basics_good.html)"
   ]
  },
  {
   "attachments": {},
   "cell_type": "markdown",
   "id": "e166dab4",
   "metadata": {},
   "source": [
    "# 6 Escape sequences"
   ]
  },
  {
   "cell_type": "code",
   "execution_count": 66,
   "id": "c2fda1da-4e48-4839-b201-0919ce5641bf",
   "metadata": {},
   "outputs": [
    {
     "name": "stdout",
     "output_type": "stream",
     "text": [
      "I know\n",
      "\tbut I still let go\n",
      "\t\t\tof that hand\n"
     ]
    }
   ],
   "source": [
    "# Break a line\n",
    "print('I know\\n\\tbut I still let go\\n\\t\\t\\tof that hand')\n",
    "#\"\\n\" breaks a line, \"\\t\": tab"
   ]
  },
  {
   "cell_type": "code",
   "execution_count": 67,
   "id": "90bce6a7-f80d-4f5b-a9b7-529bf1b7948d",
   "metadata": {},
   "outputs": [
    {
     "name": "stdout",
     "output_type": "stream",
     "text": [
      "might as well just use \"\", makes life easier, doesn't it?\n"
     ]
    }
   ],
   "source": [
    "#To avoid errors \n",
    "print('might as well just use \"\", makes life easier, doesn\\'t it?')"
   ]
  },
  {
   "cell_type": "code",
   "execution_count": 69,
   "id": "b13b1a54-3fce-42fe-82ed-280ff0808e01",
   "metadata": {},
   "outputs": [
    {
     "name": "stdout",
     "output_type": "stream",
     "text": [
      "why\\would\\you\\need\\backslashes?\n"
     ]
    }
   ],
   "source": [
    "#To put backslashes\n",
    "print(\"why\\\\would\\\\you\\\\need\\\\backslashes?\")"
   ]
  },
  {
   "attachments": {},
   "cell_type": "markdown",
   "id": "c63b6ff5",
   "metadata": {},
   "source": [
    "# 7 Computers read = from Right to Left!"
   ]
  },
  {
   "cell_type": "code",
   "execution_count": 71,
   "id": "bbdc52ad-b869-41a1-a4c0-0c342ad8adb1",
   "metadata": {},
   "outputs": [
    {
     "data": {
      "text/plain": [
       "19"
      ]
     },
     "execution_count": 71,
     "metadata": {},
     "output_type": "execute_result"
    }
   ],
   "source": [
    "x = 24\n",
    "y = x - 5\n",
    "y"
   ]
  },
  {
   "cell_type": "code",
   "execution_count": 72,
   "id": "3db724d6-f9c1-45c9-8e69-6bdc547c2e69",
   "metadata": {},
   "outputs": [
    {
     "data": {
      "text/plain": [
       "12.0"
      ]
     },
     "execution_count": 72,
     "metadata": {},
     "output_type": "execute_result"
    }
   ],
   "source": [
    "x = 24\n",
    "x = x/2\n",
    "x"
   ]
  },
  {
   "attachments": {},
   "cell_type": "markdown",
   "id": "bbd12db0",
   "metadata": {},
   "source": [
    "# 8 Shorter and Cleaner Code"
   ]
  },
  {
   "cell_type": "code",
   "execution_count": 74,
   "id": "6496eb33-f6a8-4602-aa82-1ab78c01fb95",
   "metadata": {},
   "outputs": [
    {
     "data": {
      "text/plain": [
       "12.0"
      ]
     },
     "execution_count": 74,
     "metadata": {},
     "output_type": "execute_result"
    }
   ],
   "source": [
    "#shorthand\n",
    "x = 24\n",
    "x /= 2\n",
    "x"
   ]
  },
  {
   "cell_type": "markdown",
   "id": "3d96baab-c895-4871-bfdc-53a4c340cef9",
   "metadata": {},
   "source": [
    "Refer to [shorthand notation](https://sps.nus.edu.sg/sp2273/docs/python_basics/02_basics/2_basics_good.html) for more shorthands"
   ]
  },
  {
   "attachments": {},
   "cell_type": "markdown",
   "id": "dc3f81aa",
   "metadata": {},
   "source": [
    "# 9 Python can be a prima-donna."
   ]
  },
  {
   "cell_type": "code",
   "execution_count": 75,
   "id": "cdde22f9-fdb6-4c1b-bcca-e3a6fe0454cb",
   "metadata": {},
   "outputs": [
    {
     "ename": "SyntaxError",
     "evalue": "incomplete input (2097445145.py, line 2)",
     "output_type": "error",
     "traceback": [
      "\u001b[0;36m  Cell \u001b[0;32mIn[75], line 2\u001b[0;36m\u001b[0m\n\u001b[0;31m    #Error is at the last line\u001b[0m\n\u001b[0m                              ^\u001b[0m\n\u001b[0;31mSyntaxError\u001b[0m\u001b[0;31m:\u001b[0m incomplete input\n"
     ]
    }
   ],
   "source": [
    "print(\n",
    "#Error is at the last line"
   ]
  },
  {
   "attachments": {},
   "cell_type": "markdown",
   "id": "990dc9ee",
   "metadata": {},
   "source": [
    "# 10 Best Practices for Scientific Computing"
   ]
  },
  {
   "cell_type": "markdown",
   "id": "7c863dbc-d06a-43b8-9ec8-00fef55de7de",
   "metadata": {},
   "source": [
    "##### to note:\n",
    "- Write programs for people, not computers.\n",
    "- Optimise software only after it works correctly.\n",
    "- Document design and purpose, not mechanics.\n",
    "- Collaborate."
   ]
  },
  {
   "attachments": {},
   "cell_type": "markdown",
   "id": "9b1f1337",
   "metadata": {},
   "source": [
    "# 11 Looking for help"
   ]
  },
  {
   "cell_type": "code",
   "execution_count": null,
   "id": "a06835e2-2ac7-4793-a238-efad626c981d",
   "metadata": {},
   "outputs": [
    {
     "name": "stdout",
     "output_type": "stream",
     "text": [
      "Welcome to Python 3.11's help utility! If this is your first time using\n",
      "Python, you should definitely check out the tutorial at\n",
      "https://docs.python.org/3.11/tutorial/.\n",
      "\n",
      "Enter the name of any module, keyword, or topic to get help on writing\n",
      "Python programs and using Python modules.  To get a list of available\n",
      "modules, keywords, symbols, or topics, enter \"modules\", \"keywords\",\n",
      "\"symbols\", or \"topics\".\n",
      "\n",
      "Each module also comes with a one-line summary of what it does; to list\n",
      "the modules whose name or summary contain a given string such as \"spam\",\n",
      "enter \"modules spam\".\n",
      "\n",
      "To quit this help utility and return to the interpreter,\n",
      "enter \"q\" or \"quit\".\n",
      "\n"
     ]
    }
   ],
   "source": [
    "##### please help\n",
    "help()"
   ]
  },
  {
   "cell_type": "code",
   "execution_count": null,
   "id": "3996fff5-4bc0-4e8d-aca5-7f4af8fed350",
   "metadata": {},
   "outputs": [],
   "source": []
  }
 ],
 "metadata": {
  "kernelspec": {
   "display_name": "Python 3 (ipykernel)",
   "language": "python",
   "name": "python3"
  },
  "language_info": {
   "codemirror_mode": {
    "name": "ipython",
    "version": 3
   },
   "file_extension": ".py",
   "mimetype": "text/x-python",
   "name": "python",
   "nbconvert_exporter": "python",
   "pygments_lexer": "ipython3",
   "version": "3.11.7"
  },
  "toc": {
   "base_numbering": 1,
   "nav_menu": {},
   "number_sections": true,
   "sideBar": true,
   "skip_h1_title": false,
   "title_cell": "Table of Contents",
   "title_sidebar": "Contents",
   "toc_cell": false,
   "toc_position": {},
   "toc_section_display": true,
   "toc_window_display": false
  },
  "vscode": {
   "interpreter": {
    "hash": "31f2aee4e71d21fbe5cf8b01ff0e069b9275f58929596ceb00d14d90e3e16cd6"
   }
  }
 },
 "nbformat": 4,
 "nbformat_minor": 5
}
