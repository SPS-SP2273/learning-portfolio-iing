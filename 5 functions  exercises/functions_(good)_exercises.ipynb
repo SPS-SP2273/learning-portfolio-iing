{
 "cells": [
  {
   "attachments": {},
   "cell_type": "markdown",
   "id": "123456",
   "metadata": {},
   "source": [
    "<div style=\"text-align:left;font-size:2em\"><span style=\"font-weight:bolder;font-size:1.25em\">SP2273 | Learning Portfolio</span><br><br><span style=\"font-weight:bold;color:darkred\">Functions (Good) Exercises</span></div>"
   ]
  },
  {
   "cell_type": "markdown",
   "id": "fe1021f0-7e70-4219-b94d-aef4abe502a4",
   "metadata": {},
   "source": [
    "##### Exercise 1"
   ]
  },
  {
   "cell_type": "code",
   "execution_count": 5,
   "id": "7d5b3f78-0c86-4036-951c-8a28aa8488dc",
   "metadata": {},
   "outputs": [],
   "source": [
    "def convert_celsius(temperature_celsius, target_scale = 'Fahrenheit'):\n",
    "    if target_scale == 'Kelvin':\n",
    "        temperature_kelvin = temperature_celsius + 273.15\n",
    "        return temperature_kelvin\n",
    "    else:\n",
    "        temperature_fahrenheit = (temperature_celsius*9/5)+32\n",
    "        return temperature_fahrenheit"
   ]
  },
  {
   "cell_type": "code",
   "execution_count": 6,
   "id": "178b9625-d859-48bf-a050-186808898ad1",
   "metadata": {},
   "outputs": [
    {
     "data": {
      "text/plain": [
       "305.15"
      ]
     },
     "execution_count": 6,
     "metadata": {},
     "output_type": "execute_result"
    }
   ],
   "source": [
    "convert_celsius(32, 'Kelvin')"
   ]
  },
  {
   "cell_type": "code",
   "execution_count": 7,
   "id": "42420925-b33a-4885-ade4-99b4ca72dfa3",
   "metadata": {},
   "outputs": [
    {
     "data": {
      "text/plain": [
       "89.6"
      ]
     },
     "execution_count": 7,
     "metadata": {},
     "output_type": "execute_result"
    }
   ],
   "source": [
    "convert_celsius(32)"
   ]
  },
  {
   "cell_type": "markdown",
   "id": "296f0618-e6bd-4419-be42-7b289874a247",
   "metadata": {},
   "source": [
    "##### Exercise 2"
   ]
  },
  {
   "cell_type": "code",
   "execution_count": 8,
   "id": "330a400c-922b-46e2-aee0-ca97ea327d31",
   "metadata": {},
   "outputs": [],
   "source": [
    "def convert_fahrenheit(temperature_fahrenheit, target_scale = 'Celsius'):\n",
    "    if target_scale == 'Kelvin':\n",
    "        temperature_kelvin = (temperature_fahrenheit-32)*5/9 + 273.15\n",
    "        return temperature_kelvin\n",
    "    else:\n",
    "        temperature_celsius = (temperature_fahrenheit-32)*5/9\n",
    "        return temperature_celsius"
   ]
  },
  {
   "cell_type": "code",
   "execution_count": 9,
   "id": "1d66d852-f9a5-4e3a-bc26-b2260c235c04",
   "metadata": {},
   "outputs": [
    {
     "data": {
      "text/plain": [
       "26.38888888888889"
      ]
     },
     "execution_count": 9,
     "metadata": {},
     "output_type": "execute_result"
    }
   ],
   "source": [
    "convert_fahrenheit(79.5)"
   ]
  },
  {
   "cell_type": "code",
   "execution_count": 10,
   "id": "c1c6029b-291e-4abc-a02c-75eb782345b1",
   "metadata": {},
   "outputs": [
    {
     "data": {
      "text/plain": [
       "299.5388888888889"
      ]
     },
     "execution_count": 10,
     "metadata": {},
     "output_type": "execute_result"
    }
   ],
   "source": [
    "convert_fahrenheit(79.5, 'Kelvin')"
   ]
  },
  {
   "cell_type": "markdown",
   "id": "fdfcbb58-b280-464b-91c9-41dea781975e",
   "metadata": {},
   "source": [
    "##### Exercise 3"
   ]
  },
  {
   "cell_type": "code",
   "execution_count": 30,
   "id": "390d7866-1845-4e88-82b3-c30b8ae302af",
   "metadata": {},
   "outputs": [],
   "source": [
    "def convert_temperature(temperature, source_scale, target_scale):\n",
    "    if source_scale == 'Celsius':\n",
    "        return convert_celsius(temperature, target_scale)\n",
    "    elif source_scale == 'Fahrenheit':\n",
    "        return convert_fahrenheit(temperature, target_scale)\n",
    "    elif source_scale == 'Kelvin' and target_scale == 'Celsius':\n",
    "        temperature_celsius = temperature - 273.15\n",
    "        return temperature_celsius\n",
    "    else :\n",
    "        temperature_fahrenheit = (temperature-273.15)*9/5 + 32\n",
    "        return temperature_fahrenheit"
   ]
  },
  {
   "cell_type": "code",
   "execution_count": 29,
   "id": "9a1175e1-5be4-4df2-be57-a7d0409b66fc",
   "metadata": {},
   "outputs": [
    {
     "data": {
      "text/plain": [
       "80.6"
      ]
     },
     "execution_count": 29,
     "metadata": {},
     "output_type": "execute_result"
    }
   ],
   "source": [
    "convert_temperature(27, 'Celsius', 'Fahrenheit')"
   ]
  },
  {
   "cell_type": "code",
   "execution_count": 28,
   "id": "c4de1693-0b72-41d6-aae1-a4b0ae7aa7a5",
   "metadata": {},
   "outputs": [
    {
     "data": {
      "text/plain": [
       "300.15"
      ]
     },
     "execution_count": 28,
     "metadata": {},
     "output_type": "execute_result"
    }
   ],
   "source": [
    "convert_temperature(27, 'Celsius', 'Kelvin')"
   ]
  },
  {
   "cell_type": "code",
   "execution_count": 27,
   "id": "55776218-f809-43ed-8d4b-a8d6a716e17b",
   "metadata": {},
   "outputs": [
    {
     "data": {
      "text/plain": [
       "30.555555555555557"
      ]
     },
     "execution_count": 27,
     "metadata": {},
     "output_type": "execute_result"
    }
   ],
   "source": [
    "convert_temperature(87, 'Fahrenheit', 'Celsius')"
   ]
  },
  {
   "cell_type": "code",
   "execution_count": 26,
   "id": "b6d04767-9e2a-42f3-b837-a08aab4800ae",
   "metadata": {},
   "outputs": [
    {
     "data": {
      "text/plain": [
       "303.7055555555555"
      ]
     },
     "execution_count": 26,
     "metadata": {},
     "output_type": "execute_result"
    }
   ],
   "source": [
    "convert_temperature(87, 'Fahrenheit', 'Kelvin')"
   ]
  },
  {
   "cell_type": "code",
   "execution_count": 25,
   "id": "13719092-a95e-4dd1-ac89-d89ce67d8f17",
   "metadata": {},
   "outputs": [
    {
     "data": {
      "text/plain": [
       "24.850000000000023"
      ]
     },
     "execution_count": 25,
     "metadata": {},
     "output_type": "execute_result"
    }
   ],
   "source": [
    "convert_temperature(298, 'Kelvin', 'Celsius')"
   ]
  },
  {
   "cell_type": "code",
   "execution_count": 24,
   "id": "c1d876db-c492-416f-89e6-4090c100e678",
   "metadata": {},
   "outputs": [
    {
     "data": {
      "text/plain": [
       "76.73000000000005"
      ]
     },
     "execution_count": 24,
     "metadata": {},
     "output_type": "execute_result"
    }
   ],
   "source": [
    "convert_temperature(298, 'Kelvin', 'Fahrenheit')"
   ]
  }
 ],
 "metadata": {
  "kernelspec": {
   "display_name": "Python 3 (ipykernel)",
   "language": "python",
   "name": "python3"
  },
  "language_info": {
   "codemirror_mode": {
    "name": "ipython",
    "version": 3
   },
   "file_extension": ".py",
   "mimetype": "text/x-python",
   "name": "python",
   "nbconvert_exporter": "python",
   "pygments_lexer": "ipython3",
   "version": "3.11.7"
  },
  "toc": {
   "base_numbering": 1,
   "nav_menu": {},
   "number_sections": true,
   "sideBar": true,
   "skip_h1_title": false,
   "title_cell": "Table of Contents",
   "title_sidebar": "Contents",
   "toc_cell": false,
   "toc_position": {},
   "toc_section_display": true,
   "toc_window_display": false
  },
  "vscode": {
   "interpreter": {
    "hash": "31f2aee4e71d21fbe5cf8b01ff0e069b9275f58929596ceb00d14d90e3e16cd6"
   }
  }
 },
 "nbformat": 4,
 "nbformat_minor": 5
}
