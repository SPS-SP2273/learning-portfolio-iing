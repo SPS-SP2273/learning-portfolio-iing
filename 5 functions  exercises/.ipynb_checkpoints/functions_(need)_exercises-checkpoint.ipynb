{
 "cells": [
  {
   "attachments": {},
   "cell_type": "markdown",
   "id": "123456",
   "metadata": {},
   "source": [
    "<div style=\"text-align:left;font-size:2em\"><span style=\"font-weight:bolder;font-size:1.25em\">SP2273 | Learning Portfolio</span><br><br><span style=\"font-weight:bold;color:darkred\">Functions (Need) Exercises</span></div>"
   ]
  },
  {
   "cell_type": "markdown",
   "id": "2e1d2bbe-a8e4-44e1-be6e-101356fb6e3a",
   "metadata": {},
   "source": [
    "##### Exercise 1"
   ]
  },
  {
   "cell_type": "code",
   "execution_count": 1,
   "id": "e854c5c8-8f92-493a-9a79-bf955993c110",
   "metadata": {},
   "outputs": [],
   "source": [
    "def greeting(name):\n",
    "    if name == 'Batman':\n",
    "        return 'Hello Batman! So, nice to meet you!'\n",
    "    return f'Hello {name}!'"
   ]
  },
  {
   "cell_type": "code",
   "execution_count": 2,
   "id": "0b1d548d-e106-43a4-91d6-282cfc2b9db9",
   "metadata": {},
   "outputs": [
    {
     "data": {
      "text/plain": [
       "'Hello Superfly!'"
      ]
     },
     "execution_count": 2,
     "metadata": {},
     "output_type": "execute_result"
    }
   ],
   "source": [
    "greeting('Superfly')"
   ]
  },
  {
   "cell_type": "markdown",
   "id": "e9ef1c3f-ca2a-4310-baa7-c8ce5620160a",
   "metadata": {},
   "source": [
    "Why does the code still work?\n",
    "- under the \"if name == 'Batman'\", it means that if it is true that the name is 'Batman', the sentence \"Hello Batman... you!\" will be printed. On the other hand, if it is false, that message will not be printed, and instead 'Hello {name}' will be printed instead.So, there is no need for a else"
   ]
  },
  {
   "cell_type": "markdown",
   "id": "32208a89-7b81-46f9-8ed9-03554027899b",
   "metadata": {},
   "source": [
    "##### Exercise 2"
   ]
  },
  {
   "cell_type": "code",
   "execution_count": 24,
   "id": "9be28d17-e468-4d65-9448-c4ccb212e39b",
   "metadata": {},
   "outputs": [],
   "source": [
    "def calculate_bmi(weight, height):\n",
    "    BMI = weight / (height**2)\n",
    "    if BMI < 0:\n",
    "        return 'error'\n",
    "    elif 0< BMI <18.5:\n",
    "        return f'{BMI:.1f}, Underweight'\n",
    "    elif 18.5<=BMI<= 24.9:\n",
    "        return f'{BMI:.1f}, Normal weight'\n",
    "    elif 25<=BMI<=29.9:\n",
    "        return f'{BMI:.1f}, Overweight'\n",
    "    return f'{BMI:.1f}, Obesity'"
   ]
  },
  {
   "cell_type": "code",
   "execution_count": 26,
   "id": "cb711e6e-c534-42d4-b2c5-2fc80d93e7c0",
   "metadata": {},
   "outputs": [
    {
     "data": {
      "text/plain": [
       "'17.5, Underweight'"
      ]
     },
     "execution_count": 26,
     "metadata": {},
     "output_type": "execute_result"
    }
   ],
   "source": [
    "calculate_bmi(50, 1.69)"
   ]
  }
 ],
 "metadata": {
  "kernelspec": {
   "display_name": "Python 3 (ipykernel)",
   "language": "python",
   "name": "python3"
  },
  "language_info": {
   "codemirror_mode": {
    "name": "ipython",
    "version": 3
   },
   "file_extension": ".py",
   "mimetype": "text/x-python",
   "name": "python",
   "nbconvert_exporter": "python",
   "pygments_lexer": "ipython3",
   "version": "3.11.7"
  },
  "toc": {
   "base_numbering": 1,
   "nav_menu": {},
   "number_sections": true,
   "sideBar": true,
   "skip_h1_title": false,
   "title_cell": "Table of Contents",
   "title_sidebar": "Contents",
   "toc_cell": false,
   "toc_position": {},
   "toc_section_display": true,
   "toc_window_display": false
  },
  "vscode": {
   "interpreter": {
    "hash": "31f2aee4e71d21fbe5cf8b01ff0e069b9275f58929596ceb00d14d90e3e16cd6"
   }
  }
 },
 "nbformat": 4,
 "nbformat_minor": 5
}
