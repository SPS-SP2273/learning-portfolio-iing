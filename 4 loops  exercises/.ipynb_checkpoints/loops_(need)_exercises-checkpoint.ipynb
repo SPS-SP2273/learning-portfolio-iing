{
 "cells": [
  {
   "attachments": {},
   "cell_type": "markdown",
   "id": "123456",
   "metadata": {},
   "source": [
    "<div style=\"text-align:left;font-size:2em\"><span style=\"font-weight:bolder;font-size:1.25em\">SP2273 | Learning Portfolio</span><br><br><span style=\"font-weight:bold;color:darkred\">Loops (Need) Exercises</span></div>"
   ]
  },
  {
   "cell_type": "markdown",
   "id": "4266ce48-2b13-4f38-9612-4b8f69a9d272",
   "metadata": {},
   "source": [
    "##### Exercise 1"
   ]
  },
  {
   "cell_type": "code",
   "execution_count": 47,
   "id": "395da268-53be-4bf0-9f41-4d460c758693",
   "metadata": {},
   "outputs": [],
   "source": [
    "temperatures_celsius = [\n",
    "    0, 5, 10, 15, 20, 25,\n",
    "    30, 35, 40, 45, 50\n",
    "]"
   ]
  },
  {
   "cell_type": "code",
   "execution_count": 48,
   "id": "437b1e14-b745-4a1e-9fa9-37421be99d52",
   "metadata": {},
   "outputs": [
    {
     "name": "stdout",
     "output_type": "stream",
     "text": [
      "0ºC, 32.0ºF\n",
      "5ºC, 41.0ºF\n",
      "10ºC, 50.0ºF\n",
      "15ºC, 59.0ºF\n",
      "20ºC, 68.0ºF\n",
      "25ºC, 77.0ºF\n",
      "30ºC, 86.0ºF\n",
      "35ºC, 95.0ºF\n",
      "40ºC, 104.0ºF\n",
      "45ºC, 113.0ºF\n",
      "50ºC, 122.0ºF\n"
     ]
    }
   ],
   "source": [
    "for celsius in temperatures_celsius:\n",
    "    fahrenheit = (9/5)*celsius+32\n",
    "    print(f'{celsius}ºC, {fahrenheit}ºF')"
   ]
  },
  {
   "cell_type": "markdown",
   "id": "c65b79f0-20be-4b86-b41b-49be954c025e",
   "metadata": {},
   "source": [
    "##### Exercise 2"
   ]
  },
  {
   "cell_type": "code",
   "execution_count": 49,
   "id": "4c3bd094-0c29-4a2e-93f8-d459a8adf5d9",
   "metadata": {},
   "outputs": [
    {
     "name": "stdout",
     "output_type": "stream",
     "text": [
      "A1\tA2\tA3\t\n",
      "\n",
      "B1\tB2\tB3\t\n",
      "\n",
      "C1\tC2\tC3\t\n",
      "\n"
     ]
    }
   ],
   "source": [
    "##EXAMPLE: \n",
    "for letter in ['A', 'B', 'C']:\n",
    "    for number in [1, 2, 3]:\n",
    "        print(f'{letter}{number}', end='\\t')\n",
    "    print('\\n')"
   ]
  },
  {
   "cell_type": "code",
   "execution_count": 54,
   "id": "deb764db-1c21-49ef-a70e-7b0e4599005f",
   "metadata": {},
   "outputs": [
    {
     "name": "stdout",
     "output_type": "stream",
     "text": [
      "1:    1    2    3    4    5\n",
      "2:    2    4    6    8   10\n",
      "3:    3    6    9   12   15\n",
      "4:    4    8   12   16   20\n",
      "5:    5   10   15   20   25\n"
     ]
    }
   ],
   "source": [
    "for number in range(1,6):\n",
    "    row = f'{number}:'\n",
    "    for multiples in range(1,6):\n",
    "        multiples = number * multiples\n",
    "        row +=f'{multiples:5}'\n",
    "    print(row)"
   ]
  }
 ],
 "metadata": {
  "kernelspec": {
   "display_name": "Python 3 (ipykernel)",
   "language": "python",
   "name": "python3"
  },
  "language_info": {
   "codemirror_mode": {
    "name": "ipython",
    "version": 3
   },
   "file_extension": ".py",
   "mimetype": "text/x-python",
   "name": "python",
   "nbconvert_exporter": "python",
   "pygments_lexer": "ipython3",
   "version": "3.11.7"
  },
  "toc": {
   "base_numbering": 1,
   "nav_menu": {},
   "number_sections": true,
   "sideBar": true,
   "skip_h1_title": false,
   "title_cell": "Table of Contents",
   "title_sidebar": "Contents",
   "toc_cell": false,
   "toc_position": {},
   "toc_section_display": true,
   "toc_window_display": false
  },
  "vscode": {
   "interpreter": {
    "hash": "31f2aee4e71d21fbe5cf8b01ff0e069b9275f58929596ceb00d14d90e3e16cd6"
   }
  }
 },
 "nbformat": 4,
 "nbformat_minor": 5
}
