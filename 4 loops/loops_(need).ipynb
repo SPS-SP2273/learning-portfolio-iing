{
 "cells": [
  {
   "attachments": {},
   "cell_type": "markdown",
   "id": "123456",
   "metadata": {},
   "source": [
    "<div style=\"text-align:left;font-size:2em\"><span style=\"font-weight:bolder;font-size:1.25em\">SP2273 | Learning Portfolio</span><br><br><span style=\"font-weight:bold;color:darkred\">Loops (Need)</span></div>"
   ]
  },
  {
   "attachments": {},
   "cell_type": "markdown",
   "id": "3dfa7e00",
   "metadata": {},
   "source": [
    "# 1 The for iterator"
   ]
  },
  {
   "attachments": {},
   "cell_type": "markdown",
   "id": "168d2384",
   "metadata": {},
   "source": [
    "## 1.1 for with a list"
   ]
  },
  {
   "cell_type": "code",
   "execution_count": 35,
   "id": "3a488833-53e4-4820-8323-9eb140cb93df",
   "metadata": {},
   "outputs": [],
   "source": [
    "real_names = [\"Houtarou\", \"Rinne\", \"Supana\"]"
   ]
  },
  {
   "cell_type": "code",
   "execution_count": 36,
   "id": "513db122-2edd-4718-a8ca-41593574529e",
   "metadata": {},
   "outputs": [
    {
     "name": "stdout",
     "output_type": "stream",
     "text": [
      "------------------------\n",
      "------------------------\n",
      "HOUTAROU is a Kamen Rider\n",
      "------------------------\n",
      "------------------------\n",
      "------------------------\n",
      "RINNE is a Kamen Rider\n",
      "------------------------\n",
      "------------------------\n",
      "------------------------\n",
      "SUPANA is a Kamen Rider\n",
      "------------------------\n"
     ]
    }
   ],
   "source": [
    "for 名前 in real_names:\n",
    "    print('-'*24)\n",
    "    print('-'*24)\n",
    "    print(f'{名前.upper()} is a Kamen Rider')\n",
    "    print('-'*24)"
   ]
  },
  {
   "attachments": {},
   "cell_type": "markdown",
   "id": "d2b20196",
   "metadata": {},
   "source": [
    "## 1.2 for with enumerate"
   ]
  },
  {
   "cell_type": "code",
   "execution_count": 37,
   "id": "2c780ff9-5170-425e-933c-7de94ba1ac4e",
   "metadata": {},
   "outputs": [],
   "source": [
    "real_names = [\"Houtarou\", \"Rinne\", \"Supana\"]\n",
    "alter_names = ['Gotchard', 'Majade', 'Valvarad']\n",
    "universe = ['Kamen Rider Gotchard', 'Kamen Rider Gotchard', 'Kamen Rider Gotchard']"
   ]
  },
  {
   "cell_type": "code",
   "execution_count": 38,
   "id": "79d3adfd-7ae8-4da7-bae4-7f42529c73f0",
   "metadata": {},
   "outputs": [
    {
     "name": "stdout",
     "output_type": "stream",
     "text": [
      "------------------------\n",
      "0: Houtarou is a Kamen Rider\n",
      "------------------------\n",
      "1: Rinne is a Kamen Rider\n",
      "------------------------\n",
      "2: Supana is a Kamen Rider\n"
     ]
    }
   ],
   "source": [
    "count = 0\n",
    "for names in real_names:\n",
    "    print('-'*24)\n",
    "    print(f'{count}: {names.title()} is a Kamen Rider')\n",
    "    count = count + 1 #able to use this, but there is something more efficient"
   ]
  },
  {
   "cell_type": "code",
   "execution_count": 39,
   "id": "d3475c41-4ae6-4992-91eb-bd8c6ea9e198",
   "metadata": {},
   "outputs": [
    {
     "name": "stdout",
     "output_type": "stream",
     "text": [
      "0: houtarou is a Kamen Rider\n",
      "------------------------\n",
      "1: rinne is a Kamen Rider\n",
      "------------------------\n",
      "2: supana is a Kamen Rider\n",
      "------------------------\n",
      "------------------------\n"
     ]
    }
   ],
   "source": [
    "for index, names in enumerate(real_names): #index is not that special, can be replaced with anything as long as the word under print is the same / corresponding\n",
    "    print(f'{index}: {names.lower()} is a Kamen Rider')\n",
    "    print('-'*24)\n",
    "print('-'*24)"
   ]
  },
  {
   "cell_type": "code",
   "execution_count": 40,
   "id": "6fb06862-935a-4e03-a105-07591f8c3a41",
   "metadata": {},
   "outputs": [
    {
     "name": "stdout",
     "output_type": "stream",
     "text": [
      "20424: HOUTAROU is a Kamen Rider\n",
      "20425: RINNE is a Kamen Rider\n",
      "20426: SUPANA is a Kamen Rider\n"
     ]
    }
   ],
   "source": [
    "for count, names in enumerate (real_names, start = 20424): #the numbering will start from here\n",
    "    print(f'{count}: {names.upper()} is a Kamen Rider')"
   ]
  },
  {
   "attachments": {},
   "cell_type": "markdown",
   "id": "eea38227",
   "metadata": {},
   "source": [
    "## 1.3 for with range"
   ]
  },
  {
   "cell_type": "code",
   "execution_count": 41,
   "id": "3f06379f-77b3-481e-863d-f8d60cd53df0",
   "metadata": {},
   "outputs": [
    {
     "data": {
      "text/plain": [
       "[1, 2, 3, 4]"
      ]
     },
     "execution_count": 41,
     "metadata": {},
     "output_type": "execute_result"
    }
   ],
   "source": [
    "list(range(1, 5))"
   ]
  },
  {
   "cell_type": "code",
   "execution_count": 42,
   "id": "47fd202b-2277-4df3-88ca-de607df584d9",
   "metadata": {},
   "outputs": [
    {
     "name": "stdout",
     "output_type": "stream",
     "text": [
      "0\n",
      "1\n",
      "2\n",
      "3\n",
      "4\n"
     ]
    }
   ],
   "source": [
    "for x in range(5):\n",
    "    print(x)"
   ]
  },
  {
   "cell_type": "code",
   "execution_count": 43,
   "id": "ed017337-854a-4dc8-84bd-59119fc07887",
   "metadata": {},
   "outputs": [
    {
     "name": "stdout",
     "output_type": "stream",
     "text": [
      "1\n",
      "2\n",
      "3\n",
      "4\n",
      "5\n",
      "6\n",
      "7\n",
      "8\n",
      "9\n"
     ]
    }
   ],
   "source": [
    "for x in range(1,10):\n",
    "    print(x)"
   ]
  },
  {
   "cell_type": "code",
   "execution_count": 44,
   "id": "e7d38c2a-b85a-46ff-a917-4590ebd6b741",
   "metadata": {},
   "outputs": [
    {
     "name": "stdout",
     "output_type": "stream",
     "text": [
      "2\n",
      "4\n",
      "6\n",
      "8\n"
     ]
    }
   ],
   "source": [
    "for x in range(2,10,2):\n",
    "    print(x)"
   ]
  },
  {
   "cell_type": "code",
   "execution_count": 45,
   "id": "060be13e-ad81-4d3d-b9fc-322d36080560",
   "metadata": {},
   "outputs": [],
   "source": [
    "for x in range(2,10,-3):\n",
    "    print(x)"
   ]
  },
  {
   "cell_type": "code",
   "execution_count": 46,
   "id": "d92e1764-007b-4787-bf38-3d98ca119705",
   "metadata": {},
   "outputs": [
    {
     "name": "stdout",
     "output_type": "stream",
     "text": [
      "Houtarou: Gotchard is rider 1 in Kamen Rider Gotchard \n",
      "Rinne: Majade is rider 2 in Kamen Rider Gotchard \n",
      "Supana: Valvarad is rider 3 in Kamen Rider Gotchard \n"
     ]
    }
   ],
   "source": [
    "for index in range(len(real_names)):\n",
    "    real_name = real_names[index]\n",
    "    alter_name = alter_names[index]\n",
    "    which_universe = universe[index]\n",
    "    print(f'{real_name}: {alter_name} is rider {index+1} in {which_universe} ')"
   ]
  },
  {
   "cell_type": "code",
   "execution_count": 50,
   "id": "1a8e07b0-a6a3-4b4a-a1c3-1b744fb576aa",
   "metadata": {},
   "outputs": [
    {
     "name": "stdout",
     "output_type": "stream",
     "text": [
      "laugh in your life\n",
      "laugh in your life\n",
      "laugh in your life\n",
      "laugh in your life\n",
      "laugh in your life\n",
      "laugh in your life\n",
      "laugh in your life\n",
      "laugh in your life\n",
      "laugh in your life\n",
      "laugh in your life\n",
      "laugh in your life\n",
      "laugh in your life\n",
      "laugh in your life\n",
      "laugh in your life\n",
      "laugh in your life\n",
      "laugh in your life\n",
      "laugh in your life\n",
      "laugh in your life\n",
      "laugh in your life\n",
      "laugh in your life\n"
     ]
    }
   ],
   "source": [
    "for _ in range(20):\n",
    "    print('laugh in your life')"
   ]
  },
  {
   "attachments": {},
   "cell_type": "markdown",
   "id": "980827bd",
   "metadata": {},
   "source": [
    "# 2 while"
   ]
  },
  {
   "cell_type": "code",
   "execution_count": 1,
   "id": "f8c98578-5dd9-439a-a715-fc223cdb7c7f",
   "metadata": {},
   "outputs": [
    {
     "name": "stdout",
     "output_type": "stream",
     "text": [
      "12\n",
      "11\n",
      "10\n",
      "9\n",
      "8\n",
      "7\n",
      "6\n"
     ]
    }
   ],
   "source": [
    "number = 12\n",
    "\n",
    "while number > 5:\n",
    "    print(number)\n",
    "    number -= 1"
   ]
  }
 ],
 "metadata": {
  "kernelspec": {
   "display_name": "Python 3 (ipykernel)",
   "language": "python",
   "name": "python3"
  },
  "language_info": {
   "codemirror_mode": {
    "name": "ipython",
    "version": 3
   },
   "file_extension": ".py",
   "mimetype": "text/x-python",
   "name": "python",
   "nbconvert_exporter": "python",
   "pygments_lexer": "ipython3",
   "version": "3.11.7"
  },
  "toc": {
   "base_numbering": 1,
   "nav_menu": {},
   "number_sections": true,
   "sideBar": true,
   "skip_h1_title": false,
   "title_cell": "Table of Contents",
   "title_sidebar": "Contents",
   "toc_cell": false,
   "toc_position": {},
   "toc_section_display": true,
   "toc_window_display": false
  },
  "vscode": {
   "interpreter": {
    "hash": "31f2aee4e71d21fbe5cf8b01ff0e069b9275f58929596ceb00d14d90e3e16cd6"
   }
  }
 },
 "nbformat": 4,
 "nbformat_minor": 5
}
