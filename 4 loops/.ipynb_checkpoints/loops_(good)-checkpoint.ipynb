{
 "cells": [
  {
   "attachments": {},
   "cell_type": "markdown",
   "id": "123456",
   "metadata": {},
   "source": [
    "<div style=\"text-align:left;font-size:2em\"><span style=\"font-weight:bolder;font-size:1.25em\">SP2273 | Learning Portfolio</span><br><br><span style=\"font-weight:bold;color:darkred\">Loops (Good)</span></div>"
   ]
  },
  {
   "attachments": {},
   "cell_type": "markdown",
   "id": "d3812488",
   "metadata": {},
   "source": [
    "# 1 Interrupting the flow"
   ]
  },
  {
   "cell_type": "code",
   "execution_count": 78,
   "id": "759a3e91-b724-482c-a7e2-8d569de64bf2",
   "metadata": {},
   "outputs": [
    {
     "name": "stdout",
     "output_type": "stream",
     "text": [
      "will 0 be my 1\n",
      "will 1 be my 9\n",
      "will 2 be my 81\n",
      "will 3 be my 729\n",
      "will 4 be my 6561\n",
      "will 5 be my 59049\n",
      "will 6 be my 531441\n"
     ]
    }
   ],
   "source": [
    "for power in range(12):\n",
    "    number = 9**power\n",
    "    if number > 2510200:\n",
    "        break #telling number to stop running when a condition is hit\n",
    "    print(f'will {power} be my {number}')"
   ]
  },
  {
   "cell_type": "code",
   "execution_count": 79,
   "id": "547ce340-625d-46ab-9073-cd46c88a2280",
   "metadata": {},
   "outputs": [
    {
     "name": "stdout",
     "output_type": "stream",
     "text": [
      "3 to the power of 0 is 1\n",
      "3 to the power of 3 is 729\n",
      "3 to the power of 6 is 531441\n"
     ]
    }
   ],
   "source": [
    "#break and continue\n",
    "for power in range(12):\n",
    "    if power%3 !=0: #checking if the power is a multiple of 3\n",
    "        continue\n",
    "    number = 9**power\n",
    "    if number > 2510200:\n",
    "        break #telling number to stop running when a condition is hit\n",
    "    print(f'3 to the power of {power} is {number}')"
   ]
  },
  {
   "cell_type": "code",
   "execution_count": 80,
   "id": "f10e942a-73c4-4fd0-9826-1b5dc87d3ca4",
   "metadata": {},
   "outputs": [
    {
     "name": "stdout",
     "output_type": "stream",
     "text": [
      "breaking the 3 for the 8\n"
     ]
    }
   ],
   "source": [
    "power =0 \n",
    "while True:\n",
    "    power +=3\n",
    "    number = 2**power\n",
    "    if number > 10:\n",
    "        break\n",
    "    print(f'breaking the {power} for the {number}')"
   ]
  },
  {
   "attachments": {},
   "cell_type": "markdown",
   "id": "d21a7506",
   "metadata": {},
   "source": [
    "# 2 List comprehension!"
   ]
  },
  {
   "attachments": {},
   "cell_type": "markdown",
   "id": "31aecb4a",
   "metadata": {},
   "source": [
    "## 2.1 Basic syntax"
   ]
  },
  {
   "cell_type": "code",
   "execution_count": 81,
   "id": "50fe87a5-3216-4e21-a47f-b2b9d3e4f036",
   "metadata": {},
   "outputs": [
    {
     "data": {
      "text/plain": [
       "[2, 6, 10, 14, 18]"
      ]
     },
     "execution_count": 81,
     "metadata": {},
     "output_type": "execute_result"
    }
   ],
   "source": [
    "[number*2 for number in range(1,10,2)]"
   ]
  },
  {
   "cell_type": "code",
   "execution_count": 82,
   "id": "e0fe2e75-70af-470e-9e29-8ba8454a8642",
   "metadata": {},
   "outputs": [
    {
     "data": {
      "text/plain": [
       "[0, 1, 64, 729, 4096]"
      ]
     },
     "execution_count": 82,
     "metadata": {},
     "output_type": "execute_result"
    }
   ],
   "source": [
    "[number**6 for number in range(5)]"
   ]
  },
  {
   "attachments": {},
   "cell_type": "markdown",
   "id": "b1dc3ec6",
   "metadata": {},
   "source": [
    "## 2.2 List comprehension with conditions"
   ]
  },
  {
   "cell_type": "code",
   "execution_count": 83,
   "id": "979f1342-0ad2-4082-a4e8-efa7ef21f6f9",
   "metadata": {},
   "outputs": [
    {
     "data": {
      "text/plain": [
       "[0, 2, 4, 6, 8, 10, 12, 14, 16, 18, 20, 22]"
      ]
     },
     "execution_count": 83,
     "metadata": {},
     "output_type": "execute_result"
    }
   ],
   "source": [
    "#fast running\n",
    "[number for number in range(53) if number % 2 ==0 and number < 24]"
   ]
  },
  {
   "cell_type": "code",
   "execution_count": 84,
   "id": "c715aa35-6ea6-4bc7-82ea-cc573f97702b",
   "metadata": {},
   "outputs": [
    {
     "data": {
      "text/plain": [
       "[1, 4, 16, 64, 256]"
      ]
     },
     "execution_count": 84,
     "metadata": {},
     "output_type": "execute_result"
    }
   ],
   "source": [
    "[2**power for power in range(10) if power%2 == 0]"
   ]
  },
  {
   "cell_type": "code",
   "execution_count": 85,
   "id": "737b7d20-1320-454e-a425-82d52361373f",
   "metadata": {},
   "outputs": [
    {
     "data": {
      "text/plain": [
       "['2 to the power 0 is 1',\n",
       " '2 to the power 2 is 4',\n",
       " '2 to the power 4 is 16',\n",
       " '2 to the power 6 is 64',\n",
       " '2 to the power 8 is 256']"
      ]
     },
     "execution_count": 85,
     "metadata": {},
     "output_type": "execute_result"
    }
   ],
   "source": [
    "[f'2 to the power {power} is {2**power}' for power in range(10) if power%2 == 0]"
   ]
  },
  {
   "attachments": {},
   "cell_type": "markdown",
   "id": "8de4bcf8",
   "metadata": {},
   "source": [
    "# 3 Other useful stuff"
   ]
  },
  {
   "attachments": {},
   "cell_type": "markdown",
   "id": "ad5358c3",
   "metadata": {},
   "source": [
    "## 3.1 for with unpacking"
   ]
  },
  {
   "cell_type": "code",
   "execution_count": 86,
   "id": "b8b623b0-edaf-4776-8925-bdebb1ca9714",
   "metadata": {},
   "outputs": [
    {
     "name": "stdout",
     "output_type": "stream",
     "text": [
      "x = 4, y = 16, z = 64\n"
     ]
    }
   ],
   "source": [
    "x, y, z=[4, 16, 64]\n",
    "print(f'x = {x}, y = {y}, z = {z}')"
   ]
  },
  {
   "cell_type": "code",
   "execution_count": 87,
   "id": "96195136-d240-463b-9026-443cae465c37",
   "metadata": {},
   "outputs": [
    {
     "name": "stdout",
     "output_type": "stream",
     "text": [
      "Kenzaki is Kamen Rider Blade\n",
      "Hajime is Kamen Rider Chalice\n",
      "Tachibana-san is Kamen Rider Garren\n",
      "Mustuki is Kamen Rider Leangle\n"
     ]
    }
   ],
   "source": [
    "information = [['Blade', 'Kenzaki'],\n",
    "               ['Chalice', 'Hajime'],\n",
    "               ['Garren', 'Tachibana-san'],\n",
    "               ['Leangle', 'Mustuki']]\n",
    "\n",
    "for code_name, real_name in information:\n",
    "    print(f'{real_name} is Kamen Rider {code_name}')"
   ]
  },
  {
   "cell_type": "code",
   "execution_count": 88,
   "id": "7d0538ae-3c22-434a-8ea0-a04b4dd9b6c5",
   "metadata": {},
   "outputs": [
    {
     "name": "stdout",
     "output_type": "stream",
     "text": [
      "Blade is Kamen Rider Kenzaki\n",
      "Chalice is Kamen Rider Hajime\n",
      "Garren is Kamen Rider Tachibana-san\n",
      "Leangle is Kamen Rider Mustuki\n"
     ]
    }
   ],
   "source": [
    "information = [['Blade', 'Kenzaki'],\n",
    "               ['Chalice', 'Hajime'],\n",
    "               ['Garren', 'Tachibana-san'],\n",
    "               ['Leangle', 'Mustuki']]\n",
    "\n",
    "for real_name, code_name in information: #NOTE: Wrong order\n",
    "    print(f'{real_name} is Kamen Rider {code_name}')"
   ]
  },
  {
   "attachments": {},
   "cell_type": "markdown",
   "id": "7951683b",
   "metadata": {},
   "source": [
    "## 3.2 for with zip()"
   ]
  },
  {
   "cell_type": "code",
   "execution_count": 89,
   "id": "22c35eb3-5833-4763-9fff-34c567ee7d60",
   "metadata": {},
   "outputs": [],
   "source": [
    "alter_names = ['Blade', 'Chalice', 'Garren', \"Leangle\"]\n",
    "real_names = ['Kenzaki', 'Hajime', 'Tachibana-san', 'Mutsuki']"
   ]
  },
  {
   "cell_type": "code",
   "execution_count": 90,
   "id": "8428cd9a-e423-41e1-9360-6c70dbbc2cd5",
   "metadata": {},
   "outputs": [
    {
     "data": {
      "text/plain": [
       "<zip at 0x104d90700>"
      ]
     },
     "execution_count": 90,
     "metadata": {},
     "output_type": "execute_result"
    }
   ],
   "source": [
    "zip(real_names, alter_names) #not work until used; ie this puts the 2 lists into 1"
   ]
  },
  {
   "cell_type": "code",
   "execution_count": 91,
   "id": "69ae0b74-bf37-4b40-aa54-a9d5252f114f",
   "metadata": {},
   "outputs": [
    {
     "data": {
      "text/plain": [
       "[('Kenzaki', 'Blade'),\n",
       " ('Hajime', 'Chalice'),\n",
       " ('Tachibana-san', 'Garren'),\n",
       " ('Mutsuki', 'Leangle')]"
      ]
     },
     "execution_count": 91,
     "metadata": {},
     "output_type": "execute_result"
    }
   ],
   "source": [
    "#to show what the above can do (ie. use it)\n",
    "list(zip(real_names, alter_names))"
   ]
  },
  {
   "cell_type": "code",
   "execution_count": 92,
   "id": "d39dd181-030e-42b9-9a4f-6a775360d4f2",
   "metadata": {},
   "outputs": [
    {
     "name": "stdout",
     "output_type": "stream",
     "text": [
      "it's obvious that Kenzaki is Blade\n",
      "it's obvious that Hajime is Chalice\n",
      "it's obvious that Tachibana-san is Garren\n",
      "it's obvious that Mutsuki is Leangle\n"
     ]
    }
   ],
   "source": [
    "for real_name, alter_name in zip(real_names, alter_names):\n",
    "    print(f'it\\'s obvious that {real_name} is {alter_name}')"
   ]
  },
  {
   "attachments": {},
   "cell_type": "markdown",
   "id": "76d495fc",
   "metadata": {},
   "source": [
    "## 3.3 for with dictionaries"
   ]
  },
  {
   "cell_type": "code",
   "execution_count": 93,
   "id": "1f525f7e-61a2-4a75-8e24-0bce08c725d2",
   "metadata": {},
   "outputs": [
    {
     "data": {
      "text/plain": [
       "[('Blade', 'Kenzaki'),\n",
       " ('Chalice', 'Hajime'),\n",
       " ('Garren', 'Tachibana-san'),\n",
       " ('Leangle', 'Mustuki')]"
      ]
     },
     "execution_count": 93,
     "metadata": {},
     "output_type": "execute_result"
    }
   ],
   "source": [
    "information = {'Blade': 'Kenzaki',\n",
    "               'Chalice': 'Hajime',\n",
    "               'Garren': 'Tachibana-san',\n",
    "               'Leangle': 'Mustuki'}\n",
    "information.items()\n",
    "list(information.items()) #to go from dictionary to list"
   ]
  },
  {
   "cell_type": "code",
   "execution_count": 94,
   "id": "285238f3-4128-4579-85d6-629cd755b764",
   "metadata": {},
   "outputs": [
    {
     "data": {
      "text/plain": [
       "dict_keys(['Blade', 'Chalice', 'Garren', 'Leangle'])"
      ]
     },
     "execution_count": 94,
     "metadata": {},
     "output_type": "execute_result"
    }
   ],
   "source": [
    "information.keys()"
   ]
  },
  {
   "cell_type": "code",
   "execution_count": 95,
   "id": "120c0370-6b72-49e0-a1e8-0a70ffad999d",
   "metadata": {},
   "outputs": [
    {
     "name": "stdout",
     "output_type": "stream",
     "text": [
      "it's obvious that Kenzaki is Blade\n",
      "it's obvious that Hajime is Chalice\n",
      "it's obvious that Tachibana-san is Garren\n",
      "it's obvious that Mustuki is Leangle\n"
     ]
    }
   ],
   "source": [
    "for key, value in information.items():\n",
    "    print(f'it\\'s obvious that {value} is {key}')\n",
    "\n",
    "#similar to what the above things do, but rather inefficient"
   ]
  }
 ],
 "metadata": {
  "kernelspec": {
   "display_name": "Python 3 (ipykernel)",
   "language": "python",
   "name": "python3"
  },
  "language_info": {
   "codemirror_mode": {
    "name": "ipython",
    "version": 3
   },
   "file_extension": ".py",
   "mimetype": "text/x-python",
   "name": "python",
   "nbconvert_exporter": "python",
   "pygments_lexer": "ipython3",
   "version": "3.11.7"
  },
  "toc": {
   "base_numbering": 1,
   "nav_menu": {},
   "number_sections": true,
   "sideBar": true,
   "skip_h1_title": false,
   "title_cell": "Table of Contents",
   "title_sidebar": "Contents",
   "toc_cell": false,
   "toc_position": {},
   "toc_section_display": true,
   "toc_window_display": false
  },
  "vscode": {
   "interpreter": {
    "hash": "31f2aee4e71d21fbe5cf8b01ff0e069b9275f58929596ceb00d14d90e3e16cd6"
   }
  }
 },
 "nbformat": 4,
 "nbformat_minor": 5
}
