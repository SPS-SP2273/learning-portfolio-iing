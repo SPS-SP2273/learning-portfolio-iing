{
 "cells": [
  {
   "attachments": {},
   "cell_type": "markdown",
   "id": "123456",
   "metadata": {},
   "source": [
    "<div style=\"text-align:left;font-size:2em\"><span style=\"font-weight:bolder;font-size:1.25em\">SP2273 | Learning Portfolio</span><br><br><span style=\"font-weight:bold;color:darkred\">Using Jupyter (Need), Exercises</span></div>"
   ]
  },
  {
   "attachments": {},
   "cell_type": "markdown",
   "id": "a1d275ea",
   "metadata": {},
   "source": [
    "# Quadratic Equations"
   ]
  },
  {
   "attachments": {},
   "cell_type": "markdown",
   "id": "882f2582",
   "metadata": {},
   "source": [
    "## Introduction"
   ]
  },
  {
   "cell_type": "markdown",
   "id": "a771e447-295b-4cc7-87bb-63edabf78436",
   "metadata": {},
   "source": [
    "![](https://upload.wikimedia.org/wikipedia/commons/f/f8/Polynomialdeg2.svg)\n",
    "\n",
    "(Image from the *[Wikipedia page on Quadratic equations](https://en.wikipedia.org/wiki/Quadratic_equation)*)\n",
    "\n",
    "The general form of a quadratic equation is:\n",
    "$$\n",
    "ax^{2}+bx+c=0\n",
    "$$"
   ]
  },
  {
   "attachments": {},
   "cell_type": "markdown",
   "id": "d4372bd6",
   "metadata": {},
   "source": [
    "## Solutions"
   ]
  },
  {
   "cell_type": "markdown",
   "id": "c219674e-b98d-4581-b6e5-a3c21f96bddc",
   "metadata": {},
   "source": [
    "Provided $a\\ne 0$, we can use an elementary algebraic method called [completing the square](https://en.wikipedia.org/wiki/Completing_the_square) to show that a quadratic equation has the following solution:\n",
    "\n",
    "$$\n",
    "x = \\dfrac{-b \\pm\\sqrt{b^2-4ac}}{2a}\n",
    "$$\n"
   ]
  },
  {
   "attachments": {},
   "cell_type": "markdown",
   "id": "940bacb3",
   "metadata": {},
   "source": [
    "## Discriminant"
   ]
  },
  {
   "cell_type": "markdown",
   "id": "28d0e5fc-d9cd-4ed6-867d-7ab313a36fc9",
   "metadata": {},
   "source": [
    "The quantity $\\Delta = b^2 - 4ac$ is called the **discriminant** of the equation and decides the nature of its solutions. The table below shows the various possibilities. \n",
    "\n",
    "\n",
    "|Discriminant|Roots|\n",
    "|:--:|:---|\n",
    "|$\\Delta = b^2 - 4ac = 0$  | A single solution of $-b/(2a)$      |\n",
    "|$\\Delta = b^2 - 4ac \\gt 0$| Two distinct solutions             |\n",
    "|$\\Delta = b^2 - 4ac \\lt 0$| No real solutions; both are complex|"
   ]
  },
  {
   "cell_type": "markdown",
   "id": "fb8384da-ac22-48b9-b5fa-341283d65b2c",
   "metadata": {},
   "source": [
    "##### Exercise 2 (In your own words)"
   ]
  },
  {
   "cell_type": "markdown",
   "id": "b26aa251-12ce-4fe2-9feb-20d0148541fa",
   "metadata": {},
   "source": [
    "1. What is a Git repository?\n",
    "\n",
    "   It is a location which stores files.\n",
    "\n",
    "1. Git keeps tracks of ____BLANK____ in the files in our repository.\n",
    "\n",
    "    changes\n",
    "\n",
    "1. What is a commit?\n",
    "\n",
    "    It is the action of recording and managing changes.\n",
    "\n",
    "1. What is a push?\n",
    "\n",
    "    It is to upload changes.\n",
    "\n",
    "1. What is a pull?\n",
    "\n",
    "    It is to download changes.\n",
    "\n",
    "1. What is the difference between GitHub and GitHub Desktop?\n",
    "\n",
    "    GitHub can be used for repository management in the cloud, while GitHub Desktop is used on local machines."
   ]
  }
 ],
 "metadata": {
  "kernelspec": {
   "display_name": "Python 3 (ipykernel)",
   "language": "python",
   "name": "python3"
  },
  "language_info": {
   "codemirror_mode": {
    "name": "ipython",
    "version": 3
   },
   "file_extension": ".py",
   "mimetype": "text/x-python",
   "name": "python",
   "nbconvert_exporter": "python",
   "pygments_lexer": "ipython3",
   "version": "3.11.7"
  },
  "toc": {
   "base_numbering": 1,
   "nav_menu": {},
   "number_sections": true,
   "sideBar": true,
   "skip_h1_title": false,
   "title_cell": "Table of Contents",
   "title_sidebar": "Contents",
   "toc_cell": false,
   "toc_position": {},
   "toc_section_display": true,
   "toc_window_display": false
  },
  "vscode": {
   "interpreter": {
    "hash": "31f2aee4e71d21fbe5cf8b01ff0e069b9275f58929596ceb00d14d90e3e16cd6"
   }
  }
 },
 "nbformat": 4,
 "nbformat_minor": 5
}
