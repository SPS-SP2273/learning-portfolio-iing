{
 "cells": [
  {
   "attachments": {},
   "cell_type": "markdown",
   "id": "123456",
   "metadata": {},
   "source": [
    "<div style=\"text-align:left;font-size:2em\"><span style=\"font-weight:bolder;font-size:1.25em\">SP2273 | Learning Portfolio</span><br><br><span style=\"font-weight:bold;color:darkred\">Fundamentals (Need)</span></div>"
   ]
  },
  {
   "attachments": {},
   "cell_type": "markdown",
   "id": "1f66e304",
   "metadata": {},
   "source": [
    "# What to expect in this chapter"
   ]
  },
  {
   "attachments": {},
   "cell_type": "markdown",
   "id": "866d416d",
   "metadata": {},
   "source": [
    "# 1 Functions"
   ]
  },
  {
   "cell_type": "code",
   "execution_count": 1,
   "id": "4d19e3f6-f198-40da-ab37-db14a499bb08",
   "metadata": {},
   "outputs": [
    {
     "name": "stdout",
     "output_type": "stream",
     "text": [
      "Hello world!\n"
     ]
    }
   ],
   "source": [
    "print('Hello world!')"
   ]
  },
  {
   "attachments": {},
   "cell_type": "markdown",
   "id": "88bd1cd0",
   "metadata": {},
   "source": [
    "#### Remember\n",
    "- A function is ‘something’ that executes a specific task.\n",
    "- A function may or may not accept arguments.\n",
    "- We can define our own functions."
   ]
  },
  {
   "attachments": {},
   "cell_type": "markdown",
   "id": "7394584c",
   "metadata": {},
   "source": [
    "# 2 Python is interpreted"
   ]
  },
  {
   "cell_type": "code",
   "execution_count": 1,
   "id": "35dd651a-3fa4-42f0-ba4b-656c58078b7c",
   "metadata": {},
   "outputs": [
    {
     "name": "stdout",
     "output_type": "stream",
     "text": [
      "Hello World\n",
      "Hello World again\n",
      "僕が愛したすべての君へ\n"
     ]
    }
   ],
   "source": [
    "print('Hello World')\n",
    "print('Hello World again')\n",
    "print('僕が愛したすべての君へ')"
   ]
  },
  {
   "attachments": {},
   "cell_type": "markdown",
   "id": "cba93649",
   "metadata": {},
   "source": [
    "# 3 Python is sensitive."
   ]
  },
  {
   "cell_type": "code",
   "execution_count": 2,
   "id": "dcd4a7e7-b1be-44e0-a25a-f8c89b1d3b37",
   "metadata": {},
   "outputs": [
    {
     "name": "stdout",
     "output_type": "stream",
     "text": [
      "Hello World\n"
     ]
    },
    {
     "ename": "NameError",
     "evalue": "name 'Print' is not defined",
     "output_type": "error",
     "traceback": [
      "\u001b[0;31m---------------------------------------------------------------------------\u001b[0m",
      "\u001b[0;31mNameError\u001b[0m                                 Traceback (most recent call last)",
      "Cell \u001b[0;32mIn[2], line 2\u001b[0m\n\u001b[1;32m      1\u001b[0m \u001b[38;5;28mprint\u001b[39m(\u001b[38;5;124m'\u001b[39m\u001b[38;5;124mHello World\u001b[39m\u001b[38;5;124m'\u001b[39m)\n\u001b[0;32m----> 2\u001b[0m \u001b[43mPrint\u001b[49m(\u001b[38;5;124m'\u001b[39m\u001b[38;5;124mHello World\u001b[39m\u001b[38;5;124m'\u001b[39m)\n",
      "\u001b[0;31mNameError\u001b[0m: name 'Print' is not defined"
     ]
    }
   ],
   "source": [
    "print('Hello World')\n",
    "Print('Hello World')"
   ]
  },
  {
   "attachments": {},
   "cell_type": "markdown",
   "id": "b55f5931",
   "metadata": {},
   "source": [
    "#### Remember\n",
    "- Python is case-sensitive."
   ]
  },
  {
   "attachments": {},
   "cell_type": "markdown",
   "id": "1a56156a",
   "metadata": {},
   "source": [
    "# 4 Comments"
   ]
  },
  {
   "cell_type": "code",
   "execution_count": 36,
   "id": "d229a285-f16d-4458-b7d6-784e4c5dd93a",
   "metadata": {},
   "outputs": [
    {
     "name": "stdout",
     "output_type": "stream",
     "text": [
      "One\n",
      "Three\n"
     ]
    }
   ],
   "source": [
    "# This is a comment\n",
    "print('One')              \n",
    "# print('Two')            # this line is ignored\n",
    "print('Three')           "
   ]
  },
  {
   "cell_type": "code",
   "execution_count": 9,
   "id": "7fa5d7e1-8b71-419a-a12f-1440b88dc53b",
   "metadata": {},
   "outputs": [
    {
     "data": {
      "text/plain": [
       "'\\nMultiliners?\\nYea sign me\\nUP\\n'"
      ]
     },
     "execution_count": 9,
     "metadata": {},
     "output_type": "execute_result"
    }
   ],
   "source": [
    "#Something addtional, please ignore\n",
    "\"\"\"\n",
    "Multiliners?\n",
    "Yea sign me\n",
    "UP\n",
    "\"\"\""
   ]
  },
  {
   "attachments": {},
   "cell_type": "markdown",
   "id": "3b8b35ba",
   "metadata": {},
   "source": [
    "#### Remember\n",
    "- Use comments to emphasize the purpose of the code."
   ]
  },
  {
   "attachments": {},
   "cell_type": "markdown",
   "id": "d96dabfd",
   "metadata": {},
   "source": [
    "# 5 = is not the same as =="
   ]
  },
  {
   "cell_type": "code",
   "execution_count": 2,
   "id": "8c32d862-4b79-4636-9b23-a856f4c1f6ad",
   "metadata": {},
   "outputs": [
    {
     "name": "stdout",
     "output_type": "stream",
     "text": [
      "Batman\n"
     ]
    },
    {
     "data": {
      "text/plain": [
       "False"
      ]
     },
     "execution_count": 2,
     "metadata": {},
     "output_type": "execute_result"
    }
   ],
   "source": [
    "name = 'Batman'   # Assign 'Batman' to name\n",
    "print(name)\n",
    "\n",
    "name == 'Superman'  # Tell me if name is equal to 'Batman'?\n",
    "                  # Answer:  True or False"
   ]
  },
  {
   "attachments": {},
   "cell_type": "markdown",
   "id": "990bc5c5",
   "metadata": {},
   "source": [
    "#### Remember\n",
    "- = is not the same as ==.\n",
    "- = assigns a value and\n",
    "- == asks a question."
   ]
  },
  {
   "attachments": {},
   "cell_type": "markdown",
   "id": "149a96b0",
   "metadata": {},
   "source": [
    "# 6 Use if to make decisions"
   ]
  },
  {
   "cell_type": "code",
   "execution_count": 13,
   "id": "9fc281f0-1e51-4e13-a033-047d25be4718",
   "metadata": {},
   "outputs": [
    {
     "name": "stdout",
     "output_type": "stream",
     "text": [
      "Goodbye\n"
     ]
    }
   ],
   "source": [
    "time = 'dawn'\n",
    "\n",
    "if time == 'morning':\n",
    "    print('Good morning') #When it is true, indentation is needed, ':' to indicate when sth starts\n",
    "else:\n",
    "    print('Goodbye') #When it is false"
   ]
  },
  {
   "attachments": {},
   "cell_type": "markdown",
   "id": "f8b846b4",
   "metadata": {},
   "source": [
    "#### Remember\n",
    "- You can use if to make decisions."
   ]
  },
  {
   "attachments": {},
   "cell_type": "markdown",
   "id": "d4708f54",
   "metadata": {},
   "source": [
    "# 7 Indentations (spaces) are sooo IMPORTANT!"
   ]
  },
  {
   "cell_type": "code",
   "execution_count": 14,
   "id": "4e90e9f3-eeba-4adf-a6e2-b3ae4dd1dec9",
   "metadata": {},
   "outputs": [
    {
     "ename": "IndentationError",
     "evalue": "unexpected indent (3425192678.py, line 5)",
     "output_type": "error",
     "traceback": [
      "\u001b[0;36m  Cell \u001b[0;32mIn[14], line 5\u001b[0;36m\u001b[0m\n\u001b[0;31m    print(social_media)\u001b[0m\n\u001b[0m    ^\u001b[0m\n\u001b[0;31mIndentationError\u001b[0m\u001b[0;31m:\u001b[0m unexpected indent\n"
     ]
    }
   ],
   "source": [
    "social_media = twitter\n",
    "print(social_media)\n",
    "\n",
    "social_media = twitter\n",
    " print(social_media)"
   ]
  },
  {
   "attachments": {},
   "cell_type": "markdown",
   "id": "c7772eb3",
   "metadata": {},
   "source": [
    "#### Remember\n",
    "- Indentations play a crucial role in Python; do not use them indiscriminately.\n",
    "- : is used to designate a block of code."
   ]
  },
  {
   "cell_type": "markdown",
   "id": "667c864e-3886-4a79-ac56-26ae010d1ba6",
   "metadata": {},
   "source": [
    "# 8 ‘age’ is English, age is a variable."
   ]
  },
  {
   "cell_type": "code",
   "execution_count": 35,
   "id": "160dd5d9-e091-4b62-aba6-f1d9490f7c6d",
   "metadata": {},
   "outputs": [
    {
     "name": "stdout",
     "output_type": "stream",
     "text": [
      "24\n",
      "age\n",
      "You're twenty-four years old.\n"
     ]
    }
   ],
   "source": [
    "age = 24\n",
    "print(age)       # age as a variable\n",
    "print(\"age\")     # English\n",
    "\n",
    "print(\"You're twenty-four years old.\")"
   ]
  },
  {
   "attachments": {},
   "cell_type": "markdown",
   "id": "e96b386a",
   "metadata": {},
   "source": [
    "# 9 Brackets"
   ]
  },
  {
   "cell_type": "code",
   "execution_count": 16,
   "id": "85ea71fe-9bcf-4a9d-b47d-5b6614e4fce1",
   "metadata": {},
   "outputs": [
    {
     "name": "stdout",
     "output_type": "stream",
     "text": [
      "we need you brackets\n"
     ]
    }
   ],
   "source": [
    "print('we need you brackets')             # In functions"
   ]
  },
  {
   "cell_type": "code",
   "execution_count": 17,
   "id": "11454318-f617-43fe-9d0f-f93e87a79802",
   "metadata": {},
   "outputs": [
    {
     "data": {
      "text/plain": [
       "40800"
      ]
     },
     "execution_count": 17,
     "metadata": {},
     "output_type": "execute_result"
    }
   ],
   "source": [
    "(34 + 1241) * 32               # For math"
   ]
  },
  {
   "cell_type": "code",
   "execution_count": 28,
   "id": "8719f863-747f-41ec-bf9d-31bdf756f130",
   "metadata": {},
   "outputs": [
    {
     "name": "stdout",
     "output_type": "stream",
     "text": [
      "['mad', 'crazy', 'insane', 'unhinged', 'lunatic']\n",
      "[['red', 'Jesse'], ['pink', 'Kyomo'], ['black', 'Hokuto'], ['yellow', 'Kochi'], ['blue', 'Juri'], ['green', 'Shintarou']]\n"
     ]
    }
   ],
   "source": [
    "synonyms = ['mad', 'crazy', 'insane', 'unhinged', 'lunatic']   # A 1D list\n",
    "\n",
    "member_list = [ [\"red\", \"Jesse\"],  [\"pink\", \"Kyomo\"], [\"black\", \"Hokuto\"], [\"yellow\", \"Kochi\"], [\"blue\", \"Juri\"]\n",
    ", [\"green\", \"Shintarou\"]]\n",
    "print(synonyms)\n",
    "print(member_list)"
   ]
  },
  {
   "cell_type": "code",
   "execution_count": 33,
   "id": "b88b2923-e552-4dcd-b6b3-78f8c895e4cd",
   "metadata": {},
   "outputs": [
    {
     "name": "stdout",
     "output_type": "stream",
     "text": [
      "Kamen Rider Blade\n",
      "Blay Rouzer\n"
     ]
    }
   ],
   "source": [
    "profile = {\n",
    "    'Names': 'Kamen Rider Blade', 'Real Name': 'Kenzaki Kazuma',  'Age': 42, 'Type': 'Hero', 'Motif': 'Hercules Beetle', 'Weapon': 'Blay Rouzer'\n",
    "}\n",
    "print(profile['Names']) \n",
    "print(profile['Weapon'])"
   ]
  },
  {
   "attachments": {},
   "cell_type": "markdown",
   "id": "5d984ac5",
   "metadata": {},
   "source": [
    "# 10 Giving Python superpowers with Packages"
   ]
  },
  {
   "attachments": {},
   "cell_type": "markdown",
   "id": "4b0c4353",
   "metadata": {},
   "source": [
    "## 10.1 Some Context"
   ]
  },
  {
   "cell_type": "code",
   "execution_count": 3,
   "id": "2eae7057-5d69-45ad-82df-917fe1c19c0d",
   "metadata": {},
   "outputs": [
    {
     "ename": "NameError",
     "evalue": "name 'sqrt' is not defined",
     "output_type": "error",
     "traceback": [
      "\u001b[0;31m---------------------------------------------------------------------------\u001b[0m",
      "\u001b[0;31mNameError\u001b[0m                                 Traceback (most recent call last)",
      "Cell \u001b[0;32mIn[3], line 1\u001b[0m\n\u001b[0;32m----> 1\u001b[0m \u001b[43msqrt\u001b[49m(\u001b[38;5;241m4\u001b[39m)\n",
      "\u001b[0;31mNameError\u001b[0m: name 'sqrt' is not defined"
     ]
    }
   ],
   "source": [
    "sqrt(4)"
   ]
  },
  {
   "attachments": {},
   "cell_type": "markdown",
   "id": "71ee707b",
   "metadata": {},
   "source": [
    "## 10.2 Importing the math package"
   ]
  },
  {
   "cell_type": "code",
   "execution_count": 6,
   "id": "f2d429d4-b6b6-44ea-908c-5841633465d4",
   "metadata": {},
   "outputs": [],
   "source": [
    "import math"
   ]
  },
  {
   "cell_type": "code",
   "execution_count": 12,
   "id": "4ac5a9dc-3fcd-461c-88ad-151445fcbaf5",
   "metadata": {},
   "outputs": [
    {
     "data": {
      "text/plain": [
       "3.0"
      ]
     },
     "execution_count": 12,
     "metadata": {},
     "output_type": "execute_result"
    }
   ],
   "source": [
    "math.sqrt(9)"
   ]
  },
  {
   "cell_type": "code",
   "execution_count": 13,
   "id": "42b07c60-cada-4fbe-b128-9e8903da6633",
   "metadata": {},
   "outputs": [
    {
     "data": {
      "text/plain": [
       "1"
      ]
     },
     "execution_count": 13,
     "metadata": {},
     "output_type": "execute_result"
    }
   ],
   "source": [
    "math.factorial(0)"
   ]
  },
  {
   "attachments": {},
   "cell_type": "markdown",
   "id": "53c9dbc9",
   "metadata": {},
   "source": [
    "## 10.3 Importing the numpy package"
   ]
  },
  {
   "cell_type": "code",
   "execution_count": 16,
   "id": "0905d2cd-3308-416c-b874-266ec1f19687",
   "metadata": {},
   "outputs": [],
   "source": [
    "import numpy as np "
   ]
  },
  {
   "cell_type": "code",
   "execution_count": 7,
   "id": "646f7b0b-2300-4176-92a0-555727414649",
   "metadata": {},
   "outputs": [
    {
     "data": {
      "text/plain": [
       "2.23606797749979"
      ]
     },
     "execution_count": 7,
     "metadata": {},
     "output_type": "execute_result"
    }
   ],
   "source": [
    "np.sqrt(5)"
   ]
  },
  {
   "attachments": {},
   "cell_type": "markdown",
   "id": "f63010a7",
   "metadata": {},
   "source": [
    "## 10.4 Why so many packages?"
   ]
  },
  {
   "cell_type": "code",
   "execution_count": 17,
   "id": "f492d5b1-dc1a-4bcf-aded-4a8d23f0933f",
   "metadata": {},
   "outputs": [
    {
     "data": {
      "text/plain": [
       "array([0.        , 0.47942554, 0.3271947 ])"
      ]
     },
     "execution_count": 17,
     "metadata": {},
     "output_type": "execute_result"
    }
   ],
   "source": [
    "np.sin([0, 1/2, 1/3])"
   ]
  },
  {
   "attachments": {},
   "cell_type": "markdown",
   "id": "70388139",
   "metadata": {},
   "source": [
    "#### Remember\n",
    "- You can give Python ‘superpowers’ by importing packages.\n",
    "- You must import a package only once.\n",
    "- There are different ways to import packages (e.g. with or without an ‘alias’)."
   ]
  },
  {
   "attachments": {},
   "cell_type": "markdown",
   "id": "a040f9b8",
   "metadata": {},
   "source": [
    "# 11 The dot (.)"
   ]
  },
  {
   "cell_type": "code",
   "execution_count": 31,
   "id": "4a6fc503-6bb5-413b-b75d-7a0a41fec152",
   "metadata": {},
   "outputs": [
    {
     "data": {
      "text/plain": [
       "['俺には夢がない', 'でもなー、夢を守ることはできる', '変身！']"
      ]
     },
     "execution_count": 31,
     "metadata": {},
     "output_type": "execute_result"
    }
   ],
   "source": [
    "#dot is used to indicate ownership. i belong to you hehe (...)\n",
    "\n",
    "\"俺には夢がない。でもなー、夢を守ることはできる。変身！\".split('。')\n",
    "\n",
    "#1234.split() #doesn't work for number"
   ]
  },
  {
   "cell_type": "code",
   "execution_count": 20,
   "id": "9f0defa5-824c-4807-a162-afe22c8423c2",
   "metadata": {},
   "outputs": [
    {
     "data": {
      "text/plain": [
       "['Did Hannah ', 'ee bee', '? Hannah did.']"
      ]
     },
     "execution_count": 20,
     "metadata": {},
     "output_type": "execute_result"
    }
   ],
   "source": [
    "\"Did Hannah see bees? Hannah did.\".split()\n",
    "'Did Hannah see bees? Hannah did.'.split('s')"
   ]
  },
  {
   "cell_type": "code",
   "execution_count": 23,
   "id": "82dc0410-8e86-4cc1-8144-9481488ecc63",
   "metadata": {},
   "outputs": [
    {
     "data": {
      "text/plain": [
       "'AAAAAAAAAABB'"
      ]
     },
     "execution_count": 23,
     "metadata": {},
     "output_type": "execute_result"
    }
   ],
   "source": [
    "'apple'.upper()\n",
    "'apple'.title() #a function\n",
    "x=1j+10\n",
    "x.real #not a function, hence have no brackets, just a property\n",
    "x.imag\n",
    "'A'*10+'B'*2"
   ]
  },
  {
   "cell_type": "code",
   "execution_count": 25,
   "id": "11b31314-29dd-4f5c-8e39-ca59861e2f69",
   "metadata": {},
   "outputs": [],
   "source": [
    "def my_print(text):\n",
    "    print(text.upper())"
   ]
  }
 ],
 "metadata": {
  "kernelspec": {
   "display_name": "Python 3 (ipykernel)",
   "language": "python",
   "name": "python3"
  },
  "language_info": {
   "codemirror_mode": {
    "name": "ipython",
    "version": 3
   },
   "file_extension": ".py",
   "mimetype": "text/x-python",
   "name": "python",
   "nbconvert_exporter": "python",
   "pygments_lexer": "ipython3",
   "version": "3.11.7"
  },
  "toc": {
   "base_numbering": 1,
   "nav_menu": {},
   "number_sections": true,
   "sideBar": true,
   "skip_h1_title": false,
   "title_cell": "Table of Contents",
   "title_sidebar": "Contents",
   "toc_cell": false,
   "toc_position": {},
   "toc_section_display": true,
   "toc_window_display": false
  },
  "vscode": {
   "interpreter": {
    "hash": "31f2aee4e71d21fbe5cf8b01ff0e069b9275f58929596ceb00d14d90e3e16cd6"
   }
  }
 },
 "nbformat": 4,
 "nbformat_minor": 5
}
