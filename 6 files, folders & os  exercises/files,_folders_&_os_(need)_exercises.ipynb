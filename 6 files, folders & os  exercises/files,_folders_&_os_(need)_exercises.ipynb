{
 "cells": [
  {
   "attachments": {},
   "cell_type": "markdown",
   "id": "123456",
   "metadata": {},
   "source": [
    "<div style=\"text-align:left;font-size:2em\"><span style=\"font-weight:bolder;font-size:1.25em\">SP2273 | Learning Portfolio</span><br><br><span style=\"font-weight:bold;color:darkred\">Files, Folders & OS (Need) Exercises</span></div>"
   ]
  },
  {
   "cell_type": "code",
   "execution_count": 1,
   "id": "c700b1fb-38e4-4ab5-8465-ad00d1365cef",
   "metadata": {},
   "outputs": [],
   "source": [
    "import os\n",
    "import glob\n",
    "import shutil"
   ]
  },
  {
   "cell_type": "markdown",
   "id": "754b8a2b-8da2-4955-ae12-bcc2d731abbb",
   "metadata": {},
   "source": [
    "##### Task 1"
   ]
  },
  {
   "cell_type": "code",
   "execution_count": 2,
   "id": "1cbce9fe-fb87-41fd-bd00-c5b7249dbf9c",
   "metadata": {},
   "outputs": [],
   "source": [
    "mapping = {\n",
    "'jan': '01', 'feb': '02', 'mar': '03',\n",
    "'apr': '04', 'may': '05', 'jun': '06',\n",
    "'jul': '07', 'aug': '08', 'sep': '09',\n",
    "'oct': '10', 'nov': '11', 'dec': '12'\n",
    "}"
   ]
  },
  {
   "cell_type": "code",
   "execution_count": 3,
   "id": "d2cfc3ad-7fc6-42bc-9e1b-d1c0c7098673",
   "metadata": {},
   "outputs": [
    {
     "data": {
      "text/plain": [
       "'10'"
      ]
     },
     "execution_count": 3,
     "metadata": {},
     "output_type": "execute_result"
    }
   ],
   "source": [
    "###Additional stuff\n",
    "#not able to index\n",
    "#mapping.values()[-3]\n",
    "#able to index if it is converted to a list\n",
    "list(mapping.values())[-3]"
   ]
  },
  {
   "cell_type": "code",
   "execution_count": 4,
   "id": "73a8ddb2-20ef-499a-a136-aa52f26621e0",
   "metadata": {},
   "outputs": [],
   "source": [
    "filename = 'oct-08_singapore.txt'"
   ]
  },
  {
   "cell_type": "code",
   "execution_count": 5,
   "id": "b329d9ba-3619-4687-9a50-c4a8dcfd87ac",
   "metadata": {},
   "outputs": [],
   "source": [
    "month, rest = filename.split('-')"
   ]
  },
  {
   "cell_type": "code",
   "execution_count": 6,
   "id": "b8e0b119-8ec9-4af8-93e8-031122936d10",
   "metadata": {},
   "outputs": [],
   "source": [
    "dd, city = rest.split('_')"
   ]
  },
  {
   "cell_type": "code",
   "execution_count": 7,
   "id": "535091b6-4130-4529-9769-cf034dcf4c71",
   "metadata": {},
   "outputs": [],
   "source": [
    "mm = mapping[month]"
   ]
  },
  {
   "cell_type": "code",
   "execution_count": 8,
   "id": "bd6f317b-6c14-4d5b-81bd-187d2d755235",
   "metadata": {},
   "outputs": [
    {
     "name": "stdout",
     "output_type": "stream",
     "text": [
      "10-08-singapore.txt\n"
     ]
    }
   ],
   "source": [
    "new_filename = print(f'{mm}-{dd}-{city}')"
   ]
  },
  {
   "cell_type": "markdown",
   "id": "87ca861b-7c63-42ed-9373-1d3ab86dde9a",
   "metadata": {},
   "source": [
    "##### Task 2"
   ]
  },
  {
   "cell_type": "code",
   "execution_count": 9,
   "id": "c59e1a6c-7535-4489-af9f-95f6464a5649",
   "metadata": {},
   "outputs": [],
   "source": [
    "def rename_my_file(old_file_name):\n",
    "    month, rest = old_file_name.split('-')\n",
    "    dd, city = rest.split('_')\n",
    "    mm = mapping[month]\n",
    "    new_file_name = f'{mm}-{dd}-{city}'\n",
    "    return new_file_name"
   ]
  },
  {
   "cell_type": "code",
   "execution_count": 10,
   "id": "c6c3da90-a0d7-457d-91fa-d7485a7d65e3",
   "metadata": {},
   "outputs": [
    {
     "data": {
      "text/plain": [
       "'10-08-singapore.txt'"
      ]
     },
     "execution_count": 10,
     "metadata": {},
     "output_type": "execute_result"
    }
   ],
   "source": [
    "rename_my_file('oct-08_singapore.txt')"
   ]
  },
  {
   "cell_type": "markdown",
   "id": "c42302b6-40f5-43fa-99ff-408f915e8cf8",
   "metadata": {},
   "source": [
    "##### Task 3"
   ]
  },
  {
   "cell_type": "code",
   "execution_count": 11,
   "id": "8873c942-d956-45f7-a104-31b222ee20e6",
   "metadata": {},
   "outputs": [],
   "source": [
    "file_names = ['oct-08_singapore.txt', 'jul-10_cairo.txt', 'may-15_dhaka.txt',\n",
    " 'may-13_cairo.txt', 'oct-21_cairo.txt', 'jan-10_singapore.txt',\n",
    " 'jun-20_tokyo.txt', 'aug-06_jakarta.txt', 'dec-21_karachi.txt',\n",
    " 'jan-01_tokyo.txt']"
   ]
  },
  {
   "cell_type": "code",
   "execution_count": 12,
   "id": "af0bccac-9b99-4d84-b899-13b902022377",
   "metadata": {},
   "outputs": [
    {
     "name": "stdout",
     "output_type": "stream",
     "text": [
      "oct-08_singapore.txt --> 10-08-singapore.txt\n",
      "jul-10_cairo.txt --> 07-10-cairo.txt\n",
      "may-15_dhaka.txt --> 05-15-dhaka.txt\n",
      "may-13_cairo.txt --> 05-13-cairo.txt\n",
      "oct-21_cairo.txt --> 10-21-cairo.txt\n",
      "jan-10_singapore.txt --> 01-10-singapore.txt\n",
      "jun-20_tokyo.txt --> 06-20-tokyo.txt\n",
      "aug-06_jakarta.txt --> 08-06-jakarta.txt\n",
      "dec-21_karachi.txt --> 12-21-karachi.txt\n",
      "jan-01_tokyo.txt --> 01-01-tokyo.txt\n"
     ]
    }
   ],
   "source": [
    "for old_file_name in file_names:\n",
    "    try:                               #note to self: try-except is sth like a subset of if-else which checks for errors \n",
    "        new_file_name = rename_my_file(old_file_name)\n",
    "        print(f'{old_file_name} --> {new_file_name}')\n",
    "    except:\n",
    "        print('error')"
   ]
  },
  {
   "cell_type": "markdown",
   "id": "e45cd547-d9eb-4995-9937-96f359cc5fb3",
   "metadata": {},
   "source": [
    "##### Task 4"
   ]
  },
  {
   "cell_type": "code",
   "execution_count": 13,
   "id": "34af6490-d2c0-438f-afbb-2f79a2dcd3c2",
   "metadata": {},
   "outputs": [],
   "source": [
    "#think of this like a tree branch\n",
    "os.chdir(os.path.join('os-collaboration-exercise-data'))"
   ]
  },
  {
   "cell_type": "code",
   "execution_count": 14,
   "id": "d020b5e2-9537-4464-bf66-d1b733d06b5d",
   "metadata": {
    "scrolled": true
   },
   "outputs": [],
   "source": [
    "files = glob.glob('*.txt')\n",
    "for old_file_name in files:\n",
    "    try: \n",
    "        new_file_name = rename_my_file(old_file_name)\n",
    "        os.rename(old_file_name, new_file_name)\n",
    "    except:\n",
    "        print('error')"
   ]
  },
  {
   "cell_type": "markdown",
   "id": "60564f78-87e5-4624-af82-15e8cfb5ab50",
   "metadata": {},
   "source": [
    "##### Task 5"
   ]
  },
  {
   "cell_type": "code",
   "execution_count": 17,
   "id": "bf783acf-a8c2-40d6-b2ea-38784fd60eab",
   "metadata": {},
   "outputs": [],
   "source": [
    "folder_name = ['Cairo', 'Dhaka', 'Jakarta', 'Karachi', 'Manila',\n",
    " 'Melbourne', 'Osaka', 'Shanghai', 'Singapore', 'Tokyo']"
   ]
  },
  {
   "cell_type": "code",
   "execution_count": 18,
   "id": "8a073467-9c7f-4143-a844-96d40ba8cebb",
   "metadata": {},
   "outputs": [
    {
     "ename": "TypeError",
     "evalue": "stat: path should be string, bytes, os.PathLike or integer, not list",
     "output_type": "error",
     "traceback": [
      "\u001b[0;31m---------------------------------------------------------------------------\u001b[0m",
      "\u001b[0;31mTypeError\u001b[0m                                 Traceback (most recent call last)",
      "Cell \u001b[0;32mIn[18], line 3\u001b[0m\n\u001b[1;32m      1\u001b[0m \u001b[38;5;28;01mfor\u001b[39;00m city \u001b[38;5;129;01min\u001b[39;00m folder_name:\n\u001b[1;32m      2\u001b[0m     folder_path \u001b[38;5;241m=\u001b[39m os\u001b[38;5;241m.\u001b[39mpath\u001b[38;5;241m.\u001b[39mjoin(city)\n\u001b[0;32m----> 3\u001b[0m     \u001b[38;5;28;01mif\u001b[39;00m \u001b[38;5;129;01mnot\u001b[39;00m \u001b[43mos\u001b[49m\u001b[38;5;241;43m.\u001b[39;49m\u001b[43mpath\u001b[49m\u001b[38;5;241;43m.\u001b[39;49m\u001b[43mexists\u001b[49m\u001b[43m(\u001b[49m\u001b[43mfolder_name\u001b[49m\u001b[43m)\u001b[49m:\n\u001b[1;32m      4\u001b[0m         os\u001b[38;5;241m.\u001b[39mmkdir(folder_name)\n",
      "File \u001b[0;32m<frozen genericpath>:19\u001b[0m, in \u001b[0;36mexists\u001b[0;34m(path)\u001b[0m\n",
      "\u001b[0;31mTypeError\u001b[0m: stat: path should be string, bytes, os.PathLike or integer, not list"
     ]
    }
   ],
   "source": [
    "for city in folder_name:\n",
    "    folder_path = os.path.join(city)\n",
    "    if not os.path.exists(folder_name):\n",
    "        os.mkdir(folder_name)"
   ]
  },
  {
   "cell_type": "code",
   "execution_count": 16,
   "id": "fe8874aa-6d7e-46e1-9626-f12df93b777c",
   "metadata": {},
   "outputs": [
    {
     "name": "stdout",
     "output_type": "stream",
     "text": [
      "/Users/guestuser/Desktop/Y1S2 subjects/SP2273/GitHub/learning-portfolio-iing/6 files, folders & os  exercises/os-collaboration-exercise-data\n"
     ]
    }
   ],
   "source": [
    "!pwd"
   ]
  },
  {
   "cell_type": "markdown",
   "id": "2cfbecaa-1655-4674-b013-9a210fa32bb6",
   "metadata": {},
   "source": [
    "##### Task 6"
   ]
  },
  {
   "cell_type": "code",
   "execution_count": 57,
   "id": "eaab1a16-d2bb-447f-b62c-c585d29f8412",
   "metadata": {
    "scrolled": true
   },
   "outputs": [],
   "source": [
    "cairo_files = glob.glob('*cairo*.txt')"
   ]
  },
  {
   "cell_type": "code",
   "execution_count": 58,
   "id": "494ac157-7fe3-4506-8d35-1b21ae861ce3",
   "metadata": {},
   "outputs": [],
   "source": [
    "for cairo_files in Cairo:\n",
    "    path_to_destination = os.path.join('Cairo')\n",
    "    shutil.copy(cairo_files, path_to_destination)"
   ]
  },
  {
   "cell_type": "markdown",
   "id": "0903eee0-a94a-46e7-b9eb-77448d6eb80c",
   "metadata": {},
   "source": [
    "##### Task 7"
   ]
  },
  {
   "cell_type": "code",
   "execution_count": 75,
   "id": "7e673325-b71e-4fd6-a158-cc8023618e71",
   "metadata": {},
   "outputs": [],
   "source": [
    "city_files = glob.glob(f'*{city}*.txt')"
   ]
  },
  {
   "cell_type": "code",
   "execution_count": 78,
   "id": "fea0a66d-0a72-4ca7-a069-cd07a1b03f85",
   "metadata": {},
   "outputs": [
    {
     "ename": "TypeError",
     "evalue": "expected str, bytes or os.PathLike object, not list",
     "output_type": "error",
     "traceback": [
      "\u001b[0;31m---------------------------------------------------------------------------\u001b[0m",
      "\u001b[0;31mTypeError\u001b[0m                                 Traceback (most recent call last)",
      "Cell \u001b[0;32mIn[78], line 2\u001b[0m\n\u001b[1;32m      1\u001b[0m \u001b[38;5;28;01mfor\u001b[39;00m city_files \u001b[38;5;129;01min\u001b[39;00m cities:\n\u001b[0;32m----> 2\u001b[0m     path_to_destination \u001b[38;5;241m=\u001b[39m \u001b[43mos\u001b[49m\u001b[38;5;241;43m.\u001b[39;49m\u001b[43mpath\u001b[49m\u001b[38;5;241;43m.\u001b[39;49m\u001b[43mjoin\u001b[49m\u001b[43m(\u001b[49m\u001b[43mcities\u001b[49m\u001b[43m)\u001b[49m\n\u001b[1;32m      3\u001b[0m     \u001b[38;5;28;01mif\u001b[39;00m \u001b[38;5;129;01mnot\u001b[39;00m os\u001b[38;5;241m.\u001b[39mpath\u001b[38;5;241m.\u001b[39mexists(path_to_destination):\n\u001b[1;32m      4\u001b[0m         \u001b[38;5;66;03m#shutil.copy(cairo_files, path_to_destination)\u001b[39;00m\n\u001b[1;32m      5\u001b[0m         \u001b[38;5;28mprint\u001b[39m(\u001b[38;5;124mf\u001b[39m\u001b[38;5;124m'\u001b[39m\u001b[38;5;124mCopied file to \u001b[39m\u001b[38;5;132;01m{\u001b[39;00mpath_to_destination\u001b[38;5;132;01m}\u001b[39;00m\u001b[38;5;124m'\u001b[39m)\n",
      "File \u001b[0;32m<frozen posixpath>:76\u001b[0m, in \u001b[0;36mjoin\u001b[0;34m(a, *p)\u001b[0m\n",
      "\u001b[0;31mTypeError\u001b[0m: expected str, bytes or os.PathLike object, not list"
     ]
    }
   ],
   "source": [
    "for city_files in cities:\n",
    "    path_to_destination = os.path.join(cities)\n",
    "    if not os.path.exists(path_to_destination):\n",
    "        #shutil.copy(cairo_files, path_to_destination)\n",
    "        print(f'Copied file to {path_to_destination}')"
   ]
  },
  {
   "cell_type": "code",
   "execution_count": null,
   "id": "c53fc322-99e2-4446-a6a5-a17a2a5229e6",
   "metadata": {},
   "outputs": [],
   "source": []
  }
 ],
 "metadata": {
  "kernelspec": {
   "display_name": "Python 3 (ipykernel)",
   "language": "python",
   "name": "python3"
  },
  "language_info": {
   "codemirror_mode": {
    "name": "ipython",
    "version": 3
   },
   "file_extension": ".py",
   "mimetype": "text/x-python",
   "name": "python",
   "nbconvert_exporter": "python",
   "pygments_lexer": "ipython3",
   "version": "3.11.7"
  },
  "toc": {
   "base_numbering": 1,
   "nav_menu": {},
   "number_sections": true,
   "sideBar": true,
   "skip_h1_title": false,
   "title_cell": "Table of Contents",
   "title_sidebar": "Contents",
   "toc_cell": false,
   "toc_position": {},
   "toc_section_display": true,
   "toc_window_display": false
  },
  "vscode": {
   "interpreter": {
    "hash": "31f2aee4e71d21fbe5cf8b01ff0e069b9275f58929596ceb00d14d90e3e16cd6"
   }
  }
 },
 "nbformat": 4,
 "nbformat_minor": 5
}
